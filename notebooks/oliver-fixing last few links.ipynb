{
 "cells": [
  {
   "cell_type": "code",
   "execution_count": 3,
   "id": "dab0865b-9cea-419f-bd43-8212ad6e46cc",
   "metadata": {},
   "outputs": [
    {
     "name": "stdout",
     "output_type": "stream",
     "text": [
      "Defaulting to user installation because normal site-packages is not writeable\n",
      "Requirement already satisfied: pandas-jsonlines in /home/oliver/.local/lib/python3.10/site-packages (1.0)\n",
      "Requirement already satisfied: pip>=9 in /usr/lib/python3.10/site-packages (from pandas-jsonlines) (21.2.3)\n",
      "Requirement already satisfied: flake8 in /home/oliver/.local/lib/python3.10/site-packages (from pandas-jsonlines) (4.0.1)\n",
      "Requirement already satisfied: black in /home/oliver/.local/lib/python3.10/site-packages (from pandas-jsonlines) (22.1.0)\n",
      "Requirement already satisfied: coverage in /home/oliver/.local/lib/python3.10/site-packages (from pandas-jsonlines) (6.3.2)\n",
      "Requirement already satisfied: yapf in /home/oliver/.local/lib/python3.10/site-packages (from pandas-jsonlines) (0.32.0)\n",
      "Requirement already satisfied: pytest in /home/oliver/.local/lib/python3.10/site-packages (from pandas-jsonlines) (7.0.1)\n",
      "Requirement already satisfied: numpy in /usr/lib64/python3.10/site-packages (from pandas-jsonlines) (1.21.5)\n",
      "Requirement already satisfied: setuptools>=26 in /usr/lib/python3.10/site-packages (from pandas-jsonlines) (57.4.0)\n",
      "Requirement already satisfied: pandas in /home/oliver/.local/lib/python3.10/site-packages (from pandas-jsonlines) (1.4.0)\n",
      "Requirement already satisfied: twine in /home/oliver/.local/lib/python3.10/site-packages (from pandas-jsonlines) (3.8.0)\n",
      "Requirement already satisfied: pathspec>=0.9.0 in /home/oliver/.local/lib/python3.10/site-packages (from black->pandas-jsonlines) (0.9.0)\n",
      "Requirement already satisfied: mypy-extensions>=0.4.3 in /home/oliver/.local/lib/python3.10/site-packages (from black->pandas-jsonlines) (0.4.3)\n",
      "Requirement already satisfied: tomli>=1.1.0 in /home/oliver/.local/lib/python3.10/site-packages (from black->pandas-jsonlines) (2.0.1)\n",
      "Requirement already satisfied: click>=8.0.0 in /usr/lib/python3.10/site-packages (from black->pandas-jsonlines) (8.0.1)\n",
      "Requirement already satisfied: platformdirs>=2 in /home/oliver/.local/lib/python3.10/site-packages (from black->pandas-jsonlines) (2.5.1)\n",
      "Requirement already satisfied: mccabe<0.7.0,>=0.6.0 in /home/oliver/.local/lib/python3.10/site-packages (from flake8->pandas-jsonlines) (0.6.1)\n",
      "Requirement already satisfied: pyflakes<2.5.0,>=2.4.0 in /home/oliver/.local/lib/python3.10/site-packages (from flake8->pandas-jsonlines) (2.4.0)\n",
      "Requirement already satisfied: pycodestyle<2.9.0,>=2.8.0 in /home/oliver/.local/lib/python3.10/site-packages (from flake8->pandas-jsonlines) (2.8.0)\n",
      "Requirement already satisfied: pytz>=2020.1 in /home/oliver/.local/lib/python3.10/site-packages (from pandas->pandas-jsonlines) (2021.3)\n",
      "Requirement already satisfied: python-dateutil>=2.8.1 in /usr/lib/python3.10/site-packages (from pandas->pandas-jsonlines) (2.8.1)\n",
      "Requirement already satisfied: six>=1.5 in /home/oliver/.local/lib/python3.10/site-packages (from python-dateutil>=2.8.1->pandas->pandas-jsonlines) (1.16.0)\n",
      "Requirement already satisfied: packaging in /usr/lib/python3.10/site-packages (from pytest->pandas-jsonlines) (21.0)\n",
      "Requirement already satisfied: attrs>=19.2.0 in /home/oliver/.local/lib/python3.10/site-packages (from pytest->pandas-jsonlines) (21.4.0)\n",
      "Requirement already satisfied: iniconfig in /home/oliver/.local/lib/python3.10/site-packages (from pytest->pandas-jsonlines) (1.1.1)\n",
      "Requirement already satisfied: pluggy<2.0,>=0.12 in /home/oliver/.local/lib/python3.10/site-packages (from pytest->pandas-jsonlines) (1.0.0)\n",
      "Requirement already satisfied: py>=1.8.2 in /home/oliver/.local/lib/python3.10/site-packages (from pytest->pandas-jsonlines) (1.11.0)\n",
      "Requirement already satisfied: pyparsing>=2.0.2 in /usr/lib/python3.10/site-packages (from packaging->pytest->pandas-jsonlines) (2.4.7)\n",
      "Requirement already satisfied: urllib3>=1.26.0 in /home/oliver/.local/lib/python3.10/site-packages (from twine->pandas-jsonlines) (1.26.8)\n",
      "Requirement already satisfied: requests>=2.20 in /usr/lib/python3.10/site-packages (from twine->pandas-jsonlines) (2.27.0)\n",
      "Requirement already satisfied: keyring>=15.1 in /home/oliver/.local/lib/python3.10/site-packages (from twine->pandas-jsonlines) (23.5.0)\n",
      "Requirement already satisfied: readme-renderer>=21.0 in /home/oliver/.local/lib/python3.10/site-packages (from twine->pandas-jsonlines) (32.0)\n",
      "Requirement already satisfied: importlib-metadata>=3.6 in /home/oliver/.local/lib/python3.10/site-packages (from twine->pandas-jsonlines) (4.11.1)\n",
      "Requirement already satisfied: rfc3986>=1.4.0 in /home/oliver/.local/lib/python3.10/site-packages (from twine->pandas-jsonlines) (1.5.0)\n",
      "Requirement already satisfied: colorama>=0.4.3 in /home/oliver/.local/lib/python3.10/site-packages (from twine->pandas-jsonlines) (0.4.4)\n",
      "Requirement already satisfied: requests-toolbelt!=0.9.0,>=0.8.0 in /home/oliver/.local/lib/python3.10/site-packages (from twine->pandas-jsonlines) (0.9.1)\n",
      "Requirement already satisfied: tqdm>=4.14 in /usr/lib/python3.10/site-packages (from twine->pandas-jsonlines) (4.62.1)\n",
      "Requirement already satisfied: pkginfo>=1.8.1 in /home/oliver/.local/lib/python3.10/site-packages (from twine->pandas-jsonlines) (1.8.2)\n",
      "Requirement already satisfied: zipp>=0.5 in /home/oliver/.local/lib/python3.10/site-packages (from importlib-metadata>=3.6->twine->pandas-jsonlines) (3.7.0)\n",
      "Requirement already satisfied: SecretStorage>=3.2 in /home/oliver/.local/lib/python3.10/site-packages (from keyring>=15.1->twine->pandas-jsonlines) (3.3.1)\n",
      "Requirement already satisfied: jeepney>=0.4.2 in /home/oliver/.local/lib/python3.10/site-packages (from keyring>=15.1->twine->pandas-jsonlines) (0.7.1)\n",
      "Requirement already satisfied: Pygments>=2.5.1 in /home/oliver/.local/lib/python3.10/site-packages (from readme-renderer>=21.0->twine->pandas-jsonlines) (2.10.0)\n",
      "Requirement already satisfied: bleach>=2.1.0 in /home/oliver/.local/lib/python3.10/site-packages (from readme-renderer>=21.0->twine->pandas-jsonlines) (4.1.0)\n",
      "Requirement already satisfied: docutils>=0.13.1 in /home/oliver/.local/lib/python3.10/site-packages (from readme-renderer>=21.0->twine->pandas-jsonlines) (0.18.1)\n",
      "Requirement already satisfied: webencodings in /home/oliver/.local/lib/python3.10/site-packages (from bleach>=2.1.0->readme-renderer>=21.0->twine->pandas-jsonlines) (0.5.1)\n",
      "Requirement already satisfied: charset-normalizer~=2.0.0 in /usr/lib/python3.10/site-packages (from requests>=2.20->twine->pandas-jsonlines) (2.0.4)\n",
      "Requirement already satisfied: idna<4,>=2.5 in /home/oliver/.local/lib/python3.10/site-packages (from requests>=2.20->twine->pandas-jsonlines) (2.10)\n",
      "Requirement already satisfied: cryptography>=2.0 in /home/oliver/.local/lib/python3.10/site-packages (from SecretStorage>=3.2->keyring>=15.1->twine->pandas-jsonlines) (36.0.1)\n",
      "Requirement already satisfied: cffi>=1.12 in /home/oliver/.local/lib/python3.10/site-packages (from cryptography>=2.0->SecretStorage>=3.2->keyring>=15.1->twine->pandas-jsonlines) (1.15.0)\n",
      "Requirement already satisfied: pycparser in /home/oliver/.local/lib/python3.10/site-packages (from cffi>=1.12->cryptography>=2.0->SecretStorage>=3.2->keyring>=15.1->twine->pandas-jsonlines) (2.21)\n"
     ]
    }
   ],
   "source": [
    "!pip install pandas-jsonlines"
   ]
  },
  {
   "cell_type": "code",
   "execution_count": 17,
   "id": "3a780cbf-c300-4cf2-b82f-285531d3dc3a",
   "metadata": {},
   "outputs": [],
   "source": [
    "import pandas as pd\n",
    "from pandas_jsonlines.read_jsonlines import read_jsonlines\n",
    "import requests"
   ]
  },
  {
   "cell_type": "code",
   "execution_count": 5,
   "id": "b1b4644e-5231-453a-9d00-636a1f5d93a5",
   "metadata": {},
   "outputs": [],
   "source": [
    "links = read_jsonlines(\"all.jsonlines\")"
   ]
  },
  {
   "cell_type": "code",
   "execution_count": 7,
   "id": "5dabdda7-c188-4a4d-a2d6-94f85df2e6d9",
   "metadata": {},
   "outputs": [
    {
     "data": {
      "text/html": [
       "<div>\n",
       "<style scoped>\n",
       "    .dataframe tbody tr th:only-of-type {\n",
       "        vertical-align: middle;\n",
       "    }\n",
       "\n",
       "    .dataframe tbody tr th {\n",
       "        vertical-align: top;\n",
       "    }\n",
       "\n",
       "    .dataframe thead th {\n",
       "        text-align: right;\n",
       "    }\n",
       "</style>\n",
       "<table border=\"1\" class=\"dataframe\">\n",
       "  <thead>\n",
       "    <tr style=\"text-align: right;\">\n",
       "      <th></th>\n",
       "      <th>link</th>\n",
       "      <th>judgment_link</th>\n",
       "      <th>pdf_link</th>\n",
       "    </tr>\n",
       "  </thead>\n",
       "  <tbody>\n",
       "    <tr>\n",
       "      <th>0</th>\n",
       "      <td>&lt;HtmlResponse 200 https://www.supremecourt.uk/...</td>\n",
       "      <td>/cases/docs/uksc-2020-0185-judgment.pdf</td>\n",
       "      <td>/press-summary/uksc-2020-0185.html</td>\n",
       "    </tr>\n",
       "    <tr>\n",
       "      <th>1</th>\n",
       "      <td>&lt;HtmlResponse 200 https://www.supremecourt.uk/...</td>\n",
       "      <td>/cases/docs/uksc-2020-0122-judgment.pdf</td>\n",
       "      <td>/press-summary/uksc-2020-0122.html</td>\n",
       "    </tr>\n",
       "    <tr>\n",
       "      <th>2</th>\n",
       "      <td>&lt;HtmlResponse 200 https://www.supremecourt.uk/...</td>\n",
       "      <td>/cases/docs/uksc-2020-0076-judgment.pdf</td>\n",
       "      <td>/press-summary/uksc-2020-0076.html</td>\n",
       "    </tr>\n",
       "    <tr>\n",
       "      <th>3</th>\n",
       "      <td>&lt;HtmlResponse 200 https://www.supremecourt.uk/...</td>\n",
       "      <td>/cases/docs/uksc-2020-0076-judgment.pdf</td>\n",
       "      <td>/press-summary/uksc-2020-0076.html</td>\n",
       "    </tr>\n",
       "    <tr>\n",
       "      <th>4</th>\n",
       "      <td>&lt;HtmlResponse 200 https://www.supremecourt.uk/...</td>\n",
       "      <td>/cases/docs/uksc-2021-0062-judgment.pdf</td>\n",
       "      <td>/press-summary/uksc-2021-0062.html</td>\n",
       "    </tr>\n",
       "    <tr>\n",
       "      <th>...</th>\n",
       "      <td>...</td>\n",
       "      <td>...</td>\n",
       "      <td>...</td>\n",
       "    </tr>\n",
       "    <tr>\n",
       "      <th>976</th>\n",
       "      <td>&lt;HtmlResponse 200 https://www.supremecourt.uk/...</td>\n",
       "      <td>docs/uksc-2009-0105-judgment.pdf</td>\n",
       "      <td>docs/uksc-2009-0105-press-summary.pdf</td>\n",
       "    </tr>\n",
       "    <tr>\n",
       "      <th>977</th>\n",
       "      <td>&lt;HtmlResponse 200 https://www.supremecourt.uk/...</td>\n",
       "      <td>docs/uksc-2009-0095-judgment.pdf</td>\n",
       "      <td>docs/uksc-2009-0095-press-summary.pdf</td>\n",
       "    </tr>\n",
       "    <tr>\n",
       "      <th>978</th>\n",
       "      <td>&lt;HtmlResponse 200 https://www.supremecourt.uk/...</td>\n",
       "      <td>docs/uksc-2009-0116-judgment.pdf</td>\n",
       "      <td>docs/uksc-2009-0116-press-summary.pdf</td>\n",
       "    </tr>\n",
       "    <tr>\n",
       "      <th>979</th>\n",
       "      <td>&lt;HtmlResponse 200 https://www.supremecourt.uk/...</td>\n",
       "      <td>docs/uksc-2009-0120-judgment.pdf</td>\n",
       "      <td>docs/uksc-2009-0120-press-summary.pdf</td>\n",
       "    </tr>\n",
       "    <tr>\n",
       "      <th>980</th>\n",
       "      <td>&lt;HtmlResponse 200 https://www.supremecourt.uk/...</td>\n",
       "      <td>docs/uksc-2009-0184-judgment.pdf</td>\n",
       "      <td>docs/uksc-2009-0184-press-summary.pdf</td>\n",
       "    </tr>\n",
       "  </tbody>\n",
       "</table>\n",
       "<p>981 rows × 3 columns</p>\n",
       "</div>"
      ],
      "text/plain": [
       "                                                  link  \\\n",
       "0    <HtmlResponse 200 https://www.supremecourt.uk/...   \n",
       "1    <HtmlResponse 200 https://www.supremecourt.uk/...   \n",
       "2    <HtmlResponse 200 https://www.supremecourt.uk/...   \n",
       "3    <HtmlResponse 200 https://www.supremecourt.uk/...   \n",
       "4    <HtmlResponse 200 https://www.supremecourt.uk/...   \n",
       "..                                                 ...   \n",
       "976  <HtmlResponse 200 https://www.supremecourt.uk/...   \n",
       "977  <HtmlResponse 200 https://www.supremecourt.uk/...   \n",
       "978  <HtmlResponse 200 https://www.supremecourt.uk/...   \n",
       "979  <HtmlResponse 200 https://www.supremecourt.uk/...   \n",
       "980  <HtmlResponse 200 https://www.supremecourt.uk/...   \n",
       "\n",
       "                               judgment_link  \\\n",
       "0    /cases/docs/uksc-2020-0185-judgment.pdf   \n",
       "1    /cases/docs/uksc-2020-0122-judgment.pdf   \n",
       "2    /cases/docs/uksc-2020-0076-judgment.pdf   \n",
       "3    /cases/docs/uksc-2020-0076-judgment.pdf   \n",
       "4    /cases/docs/uksc-2021-0062-judgment.pdf   \n",
       "..                                       ...   \n",
       "976         docs/uksc-2009-0105-judgment.pdf   \n",
       "977         docs/uksc-2009-0095-judgment.pdf   \n",
       "978         docs/uksc-2009-0116-judgment.pdf   \n",
       "979         docs/uksc-2009-0120-judgment.pdf   \n",
       "980         docs/uksc-2009-0184-judgment.pdf   \n",
       "\n",
       "                                  pdf_link  \n",
       "0       /press-summary/uksc-2020-0185.html  \n",
       "1       /press-summary/uksc-2020-0122.html  \n",
       "2       /press-summary/uksc-2020-0076.html  \n",
       "3       /press-summary/uksc-2020-0076.html  \n",
       "4       /press-summary/uksc-2021-0062.html  \n",
       "..                                     ...  \n",
       "976  docs/uksc-2009-0105-press-summary.pdf  \n",
       "977  docs/uksc-2009-0095-press-summary.pdf  \n",
       "978  docs/uksc-2009-0116-press-summary.pdf  \n",
       "979  docs/uksc-2009-0120-press-summary.pdf  \n",
       "980  docs/uksc-2009-0184-press-summary.pdf  \n",
       "\n",
       "[981 rows x 3 columns]"
      ]
     },
     "execution_count": 7,
     "metadata": {},
     "output_type": "execute_result"
    }
   ],
   "source": [
    "links"
   ]
  },
  {
   "cell_type": "code",
   "execution_count": 9,
   "id": "05c449f1-8d22-448b-92b4-1dc702d64024",
   "metadata": {},
   "outputs": [
    {
     "data": {
      "text/plain": [
       "link              0\n",
       "judgment_link     4\n",
       "pdf_link         12\n",
       "dtype: int64"
      ]
     },
     "execution_count": 9,
     "metadata": {},
     "output_type": "execute_result"
    }
   ],
   "source": [
    "links.isnull().sum()"
   ]
  },
  {
   "cell_type": "code",
   "execution_count": 36,
   "id": "b56e52d0-c778-4d5e-98e4-a4d0c2285289",
   "metadata": {},
   "outputs": [],
   "source": [
    "import requests"
   ]
  },
  {
   "cell_type": "code",
   "execution_count": 58,
   "id": "bf9f9446-b612-4cfd-9226-9f7832063fba",
   "metadata": {},
   "outputs": [
    {
     "data": {
      "text/plain": [
       "'<HtmlResponse 200 https://www.supremecourt.uk/cases/uksc-2020-0122.html>'"
      ]
     },
     "execution_count": 58,
     "metadata": {},
     "output_type": "execute_result"
    }
   ],
   "source": [
    "links.iloc[1][0]"
   ]
  },
  {
   "cell_type": "code",
   "execution_count": 61,
   "id": "2a83aa6c-e512-4f74-be7b-f0384a5cb536",
   "metadata": {},
   "outputs": [
    {
     "data": {
      "text/plain": [
       "'docs/uksc-2009-0120-judgment.pdf'"
      ]
     },
     "execution_count": 61,
     "metadata": {},
     "output_type": "execute_result"
    }
   ],
   "source": [
    "links.iloc[979][1]\n"
   ]
  },
  {
   "cell_type": "code",
   "execution_count": 22,
   "id": "b36503e8-429b-451a-8248-b70b299281d3",
   "metadata": {
    "scrolled": true,
    "tags": []
   },
   "outputs": [],
   "source": [
    "for link in links.dropna().iterrows():\n",
    "    sc_link = \"https://www.supremecourt.uk\"\n",
    "    base_url = link[1]['link'].split()[2][:-1].strip()\n",
    "    j_link = link[1]['judgment_link'].strip()\n",
    "    s_link = link[1]['pdf_link'].strip()\n",
    "    if j_link.startswith(\"/cases/docs\"):\n",
    "        j_link = sc_link + j_link\n",
    "    elif j_link.startswith(\"docs/\"):\n",
    "        j_link = sc_link + \"/cases/\" + j_link\n",
    "    else:\n",
    "        j_link = sc_link + \"/cases/docs\" + j_link\n",
    "    if s_link.endswith(\".html\"):\n",
    "        s_link = sc_link + s_link\n",
    "    elif s_link.startswith(\"/cases\"):\n",
    "        s_link = sc_link + s_link\n",
    "    else:\n",
    "        s_link = sc_link + \"/cases/\" + s_link\n",
    "    #if link[0] == 318 or  link[0] == 333 or  link[0] == 413:\n",
    "    #    x = requests.get(j_link)\n",
    "    #    if x.status_code != 200:\n",
    "    #        print(link[0], j_link)\n",
    "    #    x = requests.get(s_link)\n",
    "    #    if x.status_code != 200:\n",
    "    #        print(link[0], s_link)"
   ]
  },
  {
   "cell_type": "code",
   "execution_count": 65,
   "id": "b1a43b35-533e-45c2-84ba-5c53740a6034",
   "metadata": {},
   "outputs": [
    {
     "data": {
      "text/plain": [
       "link             <HtmlResponse 200 https://www.supremecourt.uk/...\n",
       "judgment_link                                                  NaN\n",
       "pdf_link                                                       NaN\n",
       "Name: 40, dtype: object"
      ]
     },
     "execution_count": 65,
     "metadata": {},
     "output_type": "execute_result"
    }
   ],
   "source": [
    "links.iloc[40]"
   ]
  },
  {
   "cell_type": "code",
   "execution_count": 67,
   "id": "f8cd65f6-a904-4e44-9d00-e2536748b781",
   "metadata": {},
   "outputs": [
    {
     "data": {
      "text/plain": [
       "link             <HtmlResponse 200 https://www.supremecourt.uk/...\n",
       "judgment_link                     docs/uksc-2009-0184-judgment.pdf\n",
       "pdf_link                     docs/uksc-2009-0184-press-summary.pdf\n",
       "Name: 980, dtype: object"
      ]
     },
     "execution_count": 67,
     "metadata": {},
     "output_type": "execute_result"
    }
   ],
   "source": [
    "links.iloc[980]"
   ]
  },
  {
   "cell_type": "code",
   "execution_count": 8,
   "id": "77b44ce4-875e-4744-a8a3-4f405f24f10d",
   "metadata": {},
   "outputs": [
    {
     "data": {
      "text/plain": [
       "link             <HtmlResponse 200 https://www.supremecourt.uk/...\n",
       "judgment_link                     docs/uksc-2009-0070-judgment.pdf\n",
       "pdf_link                     docs/uksc-2009-0070-press-summary.pdf\n",
       "Name: 8, dtype: object"
      ]
     },
     "execution_count": 8,
     "metadata": {},
     "output_type": "execute_result"
    }
   ],
   "source": [
    "links.iloc[8]"
   ]
  },
  {
   "cell_type": "code",
   "execution_count": null,
   "id": "59041870-41d7-472a-8c91-4405977f284e",
   "metadata": {},
   "outputs": [],
   "source": [
    "def create_full_json():\n",
    "    links = read_jsonlines(\"all.jsonlines\")\n",
    "    for link in links.dropna().iterrows():\n",
    "        sc_link = \"https://www.supremecourt.uk\"\n",
    "        base_url = link[1]['link'].split()[2][:-1].strip()\n",
    "        j_link = link[1]['judgment_link'].strip()\n",
    "        s_link = link[1]['pdf_link'].strip()\n",
    "        if j_link.startswith(\"/cases/docs\"):\n",
    "            j_link = sc_link + j_link\n",
    "        elif j_link.startswith(\"docs/\"):\n",
    "            j_link = sc_link + \"/cases/\" + j_link\n",
    "        else:\n",
    "            j_link = sc_link + \"/cases/docs\" + j_link\n",
    "        if s_link.endswith(\".html\"):\n",
    "            s_link = sc_link + s_link\n",
    "        elif s_link.startswith(\"/cases\"):\n",
    "            s_link = sc_link + s_link\n",
    "        else:\n",
    "            s_link = sc_link + \"/cases/\" + s_link\n",
    "        #if link[0] == 318 or  link[0] == 333 or  link[0] == 413:\n",
    "        #    x = requests.get(j_link)\n",
    "        #    if x.status_code != 200:\n",
    "        #        print(link[0], j_link)\n",
    "        #    x = requests.get(s_link)\n",
    "        #    if x.status_code != 200:\n",
    "        #        print(link[0], s_link)"
   ]
  }
 ],
 "metadata": {
  "kernelspec": {
   "display_name": "Python 3 (ipykernel)",
   "language": "python",
   "name": "python3"
  },
  "language_info": {
   "codemirror_mode": {
    "name": "ipython",
    "version": 3
   },
   "file_extension": ".py",
   "mimetype": "text/x-python",
   "name": "python",
   "nbconvert_exporter": "python",
   "pygments_lexer": "ipython3",
   "version": "3.10.2"
  }
 },
 "nbformat": 4,
 "nbformat_minor": 5
}
