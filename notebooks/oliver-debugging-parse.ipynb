{
 "cells": [
  {
   "cell_type": "code",
   "execution_count": 1,
   "id": "74239884-3d0e-464c-be52-8eb4eb064649",
   "metadata": {},
   "outputs": [],
   "source": [
    "%load_ext autoreload"
   ]
  },
  {
   "cell_type": "code",
   "execution_count": 2,
   "id": "e188affb-5a02-425b-a728-3a3a73b2fb81",
   "metadata": {},
   "outputs": [],
   "source": [
    "from translating_the_law.downloading.get_links import get_links\n",
    "from translating_the_law.downloading.get_case import get_case"
   ]
  },
  {
   "cell_type": "code",
   "execution_count": 3,
   "id": "f0f92bdc-06be-447c-ae17-b82b31988a8b",
   "metadata": {},
   "outputs": [],
   "source": [
    "links = get_links()"
   ]
  },
  {
   "cell_type": "code",
   "execution_count": 9,
   "id": "0832bc28-06a0-49ca-93cf-ee5c2a080b67",
   "metadata": {},
   "outputs": [
    {
     "name": "stdout",
     "output_type": "stream",
     "text": [
      "0 https://www.supremecourt.uk/cases/uksc-2009-0184.html\n",
      "1 https://www.supremecourt.uk/cases/uksc-2009-0119.html\n",
      "2 https://www.supremecourt.uk/cases/uksc-2009-0075.html\n",
      "3 https://www.supremecourt.uk/cases/uksc-2009-0019.html\n",
      "4 https://www.supremecourt.uk/cases/uksc-2009-0087.html\n",
      "5 https://www.supremecourt.uk/cases/uksc-2009-0106.html\n",
      "6 https://www.supremecourt.uk/cases/uksc-2009-0047.html\n",
      "7 https://www.supremecourt.uk/cases/uksc-2009-0098.html\n",
      "8 https://www.supremecourt.uk/cases/uksc-2009-0020.html\n",
      "9 https://www.supremecourt.uk/cases/uksc-2009-0070.html\n",
      "10 https://www.supremecourt.uk/cases/uksc-2009-0104.html\n",
      "11 https://www.supremecourt.uk/cases/uksc-2009-0143.html\n",
      "12 https://www.supremecourt.uk/cases/uksc-2009-0038.html\n",
      "13 https://www.supremecourt.uk/cases/uksc-2009-0136.html\n",
      "14 https://www.supremecourt.uk/cases/uksc-2009-0073.html\n",
      "15 https://www.supremecourt.uk/cases/uksc-2009-0105.html\n",
      "16 https://www.supremecourt.uk/cases/uksc-2009-0084.html\n",
      "17 https://www.supremecourt.uk/cases/uksc-2009-0085.html\n",
      "18 https://www.supremecourt.uk/cases/uksc-2009-0095.html\n",
      "19 https://www.supremecourt.uk/cases/uksc-2009-0116.html\n",
      "20 https://www.supremecourt.uk/cases/uksc-2009-0120.html\n"
     ]
    },
    {
     "name": "stderr",
     "output_type": "stream",
     "text": [
      "/home/oliver/code/ogiles1999/translating-the-law/translating_the_law/downloading/extract.py:17: GuessedAtParserWarning: No parser was explicitly specified, so I'm using the best available HTML parser for this system (\"lxml\"). This usually isn't a problem, but if you run this code on another system, or in a different virtual environment, it may use a different parser and behave differently.\n",
      "\n",
      "The code that caused this warning is on line 17 of the file /home/oliver/code/ogiles1999/translating-the-law/translating_the_law/downloading/extract.py. To get rid of this warning, pass the additional argument 'features=\"lxml\"' to the BeautifulSoup constructor.\n",
      "\n",
      "  soup = BeautifulSoup(html)\n"
     ]
    },
    {
     "name": "stdout",
     "output_type": "stream",
     "text": [
      "21 https://www.supremecourt.uk/cases/uksc-2021-0062.html\n",
      "failed 22 https://www.supremecourt.uk/cases/uksc-2021-0063.html\n",
      "23 https://www.supremecourt.uk/cases/uksc-2018-0129.html\n",
      "24 https://www.supremecourt.uk/cases/uksc-2020-0122.html\n",
      "25 https://www.supremecourt.uk/cases/uksc-2020-0066.html\n",
      "26 https://www.supremecourt.uk/cases/uksc-2020-0076.html\n",
      "27 https://www.supremecourt.uk/cases/uksc-2020-0185.html\n",
      "failed 28 https://www.supremecourt.uk/cases/uksc-2020-0084.html\n",
      "29 https://www.supremecourt.uk/cases/uksc-2020-0185.html\n",
      "30 https://www.supremecourt.uk/cases/uksc-2020-0122.html\n",
      "failed 31 https://www.supremecourt.uk/cases/uksc-2020-0084.html\n",
      "32 https://www.supremecourt.uk/cases/uksc-2021-0062.html\n",
      "33 https://www.supremecourt.uk/cases/uksc-2020-0066.html\n",
      "failed 34 https://www.supremecourt.uk/cases/uksc-2021-0063.html\n",
      "35 https://www.supremecourt.uk/cases/uksc-2020-0076.html\n",
      "36 https://www.supremecourt.uk/cases/uksc-2018-0129.html\n",
      "37 https://www.supremecourt.uk/cases/uksc-2009-0038.html\n",
      "38 https://www.supremecourt.uk/cases/uksc-2009-0073.html\n",
      "39 https://www.supremecourt.uk/cases/uksc-2009-0136.html\n",
      "40 https://www.supremecourt.uk/cases/uksc-2009-0084.html\n",
      "41 https://www.supremecourt.uk/cases/uksc-2009-0095.html\n",
      "42 https://www.supremecourt.uk/cases/uksc-2009-0085.html\n",
      "43 https://www.supremecourt.uk/cases/uksc-2009-0105.html\n",
      "44 https://www.supremecourt.uk/cases/uksc-2009-0143.html\n",
      "45 https://www.supremecourt.uk/cases/uksc-2009-0104.html\n",
      "46 https://www.supremecourt.uk/cases/uksc-2009-0047.html\n",
      "47 https://www.supremecourt.uk/cases/uksc-2009-0019.html\n",
      "48 https://www.supremecourt.uk/cases/uksc-2009-0070.html\n",
      "49 https://www.supremecourt.uk/cases/uksc-2009-0116.html\n",
      "50 https://www.supremecourt.uk/cases/uksc-2009-0120.html\n",
      "51 https://www.supremecourt.uk/cases/uksc-2009-0098.html\n",
      "52 https://www.supremecourt.uk/cases/uksc-2009-0223.html\n",
      "53 https://www.supremecourt.uk/cases/uksc-2009-0106.html\n",
      "54 https://www.supremecourt.uk/cases/uksc-2009-0015.html\n",
      "55 https://www.supremecourt.uk/cases/uksc-2009-0018.html\n",
      "56 https://www.supremecourt.uk/cases/uksc-2009-0016.html\n",
      "57 https://www.supremecourt.uk/cases/uksc-2009-0168.html\n",
      "58 https://www.supremecourt.uk/cases/uksc-2009-0044.html\n",
      "59 https://www.supremecourt.uk/cases/uksc-2014-0138.html\n",
      "60 https://www.supremecourt.uk/cases/uksc-2013-0227.html\n",
      "failed 61 https://www.supremecourt.uk/cases/uksc-2013-0186.html\n",
      "62 https://www.supremecourt.uk/cases/uksc-2014-0202.html\n",
      "failed 63 https://www.supremecourt.uk/cases/uksc-2014-0079.html\n",
      "64 https://www.supremecourt.uk/cases/uksc-2013-0099.html\n",
      "65 https://www.supremecourt.uk/cases/uksc-2013-0153.html\n",
      "66 https://www.supremecourt.uk/cases/uksc-2013-0150.html\n",
      "67 https://www.supremecourt.uk/cases/uksc-2013-0043.html\n",
      "68 https://www.supremecourt.uk/cases/uksc-2016-0227.html\n",
      "69 https://www.supremecourt.uk/cases/uksc-2016-0223.html\n",
      "failed 70 https://www.supremecourt.uk/cases/uksc-2017-0170.html\n",
      "71 https://www.supremecourt.uk/cases/uksc-2018-0167.html\n",
      "72 https://www.supremecourt.uk/cases/uksc-2016-0195.html\n",
      "failed 73 https://www.supremecourt.uk/cases/uksc-2017-0121.html\n",
      "failed 74 https://www.supremecourt.uk/cases/uksc-2017-0001.html\n",
      "75 https://www.supremecourt.uk/cases/uksc-2016-0130.html\n",
      "76 https://www.supremecourt.uk/cases/uksc-2016-0052.html\n",
      "77 https://www.supremecourt.uk/cases/uksc-2015-0022.html\n",
      "failed 78 https://www.supremecourt.uk/cases/uksc-2020-0184.html\n",
      "79 https://www.supremecourt.uk/cases/uksc-2014-0219.html\n",
      "failed 80 https://www.supremecourt.uk/cases/uksc-2020-0183.html\n",
      "81 https://www.supremecourt.uk/cases/uksc-2013-0161.html\n",
      "failed 82 https://www.supremecourt.uk/cases/uksc-2015-0218.html\n",
      "83 https://www.supremecourt.uk/cases/uksc-2015-0025.html\n",
      "84 https://www.supremecourt.uk/cases/uksc-2015-0002.html\n",
      "85 https://www.supremecourt.uk/cases/uksc-2014-0264.html\n",
      "failed 86 https://www.supremecourt.uk/cases/uksc-2016-0201.html\n",
      "failed 87 https://www.supremecourt.uk/cases/uksc-2016-0205.html\n",
      "88 https://www.supremecourt.uk/cases/uksc-2016-0196.html\n",
      "89 https://www.supremecourt.uk/cases/uksc-2015-0009.html\n",
      "90 https://www.supremecourt.uk/cases/uksc-2014-0231.html\n",
      "91 https://www.supremecourt.uk/cases/uksc-2014-0180.html\n",
      "92 https://www.supremecourt.uk/cases/uksc-2015-0017.html\n",
      "93 https://www.supremecourt.uk/cases/uksc-2015-0011.html\n",
      "failed 94 https://www.supremecourt.uk/cases/uksc-2015-0014.html\n",
      "failed 95 https://www.supremecourt.uk/cases/uksc-2015-0168.html\n",
      "failed 96 https://www.supremecourt.uk/cases/uksc-2014-0238.html\n",
      "failed 97 https://www.supremecourt.uk/cases/uksc-2015-0024.html\n",
      "98 https://www.supremecourt.uk/cases/uksc-2015-0129.html\n",
      "99 https://www.supremecourt.uk/cases/uksc-2015-0153.html\n"
     ]
    }
   ],
   "source": [
    "for i in range(100):\n",
    "    base_url = links[i][0].split()[2][:-1]\n",
    "    try:\n",
    "        get_case(base_url)\n",
    "        print(i, base_url)\n",
    "    except:\n",
    "        print(\"failed\", i, base_url)"
   ]
  },
  {
   "cell_type": "code",
   "execution_count": 12,
   "id": "350989fc-0c96-4175-bec0-fc14a1fc9563",
   "metadata": {},
   "outputs": [
    {
     "ename": "HTTPError",
     "evalue": "HTTP Error 404: Not Found",
     "output_type": "error",
     "traceback": [
      "\u001b[0;31m---------------------------------------------------------------------------\u001b[0m",
      "\u001b[0;31mHTTPError\u001b[0m                                 Traceback (most recent call last)",
      "\u001b[0;32m/tmp/ipykernel_107707/798616171.py\u001b[0m in \u001b[0;36m<module>\u001b[0;34m\u001b[0m\n\u001b[0;32m----> 1\u001b[0;31m \u001b[0mget_case\u001b[0m\u001b[0;34m(\u001b[0m\u001b[0;34m\"https://www.supremecourt.uk/cases/uksc-2021-0063.html\"\u001b[0m\u001b[0;34m)\u001b[0m\u001b[0;34m\u001b[0m\u001b[0;34m\u001b[0m\u001b[0m\n\u001b[0m",
      "\u001b[0;32m~/code/ogiles1999/translating-the-law/translating_the_law/downloading/get_case.py\u001b[0m in \u001b[0;36mget_case\u001b[0;34m(base_url)\u001b[0m\n\u001b[1;32m     11\u001b[0m     \u001b[0;32mif\u001b[0m \u001b[0mint\u001b[0m\u001b[0;34m(\u001b[0m\u001b[0mbase_url\u001b[0m\u001b[0;34m[\u001b[0m\u001b[0;36m39\u001b[0m\u001b[0;34m:\u001b[0m\u001b[0;36m43\u001b[0m\u001b[0;34m]\u001b[0m\u001b[0;34m)\u001b[0m \u001b[0;34m>=\u001b[0m \u001b[0;36m2017\u001b[0m\u001b[0;34m:\u001b[0m\u001b[0;34m\u001b[0m\u001b[0;34m\u001b[0m\u001b[0m\n\u001b[1;32m     12\u001b[0m         \u001b[0myear_bool\u001b[0m \u001b[0;34m=\u001b[0m \u001b[0;32mTrue\u001b[0m\u001b[0;34m\u001b[0m\u001b[0;34m\u001b[0m\u001b[0m\n\u001b[0;32m---> 13\u001b[0;31m     \u001b[0mget_case_files\u001b[0m\u001b[0;34m(\u001b[0m\u001b[0mcase\u001b[0m\u001b[0;34m,\u001b[0m \u001b[0msummary_url\u001b[0m\u001b[0;34m,\u001b[0m \u001b[0mpdf_url\u001b[0m\u001b[0;34m,\u001b[0m \u001b[0myear_bool\u001b[0m\u001b[0;34m)\u001b[0m\u001b[0;34m\u001b[0m\u001b[0;34m\u001b[0m\u001b[0m\n\u001b[0m\u001b[1;32m     14\u001b[0m     \u001b[0mj\u001b[0m \u001b[0;34m,\u001b[0m \u001b[0mps\u001b[0m \u001b[0;34m=\u001b[0m \u001b[0mextract_all\u001b[0m\u001b[0;34m(\u001b[0m\u001b[0mcase\u001b[0m\u001b[0;34m,\u001b[0m \u001b[0myear_bool\u001b[0m\u001b[0;34m)\u001b[0m\u001b[0;34m\u001b[0m\u001b[0;34m\u001b[0m\u001b[0m\n\u001b[1;32m     15\u001b[0m     \u001b[0mdelete_case_files\u001b[0m\u001b[0;34m(\u001b[0m\u001b[0mcase\u001b[0m\u001b[0;34m,\u001b[0m \u001b[0myear_bool\u001b[0m\u001b[0;34m)\u001b[0m\u001b[0;34m\u001b[0m\u001b[0;34m\u001b[0m\u001b[0m\n",
      "\u001b[0;32m~/code/ogiles1999/translating-the-law/translating_the_law/downloading/download.py\u001b[0m in \u001b[0;36mget_case_files\u001b[0;34m(case, summary_url, pdf_url, post2016)\u001b[0m\n\u001b[1;32m      4\u001b[0m     \u001b[0mmain_text_file\u001b[0m \u001b[0;34m=\u001b[0m \u001b[0;34mf\"{case}-main-text.pdf\"\u001b[0m\u001b[0;34m\u001b[0m\u001b[0;34m\u001b[0m\u001b[0m\n\u001b[1;32m      5\u001b[0m     \u001b[0mpress_summary_file\u001b[0m \u001b[0;34m=\u001b[0m \u001b[0;34mf\"{case}-press-summary.pdf\"\u001b[0m\u001b[0;34m\u001b[0m\u001b[0;34m\u001b[0m\u001b[0m\n\u001b[0;32m----> 6\u001b[0;31m     \u001b[0murllib\u001b[0m\u001b[0;34m.\u001b[0m\u001b[0mrequest\u001b[0m\u001b[0;34m.\u001b[0m\u001b[0murlretrieve\u001b[0m\u001b[0;34m(\u001b[0m\u001b[0mpdf_url\u001b[0m\u001b[0;34m,\u001b[0m \u001b[0mmain_text_file\u001b[0m\u001b[0;34m)\u001b[0m\u001b[0;34m\u001b[0m\u001b[0;34m\u001b[0m\u001b[0m\n\u001b[0m\u001b[1;32m      7\u001b[0m     \u001b[0;32mif\u001b[0m \u001b[0;32mnot\u001b[0m \u001b[0mpost2016\u001b[0m\u001b[0;34m:\u001b[0m\u001b[0;34m\u001b[0m\u001b[0;34m\u001b[0m\u001b[0m\n\u001b[1;32m      8\u001b[0m         \u001b[0murllib\u001b[0m\u001b[0;34m.\u001b[0m\u001b[0mrequest\u001b[0m\u001b[0;34m.\u001b[0m\u001b[0murlretrieve\u001b[0m\u001b[0;34m(\u001b[0m\u001b[0msummary_url\u001b[0m\u001b[0;34m,\u001b[0m \u001b[0mpress_summary_file\u001b[0m\u001b[0;34m)\u001b[0m\u001b[0;34m\u001b[0m\u001b[0;34m\u001b[0m\u001b[0m\n",
      "\u001b[0;32m/usr/lib64/python3.10/urllib/request.py\u001b[0m in \u001b[0;36murlretrieve\u001b[0;34m(url, filename, reporthook, data)\u001b[0m\n\u001b[1;32m    239\u001b[0m     \u001b[0murl_type\u001b[0m\u001b[0;34m,\u001b[0m \u001b[0mpath\u001b[0m \u001b[0;34m=\u001b[0m \u001b[0m_splittype\u001b[0m\u001b[0;34m(\u001b[0m\u001b[0murl\u001b[0m\u001b[0;34m)\u001b[0m\u001b[0;34m\u001b[0m\u001b[0;34m\u001b[0m\u001b[0m\n\u001b[1;32m    240\u001b[0m \u001b[0;34m\u001b[0m\u001b[0m\n\u001b[0;32m--> 241\u001b[0;31m     \u001b[0;32mwith\u001b[0m \u001b[0mcontextlib\u001b[0m\u001b[0;34m.\u001b[0m\u001b[0mclosing\u001b[0m\u001b[0;34m(\u001b[0m\u001b[0murlopen\u001b[0m\u001b[0;34m(\u001b[0m\u001b[0murl\u001b[0m\u001b[0;34m,\u001b[0m \u001b[0mdata\u001b[0m\u001b[0;34m)\u001b[0m\u001b[0;34m)\u001b[0m \u001b[0;32mas\u001b[0m \u001b[0mfp\u001b[0m\u001b[0;34m:\u001b[0m\u001b[0;34m\u001b[0m\u001b[0;34m\u001b[0m\u001b[0m\n\u001b[0m\u001b[1;32m    242\u001b[0m         \u001b[0mheaders\u001b[0m \u001b[0;34m=\u001b[0m \u001b[0mfp\u001b[0m\u001b[0;34m.\u001b[0m\u001b[0minfo\u001b[0m\u001b[0;34m(\u001b[0m\u001b[0;34m)\u001b[0m\u001b[0;34m\u001b[0m\u001b[0;34m\u001b[0m\u001b[0m\n\u001b[1;32m    243\u001b[0m \u001b[0;34m\u001b[0m\u001b[0m\n",
      "\u001b[0;32m/usr/lib64/python3.10/urllib/request.py\u001b[0m in \u001b[0;36murlopen\u001b[0;34m(url, data, timeout, cafile, capath, cadefault, context)\u001b[0m\n\u001b[1;32m    214\u001b[0m     \u001b[0;32melse\u001b[0m\u001b[0;34m:\u001b[0m\u001b[0;34m\u001b[0m\u001b[0;34m\u001b[0m\u001b[0m\n\u001b[1;32m    215\u001b[0m         \u001b[0mopener\u001b[0m \u001b[0;34m=\u001b[0m \u001b[0m_opener\u001b[0m\u001b[0;34m\u001b[0m\u001b[0;34m\u001b[0m\u001b[0m\n\u001b[0;32m--> 216\u001b[0;31m     \u001b[0;32mreturn\u001b[0m \u001b[0mopener\u001b[0m\u001b[0;34m.\u001b[0m\u001b[0mopen\u001b[0m\u001b[0;34m(\u001b[0m\u001b[0murl\u001b[0m\u001b[0;34m,\u001b[0m \u001b[0mdata\u001b[0m\u001b[0;34m,\u001b[0m \u001b[0mtimeout\u001b[0m\u001b[0;34m)\u001b[0m\u001b[0;34m\u001b[0m\u001b[0;34m\u001b[0m\u001b[0m\n\u001b[0m\u001b[1;32m    217\u001b[0m \u001b[0;34m\u001b[0m\u001b[0m\n\u001b[1;32m    218\u001b[0m \u001b[0;32mdef\u001b[0m \u001b[0minstall_opener\u001b[0m\u001b[0;34m(\u001b[0m\u001b[0mopener\u001b[0m\u001b[0;34m)\u001b[0m\u001b[0;34m:\u001b[0m\u001b[0;34m\u001b[0m\u001b[0;34m\u001b[0m\u001b[0m\n",
      "\u001b[0;32m/usr/lib64/python3.10/urllib/request.py\u001b[0m in \u001b[0;36mopen\u001b[0;34m(self, fullurl, data, timeout)\u001b[0m\n\u001b[1;32m    523\u001b[0m         \u001b[0;32mfor\u001b[0m \u001b[0mprocessor\u001b[0m \u001b[0;32min\u001b[0m \u001b[0mself\u001b[0m\u001b[0;34m.\u001b[0m\u001b[0mprocess_response\u001b[0m\u001b[0;34m.\u001b[0m\u001b[0mget\u001b[0m\u001b[0;34m(\u001b[0m\u001b[0mprotocol\u001b[0m\u001b[0;34m,\u001b[0m \u001b[0;34m[\u001b[0m\u001b[0;34m]\u001b[0m\u001b[0;34m)\u001b[0m\u001b[0;34m:\u001b[0m\u001b[0;34m\u001b[0m\u001b[0;34m\u001b[0m\u001b[0m\n\u001b[1;32m    524\u001b[0m             \u001b[0mmeth\u001b[0m \u001b[0;34m=\u001b[0m \u001b[0mgetattr\u001b[0m\u001b[0;34m(\u001b[0m\u001b[0mprocessor\u001b[0m\u001b[0;34m,\u001b[0m \u001b[0mmeth_name\u001b[0m\u001b[0;34m)\u001b[0m\u001b[0;34m\u001b[0m\u001b[0;34m\u001b[0m\u001b[0m\n\u001b[0;32m--> 525\u001b[0;31m             \u001b[0mresponse\u001b[0m \u001b[0;34m=\u001b[0m \u001b[0mmeth\u001b[0m\u001b[0;34m(\u001b[0m\u001b[0mreq\u001b[0m\u001b[0;34m,\u001b[0m \u001b[0mresponse\u001b[0m\u001b[0;34m)\u001b[0m\u001b[0;34m\u001b[0m\u001b[0;34m\u001b[0m\u001b[0m\n\u001b[0m\u001b[1;32m    526\u001b[0m \u001b[0;34m\u001b[0m\u001b[0m\n\u001b[1;32m    527\u001b[0m         \u001b[0;32mreturn\u001b[0m \u001b[0mresponse\u001b[0m\u001b[0;34m\u001b[0m\u001b[0;34m\u001b[0m\u001b[0m\n",
      "\u001b[0;32m/usr/lib64/python3.10/urllib/request.py\u001b[0m in \u001b[0;36mhttp_response\u001b[0;34m(self, request, response)\u001b[0m\n\u001b[1;32m    632\u001b[0m         \u001b[0;31m# request was successfully received, understood, and accepted.\u001b[0m\u001b[0;34m\u001b[0m\u001b[0;34m\u001b[0m\u001b[0m\n\u001b[1;32m    633\u001b[0m         \u001b[0;32mif\u001b[0m \u001b[0;32mnot\u001b[0m \u001b[0;34m(\u001b[0m\u001b[0;36m200\u001b[0m \u001b[0;34m<=\u001b[0m \u001b[0mcode\u001b[0m \u001b[0;34m<\u001b[0m \u001b[0;36m300\u001b[0m\u001b[0;34m)\u001b[0m\u001b[0;34m:\u001b[0m\u001b[0;34m\u001b[0m\u001b[0;34m\u001b[0m\u001b[0m\n\u001b[0;32m--> 634\u001b[0;31m             response = self.parent.error(\n\u001b[0m\u001b[1;32m    635\u001b[0m                 'http', request, response, code, msg, hdrs)\n\u001b[1;32m    636\u001b[0m \u001b[0;34m\u001b[0m\u001b[0m\n",
      "\u001b[0;32m/usr/lib64/python3.10/urllib/request.py\u001b[0m in \u001b[0;36merror\u001b[0;34m(self, proto, *args)\u001b[0m\n\u001b[1;32m    561\u001b[0m         \u001b[0;32mif\u001b[0m \u001b[0mhttp_err\u001b[0m\u001b[0;34m:\u001b[0m\u001b[0;34m\u001b[0m\u001b[0;34m\u001b[0m\u001b[0m\n\u001b[1;32m    562\u001b[0m             \u001b[0margs\u001b[0m \u001b[0;34m=\u001b[0m \u001b[0;34m(\u001b[0m\u001b[0mdict\u001b[0m\u001b[0;34m,\u001b[0m \u001b[0;34m'default'\u001b[0m\u001b[0;34m,\u001b[0m \u001b[0;34m'http_error_default'\u001b[0m\u001b[0;34m)\u001b[0m \u001b[0;34m+\u001b[0m \u001b[0morig_args\u001b[0m\u001b[0;34m\u001b[0m\u001b[0;34m\u001b[0m\u001b[0m\n\u001b[0;32m--> 563\u001b[0;31m             \u001b[0;32mreturn\u001b[0m \u001b[0mself\u001b[0m\u001b[0;34m.\u001b[0m\u001b[0m_call_chain\u001b[0m\u001b[0;34m(\u001b[0m\u001b[0;34m*\u001b[0m\u001b[0margs\u001b[0m\u001b[0;34m)\u001b[0m\u001b[0;34m\u001b[0m\u001b[0;34m\u001b[0m\u001b[0m\n\u001b[0m\u001b[1;32m    564\u001b[0m \u001b[0;34m\u001b[0m\u001b[0m\n\u001b[1;32m    565\u001b[0m \u001b[0;31m# XXX probably also want an abstract factory that knows when it makes\u001b[0m\u001b[0;34m\u001b[0m\u001b[0;34m\u001b[0m\u001b[0m\n",
      "\u001b[0;32m/usr/lib64/python3.10/urllib/request.py\u001b[0m in \u001b[0;36m_call_chain\u001b[0;34m(self, chain, kind, meth_name, *args)\u001b[0m\n\u001b[1;32m    494\u001b[0m         \u001b[0;32mfor\u001b[0m \u001b[0mhandler\u001b[0m \u001b[0;32min\u001b[0m \u001b[0mhandlers\u001b[0m\u001b[0;34m:\u001b[0m\u001b[0;34m\u001b[0m\u001b[0;34m\u001b[0m\u001b[0m\n\u001b[1;32m    495\u001b[0m             \u001b[0mfunc\u001b[0m \u001b[0;34m=\u001b[0m \u001b[0mgetattr\u001b[0m\u001b[0;34m(\u001b[0m\u001b[0mhandler\u001b[0m\u001b[0;34m,\u001b[0m \u001b[0mmeth_name\u001b[0m\u001b[0;34m)\u001b[0m\u001b[0;34m\u001b[0m\u001b[0;34m\u001b[0m\u001b[0m\n\u001b[0;32m--> 496\u001b[0;31m             \u001b[0mresult\u001b[0m \u001b[0;34m=\u001b[0m \u001b[0mfunc\u001b[0m\u001b[0;34m(\u001b[0m\u001b[0;34m*\u001b[0m\u001b[0margs\u001b[0m\u001b[0;34m)\u001b[0m\u001b[0;34m\u001b[0m\u001b[0;34m\u001b[0m\u001b[0m\n\u001b[0m\u001b[1;32m    497\u001b[0m             \u001b[0;32mif\u001b[0m \u001b[0mresult\u001b[0m \u001b[0;32mis\u001b[0m \u001b[0;32mnot\u001b[0m \u001b[0;32mNone\u001b[0m\u001b[0;34m:\u001b[0m\u001b[0;34m\u001b[0m\u001b[0;34m\u001b[0m\u001b[0m\n\u001b[1;32m    498\u001b[0m                 \u001b[0;32mreturn\u001b[0m \u001b[0mresult\u001b[0m\u001b[0;34m\u001b[0m\u001b[0;34m\u001b[0m\u001b[0m\n",
      "\u001b[0;32m/usr/lib64/python3.10/urllib/request.py\u001b[0m in \u001b[0;36mhttp_error_default\u001b[0;34m(self, req, fp, code, msg, hdrs)\u001b[0m\n\u001b[1;32m    641\u001b[0m \u001b[0;32mclass\u001b[0m \u001b[0mHTTPDefaultErrorHandler\u001b[0m\u001b[0;34m(\u001b[0m\u001b[0mBaseHandler\u001b[0m\u001b[0;34m)\u001b[0m\u001b[0;34m:\u001b[0m\u001b[0;34m\u001b[0m\u001b[0;34m\u001b[0m\u001b[0m\n\u001b[1;32m    642\u001b[0m     \u001b[0;32mdef\u001b[0m \u001b[0mhttp_error_default\u001b[0m\u001b[0;34m(\u001b[0m\u001b[0mself\u001b[0m\u001b[0;34m,\u001b[0m \u001b[0mreq\u001b[0m\u001b[0;34m,\u001b[0m \u001b[0mfp\u001b[0m\u001b[0;34m,\u001b[0m \u001b[0mcode\u001b[0m\u001b[0;34m,\u001b[0m \u001b[0mmsg\u001b[0m\u001b[0;34m,\u001b[0m \u001b[0mhdrs\u001b[0m\u001b[0;34m)\u001b[0m\u001b[0;34m:\u001b[0m\u001b[0;34m\u001b[0m\u001b[0;34m\u001b[0m\u001b[0m\n\u001b[0;32m--> 643\u001b[0;31m         \u001b[0;32mraise\u001b[0m \u001b[0mHTTPError\u001b[0m\u001b[0;34m(\u001b[0m\u001b[0mreq\u001b[0m\u001b[0;34m.\u001b[0m\u001b[0mfull_url\u001b[0m\u001b[0;34m,\u001b[0m \u001b[0mcode\u001b[0m\u001b[0;34m,\u001b[0m \u001b[0mmsg\u001b[0m\u001b[0;34m,\u001b[0m \u001b[0mhdrs\u001b[0m\u001b[0;34m,\u001b[0m \u001b[0mfp\u001b[0m\u001b[0;34m)\u001b[0m\u001b[0;34m\u001b[0m\u001b[0;34m\u001b[0m\u001b[0m\n\u001b[0m\u001b[1;32m    644\u001b[0m \u001b[0;34m\u001b[0m\u001b[0m\n\u001b[1;32m    645\u001b[0m \u001b[0;32mclass\u001b[0m \u001b[0mHTTPRedirectHandler\u001b[0m\u001b[0;34m(\u001b[0m\u001b[0mBaseHandler\u001b[0m\u001b[0;34m)\u001b[0m\u001b[0;34m:\u001b[0m\u001b[0;34m\u001b[0m\u001b[0;34m\u001b[0m\u001b[0m\n",
      "\u001b[0;31mHTTPError\u001b[0m: HTTP Error 404: Not Found"
     ]
    }
   ],
   "source": [
    "get_case(\"https://www.supremecourt.uk/cases/uksc-2021-0063.html\")"
   ]
  },
  {
   "cell_type": "code",
   "execution_count": 14,
   "id": "736cce09-a02f-4bcb-9b9d-a894e1d117a0",
   "metadata": {},
   "outputs": [
    {
     "data": {
      "text/plain": [
       "'https://www.supremecourt.uk/cases/uksc-2021-0063.html'"
      ]
     },
     "execution_count": 14,
     "metadata": {},
     "output_type": "execute_result"
    }
   ],
   "source": [
    "base_url = \"https://www.supremecourt.uk/cases/uksc-2021-0063.html\"\n",
    "base_url"
   ]
  },
  {
   "cell_type": "code",
   "execution_count": 15,
   "id": "d7a828f0-9601-4862-8700-29a165c90b0c",
   "metadata": {},
   "outputs": [],
   "source": [
    "pdf_url = base_url.replace('.html', '-judgment.pdf').replace('cases/', 'cases/docs/')\n",
    "summary_url = base_url.replace('.html', '-press-summary.pdf').replace('cases/', 'cases/docs/')\n",
    "case = base_url.replace('.html', '').replace('https://www.supremecourt.uk/cases/','')\n",
    "year_bool = False\n",
    "if int(base_url[39:43]) >= 2017:\n",
    "    year_bool = True"
   ]
  },
  {
   "cell_type": "code",
   "execution_count": 16,
   "id": "9f44556e-0927-4d88-9f4c-a95403df140a",
   "metadata": {},
   "outputs": [
    {
     "data": {
      "text/plain": [
       "'https://www.supremecourt.uk/cases/docs/uksc-2021-0063-judgment.pdf'"
      ]
     },
     "execution_count": 16,
     "metadata": {},
     "output_type": "execute_result"
    }
   ],
   "source": [
    "pdf_url"
   ]
  },
  {
   "cell_type": "code",
   "execution_count": null,
   "id": "9e17ba7e-df52-4d22-8d48-5dc235cd0d66",
   "metadata": {},
   "outputs": [],
   "source": []
  },
  {
   "cell_type": "code",
   "execution_count": 4,
   "id": "93171f4b-025b-4f84-b172-34f05fa274e6",
   "metadata": {},
   "outputs": [
    {
     "data": {
      "text/plain": [
       "'https://www.supremecourt.uk/cases/uksc-2009-0184.html'"
      ]
     },
     "execution_count": 4,
     "metadata": {},
     "output_type": "execute_result"
    }
   ],
   "source": [
    "links[0][0].split()[2][:-1]"
   ]
  },
  {
   "cell_type": "code",
   "execution_count": 6,
   "id": "266b8223-6267-4f25-9ba2-61b23bd74037",
   "metadata": {},
   "outputs": [
    {
     "name": "stderr",
     "output_type": "stream",
     "text": [
      "/home/oliver/code/ogiles1999/translating-the-law/translating_the_law/downloading/extract.py:17: GuessedAtParserWarning: No parser was explicitly specified, so I'm using the best available HTML parser for this system (\"lxml\"). This usually isn't a problem, but if you run this code on another system, or in a different virtual environment, it may use a different parser and behave differently.\n",
      "\n",
      "The code that caused this warning is on line 17 of the file /home/oliver/code/ogiles1999/translating-the-law/translating_the_law/downloading/extract.py. To get rid of this warning, pass the additional argument 'features=\"lxml\"' to the BeautifulSoup constructor.\n",
      "\n",
      "  soup = BeautifulSoup(html)\n"
     ]
    }
   ],
   "source": [
    "test_data = get_case(\"https://www.supremecourt.uk/cases/uksc-2021-0062.html\")"
   ]
  },
  {
   "cell_type": "code",
   "execution_count": 8,
   "id": "b05f889d-3b1e-4edc-825d-988e2283b5fc",
   "metadata": {},
   "outputs": [
    {
     "data": {
      "text/plain": [
       "{'Press summary': 'R (on the application of O (a minor, by her litigation friend AO)) (Appellant) v Secretary of State for the Home Department (Respondent)\\r\\nR (on the application of The Project for the Registration of Children as British Citizens) (Appellant) v Secretary of State for the Home Department (Respondent)\\r\\n - Press SummarySkip to Primary NavigationSkip to ContentGo to the home pageGo to Latest newsGo to the sitemap pageGo to searchGo to the Decided casesGo to the Current casesGo to the Complaints Policies and Judicial ConductGo to the terms and conditions pageGo to the contact us pageGo to the accessibility statement pageSkip to main contentHomeAccessibilityEducationPress officeContact usFAQsCareersCymraegBookmarkPress SummaryHomeCase SummaryDecided casesCourt proceduresVisiting The CourtAbout The Supreme CourtLatestnewsCurrent casesR (on the application of O (a minor, by her litigation friend AO)) (Appellant) v Secretary of State for the Home Department (Respondent)\\r\\nR (on the application of The Project for the Registration of Children as British Citizens) (Appellant) v Secretary of State for the Home Department (Respondent)\\r\\n [2022] UKSC 3On appeal from: [2021] EWCA Civ 193THE COURT ORDERED that no one shall publish or reveal the names or addresses of the Appellant who is the subject of these proceedings or publish or reveal any information which would be likely to lead to the identification of the Appellant or of any members of her family in connection with these proceedings.Date:2 February 2022',\n",
       " 'Justices': 'Lord Hodge (Deputy President), Lord Briggs, Lady Arden, Lord Stephens, Lady Rose',\n",
       " 'Background to the appeal': 'This appeal concerns whether subordinate legislation was ultra vires because it set the fee at which a child or young person could apply to be registered as a British citizen at a level which many young applicants have found to be unaffordable [1].The first claimant, O, was born in the United Kingdom in July 2007, attends school and has never left the UK. She has Nigerian citizenship, but from her tenth birthday she has satisfied the requirements to apply for registration as a British citizen under section 1(4) of the British Nationality Act 1981 (the \"1981 Act\"). O applied to be registered as a British citizen on 15 December 2017 but was unable to afford the full amount of the fee, which was £973 at that time [2]. It was not disputed that many children and their families cannot afford the fee charged where an applicant is a child [20]. Because the full fee was not paid, the Secretary of State refused to process O’s application [2]. O is joined in her challenge by The Project for the Registration of Children as British Citizens [4].The Immigration Act 2014 (the \"2014 Act\") empowers the Secretary of State to set the fees for applications to obtain British citizenship in subordinate legislation, having regard only to the matters listed in section 68(9) of the 2014 Act. Those matters include not only the cost of processing the application but also the benefits that are likely to accrue from obtaining British citizenship and the costs of exercising other functions in relation to immigration and nationality [9-17]. The current level of the fee produces a substantial surplus, over the administrative cost of processing an application to be applied, to subsidise other parts of the immigration and nationality system [3].The appellants challenge the level of the registration fee on the basis that the Secretary of State did not have the power to set the fee at a level which rendered nugatory the underlying statutory right to become a British citizen conferred by the 1981 Act [20-21].',\n",
       " 'Judgment': 'The Supreme Court unanimously dismisses the appeal. Lord Hodge gives the lead judgment, with whom Lord Briggs, Lord Stephens and Lady Rose agree. Lady Arden gives a concurring judgment.',\n",
       " 'Reasons for the judgment': 'Lord Hodge explains that the issue on this appeal is one of statutory interpretation: whether Parliament has authorised in primary legislation the imposition by subordinate legislation of the challenged fee [27].Lord Hodge begins by explaining the process of statutory interpretation. By statutory interpretation, the courts are seeking the meaning of the words which Parliament used. Words and passages in a statute derive their meaning from their context. Other provisions in the statute and the statute as a whole may provide the relevant internal context. They are the words which Parliament has chosen to enact as an expression of the purpose of the legislation and are therefore the primary source by which meaning is ascertained [29]. An important constitutional reason for having regard primarily to the statutory context is that citizens should be able to rely upon what they read in an Act of Parliament [29]. External aids, such as explanatory notes, Law Commission reports, and Government White Papers, must therefore play a secondary role. External aids may assist in identifying the background to a statute, the issue it addresses and its purpose, and the context they disclose may assist in ascertaining the meaning of the statute. But they do not displace the meanings of the words of a statute which are clear and unambiguous in their wider context and which do not produce absurdity [30]. In summary, statutory interpretation involves an objective assessment of the meaning which a reasonable legislature as a body would be seeking to convey in using the statutory words which are being considered [31].Lord Hodge then turns to the appellants’ submissions. He notes that the appeal is not concerned with fundamental or constitutional common law rights, nor are any Convention rights under the Human Rights Act 1998 engaged [33]. The special rules of construction that are applicable when the principle of legality is infringed or the constitutional right of access to the courts is intruded upon therefore do not apply [33]. The appellants’ argument based on the constitutional right of access to the courts therefore has no application to the present case [36].The appellants also argued that specific statutory rights are not to be cut down by subordinate legislation passed under the vires of a different Act, a rule identified in the case of R v Secretary of State for Social Security, Ex p Joint Council for the Welfare of Immigrants [1997] 1 WLR 275 (\"JCWI\") [34]. Lord Hodge explains that an earlier statute (\"statute 1\") can be expressly or impliedly amended or repealed by Parliament enacting a later statute (\"statute 2\"), including by empowering the executive branch of government to make subordinate legislation which impinges upon and even removes rights conferred by statute 1 [40]. Where statute 2 authorises subordinate legislation, the court’s task is to ascertain the scope of the enabling power contained in statute 2 [40]. In doing so the court will take into account assumptions or presumptions such as the principle of legality [41]. If the court concludes that statute 2 has empowered the executive to make subordinate legislation which has the effect of removing rights conferred by statute 1, the rule inJCWIidentified by the appellants imposes no additional hurdle [42]. And where the court is not dealing with an interference by statute with a common law constitutional right or with a statutory provision which declares such a fundamental or constitutional right, the normal rules of statutory interpretation apply [43].Applying those principles, Lord Hodge concludes that, in the 2014 Act, Parliament authorised the subordinate legislation by which the Secretary of State has fixed the relevant application fee [51]. The appropriateness of imposing the fee on children is a question of policy which is for political determination, and not a matter for the court. The appeal is therefore dismissed [52].Lady Arden agrees with Lord Hodge but explains that she considers there is a wider role in statutory interpretation for pre-legislative materials [58]. Lady Arden observes that the constitutional reason Lord Hodge gives for the courts not using explanatory notes no longer applies insofar as explanatory notes are now often published by commercial publishers and appear online free of charge [59-60]. Lady Arden also considers that there are occasions when pre-legislative material may go further than simply provide the background or context for the statutory provision in question [64-65]. In appropriate circumstances such materials can also considerably help the judge better to perform his or her role of finding the intention of Parliament in any particular enactment, for example when such materials reveal that the language of the statute – perhaps thought to be clear on its face – is in fact ambiguous [66-76].References in square brackets are to paragraphs in the judgmentNoteThis summary is provided to assist in understanding the Court’s decision. It does not form part of the reasons for the decision. The full judgment of the Court is the only authoritative document. Judgments are public documents and are available online.Decided casesJudicial Committee of The Privy Council websiteTerms and conditionsSite mapPrivacy notice© Crown Copyright 2022'}"
      ]
     },
     "execution_count": 8,
     "metadata": {},
     "output_type": "execute_result"
    }
   ],
   "source": [
    "test_data['press summary']"
   ]
  },
  {
   "cell_type": "code",
   "execution_count": 12,
   "id": "8bd40b45-6134-465f-a66e-6b8b5fcade07",
   "metadata": {},
   "outputs": [],
   "source": [
    "data = test_data['press summary']['Reasons for the judgment']"
   ]
  },
  {
   "cell_type": "code",
   "execution_count": 15,
   "id": "eb9413d6-b811-4381-9762-cac79b294ba6",
   "metadata": {},
   "outputs": [],
   "source": [
    "from bs4 import BeautifulSoup\n",
    "import requests"
   ]
  },
  {
   "cell_type": "code",
   "execution_count": 18,
   "id": "cfe870f5-0f13-4cfb-8a80-250ae619f388",
   "metadata": {},
   "outputs": [],
   "source": [
    "data = requests.get(\"https://www.supremecourt.uk/press-summary/uksc-2021-0062.html\").content"
   ]
  },
  {
   "cell_type": "code",
   "execution_count": 21,
   "id": "22b61cbc-c922-4aa9-acc6-504639755043",
   "metadata": {},
   "outputs": [
    {
     "data": {
      "text/plain": [
       "b'<!doctype html>\\r\\n<html lang=\"en\">\\r\\n<head>\\r\\n<meta charset=\"UTF-8\">\\r\\n<title>R (on the application of O (a minor, by her litigation friend AO)) (Appellant) v Secretary of State for the Home Department (Respondent)\\r\\nR (on the application of The Project for the Registration of Children as British Citizens) (Appellant) v Secretary of State for the Home Department (Respondent)\\r\\n - Press Summary</title>\\r\\n\\r\\n<meta name=\"description\" content=\"Press Summary\" />\\r\\n<meta name=\"keywords\" content=\"[2022] UKSC 3, 2 February 2022, UKSC 2021/0062,2021/0063\" /> <!-- add date, UKSC and Case ID -->\\r\\n<!-- Meta Tags -->\\r\\n<meta http-equiv=\"content-type\" content=\"text/html; charset=utf-8\" />\\r\\n<meta name=\"author\" content=\"The Supreme Court\" />\\r\\n<meta name=\"robots\" content=\"index, follow\" />\\r\\n<meta name=\"dc.language\" content=\"ENG\" />\\r\\n<link rel=\"shortcut icon\" href=\"/favicon.ico\" />\\r\\n<!-- CSS -->\\r\\n<link rel=\"stylesheet\" href=\"/css/reset.css\" media=\"screen\" type=\"text/css\" />\\r\\n<link rel=\"stylesheet\" href=\"/css/main.css\" media=\"screen\" type=\"text/css\" title=\"General Styles\"/>\\r\\n<link rel=\"stylesheet\" href=\"/css/color.css\" media=\"screen\" type=\"text/css\" title=\"General Styles\"/>\\r\\n<link rel=\"stylesheet\" href=\"/css/print.css\" type=\"text/css\" media=\"print\" />\\r\\n<link rel=\"stylesheet\" href=\"/css/press.css\" media=\"screen\" type=\"text/css\" />\\r\\n\\t\\r\\n<!-- CONDITIONAL  -->\\r\\n<!--[if IE]>\\r\\n<link rel=\"stylesheet\" href=\"/css/ie.css\" type=\"text/css\" media=\"screen\" />\\r\\n<![endif]-->\\r\\n<!--[if IE 6]>\\r\\n<link rel=\"stylesheet\" href=\"/css/ie6.css\" type=\"text/css\" media=\"screen\" />\\r\\n<![endif]-->\\r\\n<!--[if lt IE 9]>\\r\\n<script src=\"/dist/html5shiv.js\"></script>\\r\\n<![endif]-->\\r\\n<script type=\"text/javascript\" src=\"/js/combined.js\"></script>\\r\\n<script type=\"text/javascript\" src=\"/js/common.js\"></script>\\r\\n<script type=\"text/javascript\" src=\"/js/cookies.js\"></script>\\r\\n<script type=\"text/javascript\"></script>\\r\\n<script>\\r\\n  (function(i,s,o,g,r,a,m){i[\\'GoogleAnalyticsObject\\']=r;i[r]=i[r]||function(){\\r\\n  (i[r].q=i[r].q||[]).push(arguments)},i[r].l=1*new Date();a=s.createElement(o),\\r\\n  m=s.getElementsByTagName(o)[0];a.async=1;a.src=g;m.parentNode.insertBefore(a,m)\\r\\n  })(window,document,\\'script\\',\\'//www.google-analytics.com/analytics.js\\',\\'ga\\');\\r\\n\\r\\n  ga(\\'create\\', \\'UA-12566874-1\\', \\'auto\\');\\r\\n  ga(\\'send\\', \\'pageview\\');\\r\\n\\r\\n</script>\\r\\n<body class=\"subindex section-1\">\\r\\n<div id=\"cookieDirective\" style=\"display:none;\"></div>\\r\\n<p><a name=\"top\"></a></p>\\r\\n\\r\\n<!-- accessibilty links -->\\r\\n<ul id=\"a-l\" class=\"hidden\">\\r\\n<li><a href=\"#section-nav\" accesskey=\"n\">Skip to Primary Navigation</a></li>\\r\\n<li><a href=\"#primaryContent\" accesskey=\"s\">Skip to Content</a></li>\\r\\n<li><a href=\"https://www.supremecourt.uk/index.html\" accesskey=\"1\">Go to the home page</a></li>\\r\\n<li><a href=\"https://www.supremecourt.uk/news/index.html\" accesskey=\"2\">Go to Latest news</a></li>           \\r\\n<li><a href=\"https://www.supremecourt.uk/sitemap.html\" accesskey=\"3\">Go to the sitemap page</a></li>\\r\\n<li><a href=\"https://www.supremecourt.uk/results.html\" accesskey=\"4\">Go to search</a></li>\\r\\n<li><a href=\"https://www.supremecourt.uk/decided-cases/index.html\" accesskey=\"5\">Go to the Decided cases</a></li>\\r\\n<li><a href=\"https://www.supremecourt.uk/current-cases.html\" accesskey=\"6\">Go to the Current cases</a></li>\\r\\n<li><a href=\"https://www.supremecourt.uk/about/judicial-conduct-and-complaints.html\" accesskey=\"7\">Go to the Complaints Policies and Judicial Conduct</a></li>\\r\\n<li><a href=\"https://www.supremecourt.uk/terms-and-conditions.html\" accesskey=\"8\">Go to the terms and conditions page</a></li>\\r\\n<li><a href=\"https://www.supremecourt.uk/contact-us.html\" accesskey=\"9\">Go to the contact us page</a></li>\\r\\n<li><a href=\"https://www.supremecourt.uk/accessibility.html\" accesskey=\"0\">Go to the accessibility statement page</a></li>\\r\\n</ul>\\r\\n<div class=\"outer-wrap\">\\r\\n\\t<a href=\"#primaryContent\" id=\"sc-skiplink\">Skip to main content</a>\\r\\n<div class=\"inner-wrap\">\\r\\n<div id=\"container\">\\r\\n\\r\\n<header>\\r\\n      <!-- commence navigation -->\\r\\n      <div id=\"navigation\"> <a href=\"/index.html\" class=\"home\" accesskey=\"1\"><span class=\"bar\">&nbsp;</span><span>Home</span></a>\\r\\n          <ul>\\r\\n            <li class=\"first\"><a href=\"/accessibility.html\">Accessibility</a></li>\\r\\n            <li><a href=\"/education.html\">Education</a></li>\\r\\n            <li><a href=\"/press-office.html\">Press office</a></li>\\r\\n            <li><a href=\"/contact-us.html\">Contact us</a></li>\\r\\n            <li><a href=\"/faqs.html\">FAQs</a></li>\\r\\n            <li><a href=\"/careers.html\">Careers</a></li>\\r\\n            <li><a href=\"/cymraeg.html\" lang=\"cy\">Cymraeg</a></li>\\r\\n          </ul>\\r\\n      </div>\\r\\n      <!-- end navigation -->\\r\\n      <!--start search enginecoding-->\\r\\n<input class=\"addsearch\" data-addsearch-field-id=\"1\" />\\r\\n<script src=\"https://addsearch.com/js/?key=bb5ed5a80ec6844383bbc6a01f347e00\"></script> <div id=\"helpers\">\\r\\n<ul>\\r\\n<li><a href=\"#\" title=\"Bookmark\" class=\"bookmark\">Bookmark</a></li>\\r\\n</ul>\\r\\n</div>\\r\\n\\r\\n<!-- end navigation -->\\r\\n</header>\\r\\n<!-- end header -->\\r\\n\\r\\n<div id=\"frontplate\">\\r\\n  <div id=\"logo\" class=\"sc-access\">\\r\\n\\t\\t  \\r\\n\\t\\t  <div id=\"sc-logo\" title=\"Go to the Supreme Court homepage\">\\r\\n\\t\\t<a href=\"/\"><img src=\"/images/logo_medium.gif\" style=\"margin-top: -7px;width:215px;\" alt=\"Supreme Court Logo\"></a>\\r\\n\\t</div>\\r\\n\\t\\t</div>\\r\\n<div id=\"subtitle\"><h1>Press Summary</h1></div>\\r\\n</div>\\r\\n<div id=\"breadcrumb\">\\r\\n<ul>\\r\\n<li><a href=\"/index.html\" title=\"Home\">Home</a></li>\\r\\n<li><a href=\"https://www.supremecourt.uk/cases/uksc-2020-0084.html\" title=\"Case Summary\">Case Summary</a></li> <!-- case id-->\\r\\n\\r\\n</ul>\\r\\n</div>\\r\\n<div id=\"section-nav\">\\r\\n<ul>\\r\\n    <li class=\"item-1\"><a href=\"/decided-cases/index.html\">Decided cases</a></li>\\r\\n    <li class=\"item-2\"><a href=\"/procedures/index.html\">Court procedures</a></li>\\r\\n    <li class=\"item-3\"><a href=\"/visiting/index.html\">Visiting The Court</a></li>\\r\\n    <li class=\"item-4\"><a href=\"/about/index.html\">About The Supreme Court</a></li>\\r\\n    <li class=\"item-5\"><a href=\"/news/index.html\">Latest<br/>news</a></li>\\r\\n    <li class=\"item-6\"><a href=\"/current-cases/index.html\">Current cases</a></li>\\r\\n</ul>\\r\\n</div>\\r\\n<div id=\"primaryContent\" class=\"clearfix\">\\r\\n<div class=\"column-full\">\\r\\n<div class=\"panel-filled\">\\r\\n<h2><span>R (on the application of O (a minor, by her litigation friend AO)) (Appellant) v Secretary of State for the Home Department (Respondent)\\r\\nR (on the application of The Project for the Registration of Children as British Citizens) (Appellant) v Secretary of State for the Home Department (Respondent)\\r\\n [2022] UKSC 3 </span>On appeal from: [2021] EWCA Civ 193</h2>\\r\\n\\t\\r\\n<p>THE COURT ORDERED that no one shall publish or reveal the names or addresses of the Appellant who is the subject of these proceedings or publish or reveal any information which would be likely to lead to the identification of the Appellant or of any members of her family in connection with these proceedings.</p>\\r\\n\\r\\n<p style=\"text-align:right;\"><strong>Date:</strong>2 February 2022</p>\\r\\n<section>\\r\\n<h3 class=\"sc-access caption\">Justices</h3>\\r\\n<p>Lord Hodge (Deputy President), Lord Briggs, Lady Arden, Lord Stephens, Lady Rose </p>\\r\\n\\r\\n<h3 class=\"sc-access caption\">Background to the Appeal </h3>\\r\\n\\r\\n<p>This appeal concerns whether subordinate legislation was ultra vires because it set the fee at which a child or young person could apply to be registered as a British citizen at a level which many young applicants have found to be unaffordable [<strong>1</strong>].</p>\\r\\n\\t\\r\\n<p>The first claimant, O, was born in the United Kingdom in July 2007, attends school and has never left the UK. She has Nigerian citizenship, but from her tenth birthday she has satisfied the requirements to apply for registration as a British citizen under section 1(4) of the British Nationality Act 1981 (the \"<strong>1981 Act</strong>\"). O applied to be registered as a British citizen on 15 December 2017 but was unable to afford the full amount of the fee, which was \\xc2\\xa3973 at that time [<strong>2</strong>]. It was not disputed that many children and their families cannot afford the fee charged where an applicant is a child [<strong>20</strong>]. Because the full fee was not paid, the Secretary of State refused to process O\\xe2\\x80\\x99s application [<strong>2</strong>]. O is joined in her challenge by The Project for the Registration of Children as British Citizens [<strong>4</strong>].</p>\\r\\n\\t\\r\\n<p>The Immigration Act 2014 (the \"<strong>2014 Act</strong>\") empowers the Secretary of State to set the fees for applications to obtain British citizenship in subordinate legislation, having regard only to the matters listed in section 68(9) of the 2014 Act. Those matters include not only the cost of processing the application but also the benefits that are likely to accrue from obtaining British citizenship and the costs of exercising other functions in relation to immigration and nationality [<strong>9-17</strong>]. The current level of the fee produces a substantial surplus, over the administrative cost of processing an application to be applied, to subsidise other parts of the immigration and nationality system [<strong>3</strong>].</p>\\r\\n\\t\\r\\n<p>The appellants challenge the level of the registration fee on the basis that the Secretary of State did not have the power to set the fee at a level which rendered nugatory the underlying statutory right to become a British citizen conferred by the 1981 Act [<strong>20-21</strong>].</p>\\r\\n\\t\\r\\n<h3 class=\"sc-access caption\">Judgment</h3>\\r\\n\\r\\n<p>The Supreme Court unanimously dismisses the appeal. Lord Hodge gives the lead judgment, with whom Lord Briggs, Lord Stephens and Lady Rose agree. Lady Arden gives a concurring judgment.</p>\\r\\n\\r\\n<h3 class=\"sc-access caption\">Reasons for the Judgment</h3>\\r\\n\\r\\n<p>Lord Hodge explains that the issue on this appeal is one of statutory interpretation: whether Parliament has authorised in primary legislation the imposition by subordinate legislation of the challenged fee [<strong>27</strong>].</p>\\r\\n\\t\\r\\n<p>Lord Hodge begins by explaining the process of statutory interpretation. By statutory interpretation, the courts are seeking the meaning of the words which Parliament used. Words and passages in a statute derive their meaning from their context. Other provisions in the statute and the statute as a whole may provide the relevant internal context. They are the words which Parliament has chosen to enact as an expression of the purpose of the legislation and are therefore the primary source by which meaning is ascertained [<strong>29</strong>]. An important constitutional reason for having regard primarily to the statutory context is that citizens should be able to rely upon what they read in an Act of Parliament [<strong>29</strong>]. External aids, such as explanatory notes, Law Commission reports, and Government White Papers, must therefore play a secondary role. External aids may assist in identifying the background to a statute, the issue it addresses and its purpose, and the context they disclose may assist in ascertaining the meaning of the statute. But they do not displace the meanings of the words of a statute which are clear and unambiguous in their wider context and which do not produce absurdity [<strong>30</strong>]. In summary, statutory interpretation involves an objective assessment of the meaning which a reasonable legislature as a body would be seeking to convey in using the statutory words which are being considered [<strong>31</strong>].</p>\\r\\n\\r\\n<p>Lord Hodge then turns to the appellants\\xe2\\x80\\x99 submissions. He notes that the appeal is not concerned with fundamental or constitutional common law rights, nor are any Convention rights under the Human Rights Act 1998 engaged [<strong>33</strong>]. The special rules of construction that are applicable when the principle of legality is infringed or the constitutional right of access to the courts is intruded upon therefore do not apply [<strong>33</strong>]. The appellants\\xe2\\x80\\x99 argument based on the constitutional right of access to the courts therefore has no application to the present case [<strong>36</strong>].</p>\\r\\n\\t\\r\\n<p>The appellants also argued that specific statutory rights are not to be cut down by subordinate legislation passed under the vires of a different Act, a rule identified in the case of R v Secretary of State for Social Security, Ex p Joint Council for the Welfare of Immigrants [1997] 1 WLR 275 (\"<strong>JCWI</strong>\") [<strong>34</strong>]. Lord Hodge explains that an earlier statute (\"<strong>statute 1</strong>\") can be expressly or impliedly amended or repealed by Parliament enacting a later statute (\"<strong>statute 2</strong>\"), including by empowering the executive branch of government to make subordinate legislation which impinges upon and even removes rights conferred by statute 1 [<strong>40</strong>]. Where statute 2 authorises subordinate legislation, the court\\xe2\\x80\\x99s task is to ascertain the scope of the enabling power contained in statute 2 [<strong>40</strong>]. In doing so the court will take into account assumptions or presumptions such as the principle of legality [<strong>41</strong>]. If the court concludes that statute 2 has empowered the executive to make subordinate legislation which has the effect of removing rights conferred by statute 1, the rule in <strong>JCWI</strong> identified by the appellants imposes no additional hurdle [<strong>42</strong>]. And where the court is not dealing with an interference by statute with a common law constitutional right or with a statutory provision which declares such a fundamental or constitutional right, the normal rules of statutory interpretation apply [<strong>43</strong>].</p>\\r\\n\\t\\r\\n<p>Applying those principles, Lord Hodge concludes that, in the 2014 Act, Parliament authorised the subordinate legislation by which the Secretary of State has fixed the relevant application fee [<strong>51</strong>]. The appropriateness of imposing the fee on children is a question of policy which is for political determination, and not a matter for the court. The appeal is therefore dismissed [<strong>52</strong>].</p>\\r\\n\\t\\r\\n<p>Lady Arden agrees with Lord Hodge but explains that she considers there is a wider role in statutory interpretation for pre-legislative materials [<strong>58</strong>]. Lady Arden observes that the constitutional reason Lord Hodge gives for the courts not using explanatory notes no longer applies insofar as explanatory notes are now often published by commercial publishers and appear online free of charge [<strong>59-60</strong>]. Lady Arden also considers that there are occasions when pre-legislative material may go further than simply provide the background or context for the statutory provision in question [<strong>64-65</strong>]. In appropriate circumstances such materials can also considerably help the judge better to perform his or her role of finding the intention of Parliament in any particular enactment, for example when such materials reveal that the language of the statute &ndash; perhaps thought to be clear on its face &ndash; is in fact ambiguous [<strong>66-76</strong>].</p>\\r\\n\\t\\r\\n<p><em>References in square brackets are to paragraphs in the judgment</em></p>\\r\\n\\r\\n<h3 class=\"sc-access caption\">Note</h3>\\r\\n<p>This summary is provided to assist in understanding the Court\\xe2\\x80\\x99s decision. It does not form part of the reasons for the decision. The full judgment of the Court is the only authoritative document. Judgments are public documents and are available online. <a href=\"https://www.supremecourt.uk/decided-cases/index.html\">Decided cases</a></p>\\r\\n</section>\\r\\n\\r\\n<div class=\"clearfix\">\\xc2\\xa0</div>\\r\\n</div>\\r\\n\\r\\n\\r\\n\\t\\r\\n</div>\\r\\n<div class=\"clearfix\"></div>\\r\\n</div> <!-- primaryContent -->\\r\\n\\r\\n<footer>\\r\\n\\t<!--<script type=\"text/javascript\">\\r\\n(function () {\\r\\n        var content = document.querySelector(\\'div#primaryContent.clearfix div.column-wide-right.clearfix div.panel-filled\\');\\r\\n        if (content) {\\r\\n                var buttons = document.createElement(\\'div\\');\\r\\n                buttons.classList.add(\\'rns\\');\\r\\n                buttons.style.padding = \"0px 0px 8px 0px\";\\r\\n                window.rnsData = {\\r\\n                        apiKey: \\'hxjsyjtm0qb1kxab\\' \\r\\n                };\\r\\n                var s = document.createElement(\\'script\\');\\r\\n                s.src = \\'https://cdn.reactandshare.com/plugin/rns.js\\';\\r\\n\\r\\n                content.appendChild(buttons);\\r\\n                document.body.appendChild(s);\\r\\n\\r\\n        }\\r\\n})();\\r\\n</script>-->\\r\\n\\r\\n<div class=\"col-1\">\\r\\n<ul>\\r\\n<li class=\"first\"><a href=\"http://www.jcpc.uk\">Judicial Committee of The Privy Council website</a></li>\\r\\n</ul>\\r\\n</div>\\r\\n<div class=\"col-2\">\\r\\n<ul>\\r\\n<li class=\"first\"><a href=\"/terms-and-conditions.html\" class=\"first\">Terms and conditions</a></li>\\r\\n<li><a href=\"/sitemap.html\">Site map</a></li>\\r\\n<li><a href=\"/privacy-notice.html\">Privacy notice</a></li>\\r\\n<li>&copy; Crown Copyright 2022</li>\\r\\n</ul>\\r\\n</div>\\r\\n</footer>\\r\\n\\r\\n \\r\\n<!-- end container -->\\r\\n</div>\\r\\n\\r\\n</div>\\r\\n</div>\\r\\n</body>\\r\\n</html>'"
      ]
     },
     "execution_count": 21,
     "metadata": {},
     "output_type": "execute_result"
    }
   ],
   "source": [
    "data"
   ]
  },
  {
   "cell_type": "code",
   "execution_count": 39,
   "id": "d7772415-f04c-4d2e-8fad-c83c520c3482",
   "metadata": {},
   "outputs": [
    {
     "ename": "IndentationError",
     "evalue": "unexpected indent (3858842395.py, line 29)",
     "output_type": "error",
     "traceback": [
      "\u001b[0;36m  File \u001b[0;32m\"/tmp/ipykernel_105663/3858842395.py\"\u001b[0;36m, line \u001b[0;32m29\u001b[0m\n\u001b[0;31m    summary[\"Justices\"] = \"\".join(strips[judges+1:background])\u001b[0m\n\u001b[0m    ^\u001b[0m\n\u001b[0;31mIndentationError\u001b[0m\u001b[0;31m:\u001b[0m unexpected indent\n"
     ]
    }
   ],
   "source": [
    "soup = BeautifulSoup(data)\n",
    "for script in soup([\"script\", \"style\"]):\n",
    "    script.decompose()\n",
    "strips = list(soup.stripped_strings)\n",
    "summary = {}\n",
    "judges = 0\n",
    "background = 0\n",
    "judgment = 0\n",
    "reasons = 0\n",
    "for i, strip in enumerate(strips):\n",
    "    if strip == \"Justices\":\n",
    "        print(i)\n",
    "        judges = i\n",
    "        print(strip)\n",
    "#    elif strip == \"Background to the Appeal\":\n",
    "#        print(i)\n",
    "#        background = i\n",
    "#        print(strip)\n",
    "#    elif strip == \"Judgment\":\n",
    "#        print(i)\n",
    "#        judgment = i\n",
    "#        print(strip)\n",
    "#    elif strip == \"Reasons for the Judgment\":\n",
    "#        print(i)\n",
    "#        reasons = i\n",
    "#        print(strip)\n",
    "print(judges)\n",
    "summary[\"Press summary\"] = \"\".join(strips[:judges])\n",
    "    summary[\"Justices\"] = \"\".join(strips[judges+1:background])\n",
    "    summary[\"Background to the appeal\"] = \"\".join(strips[background+1:judgment])\n",
    "#    summary[\"Judgment\"] = \"\".join(strips[judgment+1:reasons])\n",
    "#    summary[\"Reasons for the judgment\"] = \"\".join(strips[reasons + 1:])"
   ]
  },
  {
   "cell_type": "code",
   "execution_count": 38,
   "id": "d772a8df-2a27-413d-a02f-7ef1d2e5cf79",
   "metadata": {},
   "outputs": [
    {
     "data": {
      "text/plain": [
       "'R (on the application of O (a minor, by her litigation friend AO)) (Appellant) v Secretary of State for the Home Department (Respondent)\\r\\nR (on the application of The Project for the Registration of Children as British Citizens) (Appellant) v Secretary of State for the Home Department (Respondent)\\r\\n - Press SummarySkip to Primary NavigationSkip to ContentGo to the home pageGo to Latest newsGo to the sitemap pageGo to searchGo to the Decided casesGo to the Current casesGo to the Complaints Policies and Judicial ConductGo to the terms and conditions pageGo to the contact us pageGo to the accessibility statement pageSkip to main contentHomeAccessibilityEducationPress officeContact usFAQsCareersCymraegBookmarkPress SummaryHomeCase SummaryDecided casesCourt proceduresVisiting The CourtAbout The Supreme CourtLatestnewsCurrent casesR (on the application of O (a minor, by her litigation friend AO)) (Appellant) v Secretary of State for the Home Department (Respondent)\\r\\nR (on the application of The Project for the Registration of Children as British Citizens) (Appellant) v Secretary of State for the Home Department (Respondent)\\r\\n [2022] UKSC 3On appeal from: [2021] EWCA Civ 193THE COURT ORDERED that no one shall publish or reveal the names or addresses of the Appellant who is the subject of these proceedings or publish or reveal any information which would be likely to lead to the identification of the Appellant or of any members of her family in connection with these proceedings.Date:2 February 2022'"
      ]
     },
     "execution_count": 38,
     "metadata": {},
     "output_type": "execute_result"
    }
   ],
   "source": [
    "\"\".join(strips[:38])"
   ]
  },
  {
   "cell_type": "code",
   "execution_count": 36,
   "id": "1be08a9c-b379-465a-9238-f7fc2c03f76c",
   "metadata": {},
   "outputs": [
    {
     "data": {
      "text/plain": [
       "{'Press summary': ''}"
      ]
     },
     "execution_count": 36,
     "metadata": {},
     "output_type": "execute_result"
    }
   ],
   "source": [
    "summary"
   ]
  },
  {
   "cell_type": "code",
   "execution_count": 25,
   "id": "75c70780-4b4b-4e9a-bdc3-330712ca7399",
   "metadata": {},
   "outputs": [
    {
     "data": {
      "text/plain": [
       "['R (on the application of O (a minor, by her litigation friend AO)) (Appellant) v Secretary of State for the Home Department (Respondent)\\r\\nR (on the application of The Project for the Registration of Children as British Citizens) (Appellant) v Secretary of State for the Home Department (Respondent)\\r\\n - Press Summary',\n",
       " 'Skip to Primary Navigation',\n",
       " 'Skip to Content',\n",
       " 'Go to the home page',\n",
       " 'Go to Latest news',\n",
       " 'Go to the sitemap page',\n",
       " 'Go to search',\n",
       " 'Go to the Decided cases',\n",
       " 'Go to the Current cases',\n",
       " 'Go to the Complaints Policies and Judicial Conduct',\n",
       " 'Go to the terms and conditions page',\n",
       " 'Go to the contact us page',\n",
       " 'Go to the accessibility statement page',\n",
       " 'Skip to main content',\n",
       " 'Home',\n",
       " 'Accessibility',\n",
       " 'Education',\n",
       " 'Press office',\n",
       " 'Contact us',\n",
       " 'FAQs',\n",
       " 'Careers',\n",
       " 'Cymraeg',\n",
       " 'Bookmark',\n",
       " 'Press Summary',\n",
       " 'Home',\n",
       " 'Case Summary',\n",
       " 'Decided cases',\n",
       " 'Court procedures',\n",
       " 'Visiting The Court',\n",
       " 'About The Supreme Court',\n",
       " 'Latest',\n",
       " 'news',\n",
       " 'Current cases',\n",
       " 'R (on the application of O (a minor, by her litigation friend AO)) (Appellant) v Secretary of State for the Home Department (Respondent)\\r\\nR (on the application of The Project for the Registration of Children as British Citizens) (Appellant) v Secretary of State for the Home Department (Respondent)\\r\\n [2022] UKSC 3',\n",
       " 'On appeal from: [2021] EWCA Civ 193',\n",
       " 'THE COURT ORDERED that no one shall publish or reveal the names or addresses of the Appellant who is the subject of these proceedings or publish or reveal any information which would be likely to lead to the identification of the Appellant or of any members of her family in connection with these proceedings.',\n",
       " 'Date:',\n",
       " '2 February 2022',\n",
       " 'Justices',\n",
       " 'Lord Hodge (Deputy President), Lord Briggs, Lady Arden, Lord Stephens, Lady Rose',\n",
       " 'Background to the Appeal',\n",
       " 'This appeal concerns whether subordinate legislation was ultra vires because it set the fee at which a child or young person could apply to be registered as a British citizen at a level which many young applicants have found to be unaffordable [',\n",
       " '1',\n",
       " '].',\n",
       " 'The first claimant, O, was born in the United Kingdom in July 2007, attends school and has never left the UK. She has Nigerian citizenship, but from her tenth birthday she has satisfied the requirements to apply for registration as a British citizen under section 1(4) of the British Nationality Act 1981 (the \"',\n",
       " '1981 Act',\n",
       " '\"). O applied to be registered as a British citizen on 15 December 2017 but was unable to afford the full amount of the fee, which was £973 at that time [',\n",
       " '2',\n",
       " ']. It was not disputed that many children and their families cannot afford the fee charged where an applicant is a child [',\n",
       " '20',\n",
       " ']. Because the full fee was not paid, the Secretary of State refused to process O’s application [',\n",
       " '2',\n",
       " ']. O is joined in her challenge by The Project for the Registration of Children as British Citizens [',\n",
       " '4',\n",
       " '].',\n",
       " 'The Immigration Act 2014 (the \"',\n",
       " '2014 Act',\n",
       " '\") empowers the Secretary of State to set the fees for applications to obtain British citizenship in subordinate legislation, having regard only to the matters listed in section 68(9) of the 2014 Act. Those matters include not only the cost of processing the application but also the benefits that are likely to accrue from obtaining British citizenship and the costs of exercising other functions in relation to immigration and nationality [',\n",
       " '9-17',\n",
       " ']. The current level of the fee produces a substantial surplus, over the administrative cost of processing an application to be applied, to subsidise other parts of the immigration and nationality system [',\n",
       " '3',\n",
       " '].',\n",
       " 'The appellants challenge the level of the registration fee on the basis that the Secretary of State did not have the power to set the fee at a level which rendered nugatory the underlying statutory right to become a British citizen conferred by the 1981 Act [',\n",
       " '20-21',\n",
       " '].',\n",
       " 'Judgment',\n",
       " 'The Supreme Court unanimously dismisses the appeal. Lord Hodge gives the lead judgment, with whom Lord Briggs, Lord Stephens and Lady Rose agree. Lady Arden gives a concurring judgment.',\n",
       " 'Reasons for the Judgment',\n",
       " 'Lord Hodge explains that the issue on this appeal is one of statutory interpretation: whether Parliament has authorised in primary legislation the imposition by subordinate legislation of the challenged fee [',\n",
       " '27',\n",
       " '].',\n",
       " 'Lord Hodge begins by explaining the process of statutory interpretation. By statutory interpretation, the courts are seeking the meaning of the words which Parliament used. Words and passages in a statute derive their meaning from their context. Other provisions in the statute and the statute as a whole may provide the relevant internal context. They are the words which Parliament has chosen to enact as an expression of the purpose of the legislation and are therefore the primary source by which meaning is ascertained [',\n",
       " '29',\n",
       " ']. An important constitutional reason for having regard primarily to the statutory context is that citizens should be able to rely upon what they read in an Act of Parliament [',\n",
       " '29',\n",
       " ']. External aids, such as explanatory notes, Law Commission reports, and Government White Papers, must therefore play a secondary role. External aids may assist in identifying the background to a statute, the issue it addresses and its purpose, and the context they disclose may assist in ascertaining the meaning of the statute. But they do not displace the meanings of the words of a statute which are clear and unambiguous in their wider context and which do not produce absurdity [',\n",
       " '30',\n",
       " ']. In summary, statutory interpretation involves an objective assessment of the meaning which a reasonable legislature as a body would be seeking to convey in using the statutory words which are being considered [',\n",
       " '31',\n",
       " '].',\n",
       " 'Lord Hodge then turns to the appellants’ submissions. He notes that the appeal is not concerned with fundamental or constitutional common law rights, nor are any Convention rights under the Human Rights Act 1998 engaged [',\n",
       " '33',\n",
       " ']. The special rules of construction that are applicable when the principle of legality is infringed or the constitutional right of access to the courts is intruded upon therefore do not apply [',\n",
       " '33',\n",
       " ']. The appellants’ argument based on the constitutional right of access to the courts therefore has no application to the present case [',\n",
       " '36',\n",
       " '].',\n",
       " 'The appellants also argued that specific statutory rights are not to be cut down by subordinate legislation passed under the vires of a different Act, a rule identified in the case of R v Secretary of State for Social Security, Ex p Joint Council for the Welfare of Immigrants [1997] 1 WLR 275 (\"',\n",
       " 'JCWI',\n",
       " '\") [',\n",
       " '34',\n",
       " ']. Lord Hodge explains that an earlier statute (\"',\n",
       " 'statute 1',\n",
       " '\") can be expressly or impliedly amended or repealed by Parliament enacting a later statute (\"',\n",
       " 'statute 2',\n",
       " '\"), including by empowering the executive branch of government to make subordinate legislation which impinges upon and even removes rights conferred by statute 1 [',\n",
       " '40',\n",
       " ']. Where statute 2 authorises subordinate legislation, the court’s task is to ascertain the scope of the enabling power contained in statute 2 [',\n",
       " '40',\n",
       " ']. In doing so the court will take into account assumptions or presumptions such as the principle of legality [',\n",
       " '41',\n",
       " ']. If the court concludes that statute 2 has empowered the executive to make subordinate legislation which has the effect of removing rights conferred by statute 1, the rule in',\n",
       " 'JCWI',\n",
       " 'identified by the appellants imposes no additional hurdle [',\n",
       " '42',\n",
       " ']. And where the court is not dealing with an interference by statute with a common law constitutional right or with a statutory provision which declares such a fundamental or constitutional right, the normal rules of statutory interpretation apply [',\n",
       " '43',\n",
       " '].',\n",
       " 'Applying those principles, Lord Hodge concludes that, in the 2014 Act, Parliament authorised the subordinate legislation by which the Secretary of State has fixed the relevant application fee [',\n",
       " '51',\n",
       " ']. The appropriateness of imposing the fee on children is a question of policy which is for political determination, and not a matter for the court. The appeal is therefore dismissed [',\n",
       " '52',\n",
       " '].',\n",
       " 'Lady Arden agrees with Lord Hodge but explains that she considers there is a wider role in statutory interpretation for pre-legislative materials [',\n",
       " '58',\n",
       " ']. Lady Arden observes that the constitutional reason Lord Hodge gives for the courts not using explanatory notes no longer applies insofar as explanatory notes are now often published by commercial publishers and appear online free of charge [',\n",
       " '59-60',\n",
       " ']. Lady Arden also considers that there are occasions when pre-legislative material may go further than simply provide the background or context for the statutory provision in question [',\n",
       " '64-65',\n",
       " ']. In appropriate circumstances such materials can also considerably help the judge better to perform his or her role of finding the intention of Parliament in any particular enactment, for example when such materials reveal that the language of the statute – perhaps thought to be clear on its face – is in fact ambiguous [',\n",
       " '66-76',\n",
       " '].',\n",
       " 'References in square brackets are to paragraphs in the judgment',\n",
       " 'Note',\n",
       " 'This summary is provided to assist in understanding the Court’s decision. It does not form part of the reasons for the decision. The full judgment of the Court is the only authoritative document. Judgments are public documents and are available online.',\n",
       " 'Decided cases',\n",
       " 'Judicial Committee of The Privy Council website',\n",
       " 'Terms and conditions',\n",
       " 'Site map',\n",
       " 'Privacy notice',\n",
       " '© Crown Copyright 2022']"
      ]
     },
     "execution_count": 25,
     "metadata": {},
     "output_type": "execute_result"
    }
   ],
   "source": [
    "strips"
   ]
  },
  {
   "cell_type": "code",
   "execution_count": 20,
   "id": "21e94558-68f1-493a-8f39-361bea523485",
   "metadata": {},
   "outputs": [
    {
     "data": {
      "text/plain": [
       "{'Press summary': '',\n",
       " 'Justices': '',\n",
       " 'Background to the appeal': '',\n",
       " 'Judgment': '',\n",
       " 'Reasons for the judgment': 'Skip to Primary NavigationSkip to ContentGo to the home pageGo to Latest newsGo to the sitemap pageGo to searchGo to the Decided casesGo to the Current casesGo to the Complaints Policies and Judicial ConductGo to the terms and conditions pageGo to the contact us pageGo to the accessibility statement pageSkip to main contentHomeAccessibilityEducationPress officeContact usFAQsCareersCymraegBookmarkPress SummaryHomeCase SummaryDecided casesCourt proceduresVisiting The CourtAbout The Supreme CourtLatestnewsCurrent casesR (on the application of O (a minor, by her litigation friend AO)) (Appellant) v Secretary of State for the Home Department (Respondent)\\r\\nR (on the application of The Project for the Registration of Children as British Citizens) (Appellant) v Secretary of State for the Home Department (Respondent)\\r\\n [2022] UKSC 3On appeal from: [2021] EWCA Civ 193THE COURT ORDERED that no one shall publish or reveal the names or addresses of the Appellant who is the subject of these proceedings or publish or reveal any information which would be likely to lead to the identification of the Appellant or of any members of her family in connection with these proceedings.Date:2 February 2022JusticesLord Hodge (Deputy President), Lord Briggs, Lady Arden, Lord Stephens, Lady RoseBackground to the AppealThis appeal concerns whether subordinate legislation was ultra vires because it set the fee at which a child or young person could apply to be registered as a British citizen at a level which many young applicants have found to be unaffordable [1].The first claimant, O, was born in the United Kingdom in July 2007, attends school and has never left the UK. She has Nigerian citizenship, but from her tenth birthday she has satisfied the requirements to apply for registration as a British citizen under section 1(4) of the British Nationality Act 1981 (the \"1981 Act\"). O applied to be registered as a British citizen on 15 December 2017 but was unable to afford the full amount of the fee, which was £973 at that time [2]. It was not disputed that many children and their families cannot afford the fee charged where an applicant is a child [20]. Because the full fee was not paid, the Secretary of State refused to process O’s application [2]. O is joined in her challenge by The Project for the Registration of Children as British Citizens [4].The Immigration Act 2014 (the \"2014 Act\") empowers the Secretary of State to set the fees for applications to obtain British citizenship in subordinate legislation, having regard only to the matters listed in section 68(9) of the 2014 Act. Those matters include not only the cost of processing the application but also the benefits that are likely to accrue from obtaining British citizenship and the costs of exercising other functions in relation to immigration and nationality [9-17]. The current level of the fee produces a substantial surplus, over the administrative cost of processing an application to be applied, to subsidise other parts of the immigration and nationality system [3].The appellants challenge the level of the registration fee on the basis that the Secretary of State did not have the power to set the fee at a level which rendered nugatory the underlying statutory right to become a British citizen conferred by the 1981 Act [20-21].JudgmentThe Supreme Court unanimously dismisses the appeal. Lord Hodge gives the lead judgment, with whom Lord Briggs, Lord Stephens and Lady Rose agree. Lady Arden gives a concurring judgment.Reasons for the JudgmentLord Hodge explains that the issue on this appeal is one of statutory interpretation: whether Parliament has authorised in primary legislation the imposition by subordinate legislation of the challenged fee [27].Lord Hodge begins by explaining the process of statutory interpretation. By statutory interpretation, the courts are seeking the meaning of the words which Parliament used. Words and passages in a statute derive their meaning from their context. Other provisions in the statute and the statute as a whole may provide the relevant internal context. They are the words which Parliament has chosen to enact as an expression of the purpose of the legislation and are therefore the primary source by which meaning is ascertained [29]. An important constitutional reason for having regard primarily to the statutory context is that citizens should be able to rely upon what they read in an Act of Parliament [29]. External aids, such as explanatory notes, Law Commission reports, and Government White Papers, must therefore play a secondary role. External aids may assist in identifying the background to a statute, the issue it addresses and its purpose, and the context they disclose may assist in ascertaining the meaning of the statute. But they do not displace the meanings of the words of a statute which are clear and unambiguous in their wider context and which do not produce absurdity [30]. In summary, statutory interpretation involves an objective assessment of the meaning which a reasonable legislature as a body would be seeking to convey in using the statutory words which are being considered [31].Lord Hodge then turns to the appellants’ submissions. He notes that the appeal is not concerned with fundamental or constitutional common law rights, nor are any Convention rights under the Human Rights Act 1998 engaged [33]. The special rules of construction that are applicable when the principle of legality is infringed or the constitutional right of access to the courts is intruded upon therefore do not apply [33]. The appellants’ argument based on the constitutional right of access to the courts therefore has no application to the present case [36].The appellants also argued that specific statutory rights are not to be cut down by subordinate legislation passed under the vires of a different Act, a rule identified in the case of R v Secretary of State for Social Security, Ex p Joint Council for the Welfare of Immigrants [1997] 1 WLR 275 (\"JCWI\") [34]. Lord Hodge explains that an earlier statute (\"statute 1\") can be expressly or impliedly amended or repealed by Parliament enacting a later statute (\"statute 2\"), including by empowering the executive branch of government to make subordinate legislation which impinges upon and even removes rights conferred by statute 1 [40]. Where statute 2 authorises subordinate legislation, the court’s task is to ascertain the scope of the enabling power contained in statute 2 [40]. In doing so the court will take into account assumptions or presumptions such as the principle of legality [41]. If the court concludes that statute 2 has empowered the executive to make subordinate legislation which has the effect of removing rights conferred by statute 1, the rule inJCWIidentified by the appellants imposes no additional hurdle [42]. And where the court is not dealing with an interference by statute with a common law constitutional right or with a statutory provision which declares such a fundamental or constitutional right, the normal rules of statutory interpretation apply [43].Applying those principles, Lord Hodge concludes that, in the 2014 Act, Parliament authorised the subordinate legislation by which the Secretary of State has fixed the relevant application fee [51]. The appropriateness of imposing the fee on children is a question of policy which is for political determination, and not a matter for the court. The appeal is therefore dismissed [52].Lady Arden agrees with Lord Hodge but explains that she considers there is a wider role in statutory interpretation for pre-legislative materials [58]. Lady Arden observes that the constitutional reason Lord Hodge gives for the courts not using explanatory notes no longer applies insofar as explanatory notes are now often published by commercial publishers and appear online free of charge [59-60]. Lady Arden also considers that there are occasions when pre-legislative material may go further than simply provide the background or context for the statutory provision in question [64-65]. In appropriate circumstances such materials can also considerably help the judge better to perform his or her role of finding the intention of Parliament in any particular enactment, for example when such materials reveal that the language of the statute – perhaps thought to be clear on its face – is in fact ambiguous [66-76].References in square brackets are to paragraphs in the judgmentNoteThis summary is provided to assist in understanding the Court’s decision. It does not form part of the reasons for the decision. The full judgment of the Court is the only authoritative document. Judgments are public documents and are available online.Decided casesJudicial Committee of The Privy Council websiteTerms and conditionsSite mapPrivacy notice© Crown Copyright 2022'}"
      ]
     },
     "execution_count": 20,
     "metadata": {},
     "output_type": "execute_result"
    }
   ],
   "source": [
    "summary"
   ]
  },
  {
   "cell_type": "code",
   "execution_count": null,
   "id": "5142c353-725d-4cce-a78e-1920db9cb5a3",
   "metadata": {},
   "outputs": [],
   "source": []
  }
 ],
 "metadata": {
  "kernelspec": {
   "display_name": "Python 3 (ipykernel)",
   "language": "python",
   "name": "python3"
  },
  "language_info": {
   "codemirror_mode": {
    "name": "ipython",
    "version": 3
   },
   "file_extension": ".py",
   "mimetype": "text/x-python",
   "name": "python",
   "nbconvert_exporter": "python",
   "pygments_lexer": "ipython3",
   "version": "3.10.2"
  }
 },
 "nbformat": 4,
 "nbformat_minor": 5
}
