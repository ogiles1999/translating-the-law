{
 "cells": [
  {
   "cell_type": "code",
   "execution_count": 3,
   "id": "bdd5eb7f",
   "metadata": {},
   "outputs": [],
   "source": [
    "import pandas as pd\n",
    "from pandas_jsonlines.read_jsonlines import read_jsonlines\n",
    "import requests\n",
    "import urllib.request\n",
    "import os\n",
    "import re\n",
    "from pdfminer.high_level import extract_text\n",
    "from bs4 import BeautifulSoup\n",
    "import json"
   ]
  },
  {
   "cell_type": "code",
   "execution_count": 14,
   "id": "572b2ac0",
   "metadata": {},
   "outputs": [],
   "source": [
    "###not sure if there are imports I need here or not\n",
    "\n",
    "def details_new(strips):\n",
    "    details = {}\n",
    "    caseid = strips.index('Case summary')\n",
    "    date = strips.index('Judgment date')\n",
    "    cit = strips.index('Neutral citation')\n",
    "    justices = strips.index('Justices')\n",
    "    pdf = strips.index('Judgment (PDF)')\n",
    "    details['Name'] = strips[0].replace('- The Supreme Court', '')\n",
    "    if 'Case ID:' in strips[caseid-1] and 'UKSC' in strips[caseid-1]:\n",
    "        details['Case ID'] = strips[caseid-1].replace('Case ID: ', '')\n",
    "    elif 'Case ID:' in strips[caseid-1]:\n",
    "        details['Case ID'] = strips[caseid-1].replace('Case ID:', 'UKSC')\n",
    "    else:\n",
    "        details['Case ID'] = strips[caseid-1]\n",
    "    details['Judgment date'] = ', '.join(strips[date+1:cit])\n",
    "    details['Neutral citation'] = ', '.join(strips[cit+1:pdf])\n",
    "    details['Justices'] = strips[justices+1]\n",
    "    return details\n",
    "\n",
    "def details_old(strips):\n",
    "    details = {}\n",
    "    if 'Neutral citation number' in strips:\n",
    "        cit = strips.index('Neutral citation number')\n",
    "    else:\n",
    "        cit = strips.index('Neutral citation number(s)')\n",
    "    date = strips.index('Judgment date')\n",
    "    caseid = strips.index('Case ID')\n",
    "    justices = strips.index('Justices')\n",
    "    details['Name'] = strips[0].replace('- The Supreme Court', '')\n",
    "    details['Case ID'] = ', '.join(strips[caseid+1:justices])\n",
    "    details['Judgment date'] = ', '.join(strips[date+1:cit])\n",
    "    details['Neutral citation'] = ', '.join(strips[cit+1:caseid])\n",
    "    details['Justices'] = strips[justices+1]\n",
    "    return details\n",
    "\n",
    "def addl_details(strips):\n",
    "    details = {}\n",
    "    caseid = strips.index('Case summary')\n",
    "    if 'Issue' in strips:\n",
    "        issues = strips.index('Issue')\n",
    "    else:\n",
    "        issues = strips.index('Issue(s)')\n",
    "    facts = strips.index('Facts')\n",
    "    if 'Judgment appealed' in strips:\n",
    "        prev = strips.index('Judgment appealed')\n",
    "    else:\n",
    "        prev = strips.index('Parties')\n",
    "    start = strips.index('Hearing start date')\n",
    "    finish = strips.index('Hearing finish date')\n",
    "    if 'Case ID:' in strips[caseid-1] and 'UKSC' in strips[caseid-1]:\n",
    "        details['Case ID'] = strips[caseid-1].replace('Case ID: ', '')\n",
    "    elif 'Case ID:' in strips[caseid-1]:\n",
    "        details['Case ID'] = strips[caseid-1].replace('Case ID:', 'UKSC')\n",
    "    else:\n",
    "        details['Case ID'] = strips[caseid-1]\n",
    "    details['Issue'] = ' '.join(strips[issues+1:facts])\n",
    "    details['Facts'] = ' '.join(strips[facts+1:prev])\n",
    "    if 'Judgment appealed' in strips:\n",
    "        details['Judgment appealed'] = strips[prev+1]\n",
    "    else:\n",
    "        pass\n",
    "    details['Hearing start date'] = strips[start+1]\n",
    "    details['Hearing finish date'] = strips[finish+1]\n",
    "    return details\n",
    "\n",
    "def alt_extract_details(case):\n",
    "    url = 'https://www.supremecourt.uk/cases/uksc-2018-0091.html'\n",
    "    html = requests.get(url).content\n",
    "    soup = BeautifulSoup(html, 'html.parser')\n",
    "    strips = list(soup.stripped_strings)\n",
    "    if 'Facts' in strips:\n",
    "        details = details_new(strips)\n",
    "    else:\n",
    "        details = details_old(strips)\n",
    "    details['URL'] = url\n",
    "    return details\n",
    "\n",
    "def alt_extract_additional(case):\n",
    "    url = 'https://www.supremecourt.uk/cases/uksc-2018-0091.html'\n",
    "    html = requests.get(url).content\n",
    "    soup = BeautifulSoup(html, 'html.parser')\n",
    "    strips = list(soup.stripped_strings)\n",
    "    if 'Facts' in strips:\n",
    "        details = addl_details(strips)\n",
    "    else:\n",
    "        return 'No additional details available for this case'\n",
    "    details['URL'] = url\n",
    "    return details\n",
    "\n",
    "def alt_extract_all(case):\n",
    "    j = {'body':'text'}\n",
    "    ps = {'press summary':'text','other':'text'}\n",
    "    d = alt_extract_details(case)\n",
    "    ad = alt_extract_additional(case)\n",
    "    return j, ps, d, ad\n",
    "\n",
    "def parse_all(judgement, summary, details, addl):\n",
    "    j = judgement\n",
    "    ps = summary\n",
    "    d = details\n",
    "    ad = addl\n",
    "    return {'judgement':j, 'press summary':ps, 'details':d, 'additional':ad}"
   ]
  },
  {
   "cell_type": "code",
   "execution_count": 15,
   "id": "d4401eeb",
   "metadata": {},
   "outputs": [
    {
     "data": {
      "text/plain": [
       "({'body': 'text'},\n",
       " {'press summary': 'text', 'other': 'text'},\n",
       " {'Name': 'R v Mackinlay and others (Respondents) ',\n",
       "  'Case ID': 'UKSC 2018/0091',\n",
       "  'Judgment date': '25 Jul 2018',\n",
       "  'Neutral citation': '[2018] UKSC 42',\n",
       "  'Justices': 'Lady Hale, Lord Mance, Lord Hughes, Lord Hodge, Lord Lloyd-Jones',\n",
       "  'URL': 'https://www.supremecourt.uk/cases/uksc-2018-0091.html'},\n",
       " 'No additional details available for this case')"
      ]
     },
     "execution_count": 15,
     "metadata": {},
     "output_type": "execute_result"
    }
   ],
   "source": [
    "alt_extract_all('uksc-2018-0091')"
   ]
  },
  {
   "cell_type": "code",
   "execution_count": 16,
   "id": "1bf1c94a",
   "metadata": {},
   "outputs": [
    {
     "data": {
      "text/plain": [
       "{'judgement': {'body': 'text'},\n",
       " 'press summary': {'press summary': 'text', 'other': 'text'},\n",
       " 'details': {'Name': 'R v Mackinlay and others (Respondents) ',\n",
       "  'Case ID': 'UKSC 2018/0091',\n",
       "  'Judgment date': '25 Jul 2018',\n",
       "  'Neutral citation': '[2018] UKSC 42',\n",
       "  'Justices': 'Lady Hale, Lord Mance, Lord Hughes, Lord Hodge, Lord Lloyd-Jones',\n",
       "  'URL': 'https://www.supremecourt.uk/cases/uksc-2018-0091.html'},\n",
       " 'additional': 'No additional details available for this case'}"
      ]
     },
     "execution_count": 16,
     "metadata": {},
     "output_type": "execute_result"
    }
   ],
   "source": [
    "parse_all({'body': 'text'},\n",
    " {'press summary': 'text', 'other': 'text'},\n",
    " {'Name': 'R v Mackinlay and others (Respondents) ',\n",
    "  'Case ID': 'UKSC 2018/0091',\n",
    "  'Judgment date': '25 Jul 2018',\n",
    "  'Neutral citation': '[2018] UKSC 42',\n",
    "  'Justices': 'Lady Hale, Lord Mance, Lord Hughes, Lord Hodge, Lord Lloyd-Jones',\n",
    "  'URL': 'https://www.supremecourt.uk/cases/uksc-2018-0091.html'},\n",
    " 'No additional details available for this case')"
   ]
  },
  {
   "cell_type": "code",
   "execution_count": null,
   "id": "033421b3",
   "metadata": {},
   "outputs": [],
   "source": []
  }
 ],
 "metadata": {
  "kernelspec": {
   "display_name": "Python 3 (ipykernel)",
   "language": "python",
   "name": "python3"
  },
  "language_info": {
   "codemirror_mode": {
    "name": "ipython",
    "version": 3
   },
   "file_extension": ".py",
   "mimetype": "text/x-python",
   "name": "python",
   "nbconvert_exporter": "python",
   "pygments_lexer": "ipython3",
   "version": "3.10.2"
  },
  "toc": {
   "base_numbering": 1,
   "nav_menu": {},
   "number_sections": true,
   "sideBar": true,
   "skip_h1_title": false,
   "title_cell": "Table of Contents",
   "title_sidebar": "Contents",
   "toc_cell": false,
   "toc_position": {},
   "toc_section_display": true,
   "toc_window_display": false
  }
 },
 "nbformat": 4,
 "nbformat_minor": 5
}
