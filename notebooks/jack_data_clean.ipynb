{
  "cells": [
    {
      "cell_type": "markdown",
      "metadata": {
        "colab_type": "text",
        "id": "view-in-github"
      },
      "source": [
        "<a href=\"https://colab.research.google.com/github/ogiles1999/translating-the-law/blob/summarisation-model/jack_data_clean.ipynb\" target=\"_parent\"><img src=\"https://colab.research.google.com/assets/colab-badge.svg\" alt=\"Open In Colab\"/></a>"
      ]
    },
    {
      "cell_type": "code",
      "execution_count": null,
      "metadata": {
        "colab": {
          "base_uri": "https://localhost:8080/"
        },
        "id": "AAxirYXypDdf",
        "outputId": "5b3d9424-05e8-4c96-e205-f6dcee4904b9"
      },
      "outputs": [],
      "source": [
        "with open('/content/drive/MyDrive/Data/Cases/ten_cases.json') as json_file:\n",
        "    data = json.load(json_file)\n",
        "    print(data)"
      ]
    },
    {
      "cell_type": "code",
      "execution_count": null,
      "metadata": {
        "id": "CwjiBV9yzrG0"
      },
      "outputs": [],
      "source": [
        "clean_test = data[0]['press summary']['Press summary']"
      ]
    },
    {
      "cell_type": "code",
      "execution_count": null,
      "metadata": {
        "id": "o6VBgZqvw8SZ"
      },
      "outputs": [],
      "source": [
        "import re\n",
        "def cleaner(text, **kwargs):\n",
        "  \"\"\"params is a list of things to remove: codec, acronyms, numbers, brackets, page, para\"\"\"\n",
        "  if 'codec' in kwargs['params']:\n",
        "    text_encoded = text.encode('ascii', errors = 'ignore')\n",
        "    text_decode = text_encoded.decode()\n",
        "    clean_text = \" \".join([word for word in text_decode.split()])\n",
        "    text = clean_text\n",
        "  if 'numbers' in kwargs['params']:\n",
        "    pattern = r'[0-9]'\n",
        "    text = re.sub(pattern, '', text)\n",
        "  if 'brackets' in kwargs['params']: \n",
        "    text = re.sub('\\(.*?\\)', '', text)\n",
        "    text = re.sub('\\[.*?\\]', '', text)\n",
        "  if 'acronyms' in kwargs['params']:\n",
        "    text = text.split()\n",
        "    clean_text = []\n",
        "    for word in text: \n",
        "      if any(l.islower() for l in word):\n",
        "        clean_text.append(word)\n",
        "    text = ' '.join(clean_text)\n",
        "  if 'page' in kwargs['params']:\n",
        "      text = re.sub(\"Page.*[0-9]+[0-9]+\", \"\", text)\n",
        "      text = re.sub(\"Page.*[0-9]+\", \"\", text)\n",
        "  if 'para' in kwargs['params']:\n",
        "      text = re.sub('Para.*[0-9]+[0-9]+', '', text)\n",
        "      text = re.sub('Para.*[0-9]|*', '', text)\n",
        "  return text  \n",
        "          \n",
        "\n",
        "    "
      ]
    },
    {
      "cell_type": "code",
      "execution_count": null,
      "metadata": {
        "colab": {
          "base_uri": "https://localhost:8080/",
          "height": 36
        },
        "id": "bh8FsOLx3tOB",
        "outputId": "04286500-d6dd-4044-90b7-a6dda0d7eb4c"
      },
      "outputs": [],
      "source": [
        "clean_test"
      ]
    },
    {
      "cell_type": "code",
      "execution_count": null,
      "metadata": {
        "colab": {
          "base_uri": "https://localhost:8080/",
          "height": 36
        },
        "id": "urRJDDd6QC1I",
        "outputId": "0a84c788-e742-46bf-9d62-732a9513f8c0"
      },
      "outputs": [],
      "source": [
        "cleaner(clean_test, params=['codec', 'numbers', 'brackets', 'acronyms'])"
      ]
    },
    {
      "cell_type": "code",
      "execution_count": null,
      "metadata": {
        "colab": {
          "base_uri": "https://localhost:8080/",
          "height": 110
        },
        "id": "mceUhzlpzj-Y",
        "outputId": "2b5f9608-78a7-4d57-bbfe-38534e95bf35"
      },
      "outputs": [],
      "source": [
        "cleaner(TEXT, params=['codec', 'numbers', 'brackets', 'acronyms'])"
      ]
    },
    {
      "cell_type": "markdown",
      "metadata": {
        "id": "GJTjxUlbxTDA"
      },
      "source": [
        "# New Section"
      ]
    },
    {
      "cell_type": "code",
      "execution_count": null,
      "metadata": {
        "id": "2BjefdXPxABN"
      },
      "outputs": [],
      "source": [
        "from numpy import ALLOW_THREADS\n",
        "from translating_the_law.downloading.get_data import get_data\n",
        "data = get_data(0)\n",
        "for n in range(len(data)):\n",
        "    background_to_the_appeal = n['press summary']['Background to the appeal']\n",
        "    reasons_for_the_judgment = n['press summary']['Reasons for the judgment']\n",
        "    if 'allows the appeal' in n['press summary']['Judgment']:\n",
        "        judgment = 'Allowed'\n",
        "    else:\n",
        "        judgment = 'Rejected'\n",
        "    justices = n['press summary']['Justices']"
      ]
    }
  ],
  "metadata": {
    "accelerator": "GPU",
    "colab": {
      "include_colab_link": true,
      "name": "jack data clean.ipynb",
      "provenance": [],
      "toc_visible": true
    },
    "kernelspec": {
      "display_name": "Python 3",
      "name": "python3"
    },
    "language_info": {
      "name": "python"
    }
  },
  "nbformat": 4,
  "nbformat_minor": 0
}
