{
 "cells": [
  {
   "cell_type": "code",
   "execution_count": 1,
   "id": "fa7dee3e",
   "metadata": {},
   "outputs": [],
   "source": [
    "import requests\n",
    "from bs4 import BeautifulSoup\n",
    "import pandas as pd\n",
    "import numpy as np"
   ]
  },
  {
   "cell_type": "markdown",
   "id": "f52a212b",
   "metadata": {},
   "source": [
    "## For newer cases (since 29 April 2020):"
   ]
  },
  {
   "cell_type": "code",
   "execution_count": 50,
   "id": "b3bf3c78",
   "metadata": {},
   "outputs": [],
   "source": [
    "def details_new(soup):\n",
    "    strips = list(soup.stripped_strings)\n",
    "    details = {}\n",
    "\n",
    "    caseid = strips.index('Case summary')\n",
    "    date = strips.index('Judgment date')\n",
    "    cit = strips.index('Neutral citation')\n",
    "    justices = strips.index('Justices')\n",
    "    pdf = strips.index('Judgment (PDF)')\n",
    "\n",
    "    details['Name'] = strips[0].replace(' - The Supreme Court', '')\n",
    "    if 'Case ID:' in strips[caseid-1] and 'UKSC' in strips[caseid-1]: \n",
    "        details['Case ID'] = strips[caseid-1].replace('Case ID:', '')\n",
    "    elif 'Case ID:' in strips[caseid-1]: \n",
    "        details['Case ID'] = strips[caseid-1].replace('Case ID:', 'UKSC')\n",
    "    else: \n",
    "        details['Case ID'] = strips[caseid-1]    \n",
    "    details['Judgment date'] = ', '.join(strips[date+1:cit])\n",
    "    details['Neutral citation'] = ', '.join(strips[cit+1:pdf])\n",
    "    details['Justices'] = strips[justices+1]\n",
    "\n",
    "    return details"
   ]
  },
  {
   "cell_type": "markdown",
   "id": "a4bde96d",
   "metadata": {},
   "source": [
    "## For older cases (prior to 29 April 2020): "
   ]
  },
  {
   "cell_type": "code",
   "execution_count": 51,
   "id": "a1f1cf13",
   "metadata": {},
   "outputs": [],
   "source": [
    "def details_old(soup):\n",
    "    strips = list(soup.stripped_strings)\n",
    "    details = {}\n",
    "\n",
    "    if 'Neutral citation number' in strips:\n",
    "        cit = strips.index('Neutral citation number')\n",
    "    else: \n",
    "        cit = strips.index('Neutral citation number(s)')\n",
    "    date = strips.index('Judgment date')\n",
    "    caseid = strips.index('Case ID')\n",
    "    justices = strips.index('Justices')\n",
    "\n",
    "    details['Name'] = strips[0].replace(' - The Supreme Court', '')\n",
    "    details['Case ID'] = ', '.join(strips[caseid+1:justices])\n",
    "    details['Judgment date'] = ', '.join(strips[date+1:cit])\n",
    "    details['Neutral citation'] = ', '.join(strips[cit+1:caseid])\n",
    "    details['Justices'] = strips[justices+1]\n",
    "\n",
    "    return details"
   ]
  },
  {
   "cell_type": "markdown",
   "id": "776f57c2",
   "metadata": {},
   "source": [
    "## Main"
   ]
  },
  {
   "cell_type": "code",
   "execution_count": 52,
   "id": "0669c794",
   "metadata": {},
   "outputs": [],
   "source": [
    "def landing_to_dict(url):\n",
    "    html = requests.get(url).content\n",
    "    soup = BeautifulSoup(html, 'html.parser')\n",
    "\n",
    "    strips = list(soup.stripped_strings)\n",
    "    \n",
    "    if 'Facts' in strips:\n",
    "        details = details_new(soup)\n",
    "    else: \n",
    "        details = details_old(soup)\n",
    "     \n",
    "    details['URL'] = url\n",
    "    return details"
   ]
  },
  {
   "cell_type": "markdown",
   "id": "082b5e76",
   "metadata": {},
   "source": [
    "## Additional details for new cases"
   ]
  },
  {
   "cell_type": "code",
   "execution_count": null,
   "id": "3016c075",
   "metadata": {},
   "outputs": [],
   "source": []
  },
  {
   "cell_type": "code",
   "execution_count": 9,
   "id": "821f8e66",
   "metadata": {},
   "outputs": [
    {
     "name": "stdout",
     "output_type": "stream",
     "text": [
      "['FirstPort Property Services Ltd (Appellant) v Settlers Court RTM Company and others (Respondents) - The Supreme Court', 'Skip to Primary Navigation', 'Skip to Content', 'Go to the home page', 'Go to Latest news', 'Go to the sitemap page', 'Go to search', 'Go to the Decided cases', 'Go to the Current cases', 'Go to the Complaints Policies and Judicial Conduct', 'Go to the terms and conditions page', 'Go to the contact us page', 'Go to the accessibility statement page', 'Skip to main content', 'Home', 'Accessibility', 'Education', 'Press office', 'Contact us', 'FAQs', 'Careers', 'Cymraeg', 'Bookmark', 'Case details', 'Home', 'Current cases', 'Decided cases', 'Court procedures', 'Visiting The Court', 'About The Supreme Court', 'Latest', 'news', 'Current cases', 'FirstPort Property Services Ltd (Appellant) v Settlers Court RTM Company and others (Respondents)', 'Case ID: 2020/0066', 'Case summary', 'Issue', 'Where a company incorporated by leaseholders in a block of flats acquires the right to manage the block under the Commonhold and Leasehold Reform Act 2002 (\"the Act\"), and the leaseholders also enjoy rights over the estate in which the block is situated, does the company only acquire the right to manage the block itself, or does it also acquire the right to manage the rest of the estate?', 'Facts', 'The Appellant (\"FirstPort\") is a company which manages an estate in East London containing ten blocks of flats.  The Second to Fourteenth Respondents are leaseholders of flats in one of the blocks, \"Settlers Court\", with rights to access the estate’s communal areas.  FirstPort provides services on the estate, including maintenance of the communal areas, for which it is entitled to levy an estate service charge.  Through the \"right-to-manage\" regime in the Act, the First Respondent, a company established by the Settlers Court leaseholders (\"the RTM Company\"), acquired the right to manage the block and took on responsibility for providing services in relation to the block itself.  A dispute then arose as to whether the leaseholders continued to be obliged to pay the estate service charge to FirstPort.  On an application by the RTM Company, the First-Tier Tribunal determined that it was bound to hold that the company had acquired the right to manage the estate and that the leaseholders had no obligation to pay the estate service charge.  The Upper Tribunal dismissed FirstPort’s subsequent appeal but issued a \"leapfrog\" certificate enabling it to apply for permission to appeal to the Supreme Court.', 'Judgment appealed', '[2019] UKUT 243', 'Parties', 'Appellant(s)', 'FirstPort Property Services Ltd', 'Respondent(s)', 'Settlers Court RTM Company and Others', 'Intervener', 'Association of Residential Managing Agents', 'Appeal', 'Justices', 'Lord Briggs, Lord Sales, Lord Leggatt, Lord Burrows, Lady Rose', 'Hearing start date', '10 November 2021', 'Hearing finish date', '11 November 2021', 'Watch hearing', '10 Nov 2021', 'Morning session', 'Afternoon session', '11 Nov 2021', 'Morning session', 'Judgment details', 'Judgment date', '12 January 2022', 'Neutral citation', '[2022] UKSC 1', 'Judgment (PDF)', 'Press summary (HTML version)', 'Judgment on BAILII (HTML version)', 'Watch Judgment summary', '12 Jan 2022', 'Judgment summary', 'Judicial Committee of The Privy Council website', 'Terms and conditions', 'Site map', 'Privacy notice', '© Crown Copyright 2022']\n"
     ]
    }
   ],
   "source": [
    "html = requests.get('https://www.supremecourt.uk/cases/uksc-2020-0066.html').content\n",
    "soup = BeautifulSoup(html, 'html.parser') \n",
    "\n",
    "strips = list(soup.stripped_strings)\n",
    "print(strips)"
   ]
  },
  {
   "cell_type": "code",
   "execution_count": 25,
   "id": "0d279249",
   "metadata": {},
   "outputs": [],
   "source": [
    "def addl_details(strips):\n",
    "    details = {}\n",
    "    \n",
    "    caseid = strips.index('Case summary')\n",
    "    if 'Issue' in strips:\n",
    "        issues = strips.index('Issue')\n",
    "    else: \n",
    "        issues = strips.index('Issue(s)')\n",
    "    facts = strips.index('Facts')\n",
    "    if 'Judgment appealed' in strips: \n",
    "        prev = strips.index('Judgment appealed')\n",
    "    else: \n",
    "        prev = strips.index('Parties')\n",
    "    start = strips.index('Hearing start date')\n",
    "    finish = strips.index('Hearing finish date')\n",
    "\n",
    "    if 'Case ID:' in strips[caseid-1] and 'UKSC' in strips[caseid-1]: \n",
    "        details['Case ID'] = strips[caseid-1].replace('Case ID: ', '')\n",
    "    elif 'Case ID:' in strips[caseid-1]: \n",
    "        details['Case ID'] = strips[caseid-1].replace('Case ID:', 'UKSC')\n",
    "    else: \n",
    "        details['Case ID'] = strips[caseid-1]\n",
    "    details['Issue'] = ' '.join(strips[issues+1:facts])\n",
    "    details['Facts'] = ' '.join(strips[facts+1:prev])\n",
    "    details['Judgment appealed'] = strips[prev+1]\n",
    "    details['Hearing start date'] = strips[start+1]\n",
    "    details['Hearing finish date'] = strips[finish+1]\n",
    "\n",
    "    return details\n",
    "\n",
    "def addl_main(url):\n",
    "    html = requests.get(url).content\n",
    "    soup = BeautifulSoup(html, 'html.parser') \n",
    "    strips = list(soup.stripped_strings)\n",
    "    if 'Facts' in strips:\n",
    "        details = addl_details(strips)\n",
    "    else: \n",
    "        return 'No additional details available for this case'\n",
    "    details['URL'] = url\n",
    "    return details"
   ]
  },
  {
   "cell_type": "code",
   "execution_count": 26,
   "id": "028d1bcd",
   "metadata": {},
   "outputs": [
    {
     "data": {
      "text/plain": [
       "{'Case ID': 'UKSC 2021/0160',\n",
       " 'Issue': 'Did the Supreme Court wrongly decide that Mr Crosland’s disclosure of the result of the Heathrow appeal, in breach of an embargo on the Court’s judgment, constituted a contempt of court? Did the Court then wrongly impose a fine of £5,000 on Mr Crosland, and wrongly order him to pay the Attorney General’s costs in the sum of £15,000?',\n",
       " 'Facts': 'On 7 and 8 October 2020, the Supreme Court heard an appeal in the case of R (Friends of the Earth Ltd and others) v Heathrow Airport Limited [2020] UKSC 53 (\"the Heathrow appeal\"). Mr Timothy Crosland, an unregistered barrister, represented the charity Plan B Earth in those proceedings, in his capacity as a director of Plan B Earth. On 9 December 2020, a copy of the Supreme Court’s draft judgment was circulated to the parties’ representatives, to enable them to make suggestions for the correction of any errors, to prepare submissions on consequential matters, and to prepare themselves for the publication of the judgment. It was stated on the draft judgment, and in a covering email, that the draft was strictly confidential. Nonetheless, on 15 December 2020, the day before the judgment was due to be made public, Mr Crosland sent an email to the Press Association containing a statement in which he disclosed the outcome of the appeal. The statement was also published on Plan B Earth’s Twitter account. These disclosures led to the publication of the outcome of the Heathrow appeal in the national media and on Twitter on 15-16 December, prior to the judgment being delivered at 9:45am on 16 December 2020. Lord Reed, the President of the Supreme Court, referred this matter to the Attorney General on 17 December 2020. On 12 February 2021, the Attorney General applied to the Supreme Court to have Mr Crosland committed for contempt of court. On 10 May 2021, the Attorney General’s application was heard by three Justices of the Supreme Court, none of whom were involved in the Heathrow appeal. They found that Mr Crosland’s conduct constituted a criminal contempt of court and imposed a fine of £5,000. They also ordered Mr Crosland to pay the Attorney General’s costs in the sum of £15,000. Mr Crossland now appeals against the finding of contempt, the imposition of the fine, and the award of costs.',\n",
       " 'Judgment appealed': 'Appellant(s)',\n",
       " 'Hearing start date': '18 Oct 2021',\n",
       " 'Hearing finish date': '18 Oct 2021',\n",
       " 'URL': 'https://www.supremecourt.uk/cases/uksc-2021-0160.html'}"
      ]
     },
     "execution_count": 26,
     "metadata": {},
     "output_type": "execute_result"
    }
   ],
   "source": [
    "addl_main('https://www.supremecourt.uk/cases/uksc-2021-0160.html')"
   ]
  },
  {
   "cell_type": "code",
   "execution_count": 20,
   "id": "eb51f1a1",
   "metadata": {},
   "outputs": [
    {
     "data": {
      "text/plain": [
       "'No additional details available for this case'"
      ]
     },
     "execution_count": 20,
     "metadata": {},
     "output_type": "execute_result"
    }
   ],
   "source": [
    "addl_main('https://www.supremecourt.uk/cases/uksc-2012-0088.html')"
   ]
  },
  {
   "cell_type": "markdown",
   "id": "d10429cc",
   "metadata": {},
   "source": [
    "## All together for tests"
   ]
  },
  {
   "cell_type": "code",
   "execution_count": 4,
   "id": "6e1c7cfe",
   "metadata": {},
   "outputs": [],
   "source": [
    "def details_new(strips):\n",
    "    details = {}\n",
    "\n",
    "    caseid = strips.index('Case summary')\n",
    "    date = strips.index('Judgment date')\n",
    "    cit = strips.index('Neutral citation')\n",
    "    justices = strips.index('Justices')\n",
    "    pdf = strips.index('Judgment (PDF)')\n",
    "\n",
    "    details['Name'] = strips[0].replace('- The Supreme Court', '')\n",
    "    if 'Case ID:' in strips[caseid-1] and 'UKSC' in strips[caseid-1]: \n",
    "        details['Case ID'] = strips[caseid-1].replace('Case ID: ', '')\n",
    "    elif 'Case ID:' in strips[caseid-1]: \n",
    "        details['Case ID'] = strips[caseid-1].replace('Case ID:', 'UKSC')\n",
    "    else: \n",
    "        details['Case ID'] = strips[caseid-1]\n",
    "    details['Judgment date'] = ', '.join(strips[date+1:cit])\n",
    "    details['Neutral citation'] = ', '.join(strips[cit+1:pdf])\n",
    "    details['Justices'] = strips[justices+1]\n",
    "\n",
    "    return details\n",
    "\n",
    "def details_old(strips):\n",
    "    details = {}\n",
    "\n",
    "    if 'Neutral citation number' in strips:\n",
    "        cit = strips.index('Neutral citation number')\n",
    "    else: \n",
    "        cit = strips.index('Neutral citation number(s)')\n",
    "    date = strips.index('Judgment date')\n",
    "    caseid = strips.index('Case ID')\n",
    "    justices = strips.index('Justices')\n",
    "\n",
    "    details['Name'] = strips[0].replace('- The Supreme Court', '')\n",
    "    details['Case ID'] = ', '.join(strips[caseid+1:justices])\n",
    "    details['Judgment date'] = ', '.join(strips[date+1:cit])\n",
    "    details['Neutral citation'] = ', '.join(strips[cit+1:caseid])\n",
    "    details['Justices'] = strips[justices+1]\n",
    "\n",
    "    return details\n",
    "\n",
    "def landing_to_dict(url):\n",
    "    html = requests.get(url).content\n",
    "    soup = BeautifulSoup(html, 'html.parser') \n",
    "\n",
    "    strips = list(soup.stripped_strings)\n",
    "    \n",
    "    if 'Facts' in strips:\n",
    "        details = details_new(strips)\n",
    "    else: \n",
    "        details = details_old(strips)\n",
    "     \n",
    "    details['URL'] = url\n",
    "    return details"
   ]
  },
  {
   "cell_type": "code",
   "execution_count": 27,
   "id": "5b48f63d",
   "metadata": {},
   "outputs": [],
   "source": [
    "test_links = {2022: 'https://www.supremecourt.uk/cases/uksc-2021-0062.html', \n",
    "              2021: 'https://www.supremecourt.uk/cases/uksc-2019-0183.html',\n",
    "              2020: 'https://www.supremecourt.uk/cases/uksc-2018-0100.html', \n",
    "              2019: 'https://www.supremecourt.uk/cases/uksc-2017-0175.html', \n",
    "              2018: 'https://www.supremecourt.uk/cases/uksc-2015-0022.html', \n",
    "              2017: 'https://www.supremecourt.uk/cases/uksc-2015-0057.html', \n",
    "              2016: 'https://www.supremecourt.uk/cases/uksc-2014-0247.html', \n",
    "              2015: 'https://www.supremecourt.uk/cases/uksc-2013-0280.html', \n",
    "              2014: 'https://www.supremecourt.uk/cases/uksc-2012-0088.html', \n",
    "              2013: 'https://www.supremecourt.uk/cases/uksc-2012-0060.html', \n",
    "              2012: 'https://www.supremecourt.uk/cases/uksc-2011-0180.html', \n",
    "              2011: 'https://www.supremecourt.uk/cases/uksc-2009-0177.html', \n",
    "              2010: 'https://www.supremecourt.uk/cases/uksc-2009-0018.html', \n",
    "              2009: 'https://www.supremecourt.uk/cases/uksc-2009-0085.html'}"
   ]
  },
  {
   "cell_type": "code",
   "execution_count": 28,
   "id": "6e25282a",
   "metadata": {},
   "outputs": [
    {
     "data": {
      "text/html": [
       "<div>\n",
       "<style scoped>\n",
       "    .dataframe tbody tr th:only-of-type {\n",
       "        vertical-align: middle;\n",
       "    }\n",
       "\n",
       "    .dataframe tbody tr th {\n",
       "        vertical-align: top;\n",
       "    }\n",
       "\n",
       "    .dataframe thead th {\n",
       "        text-align: right;\n",
       "    }\n",
       "</style>\n",
       "<table border=\"1\" class=\"dataframe\">\n",
       "  <thead>\n",
       "    <tr style=\"text-align: right;\">\n",
       "      <th></th>\n",
       "      <th>0</th>\n",
       "    </tr>\n",
       "  </thead>\n",
       "  <tbody>\n",
       "    <tr>\n",
       "      <th>2022</th>\n",
       "      <td>https://www.supremecourt.uk/cases/uksc-2021-00...</td>\n",
       "    </tr>\n",
       "    <tr>\n",
       "      <th>2021</th>\n",
       "      <td>https://www.supremecourt.uk/cases/uksc-2019-01...</td>\n",
       "    </tr>\n",
       "    <tr>\n",
       "      <th>2020</th>\n",
       "      <td>https://www.supremecourt.uk/cases/uksc-2018-01...</td>\n",
       "    </tr>\n",
       "    <tr>\n",
       "      <th>2019</th>\n",
       "      <td>https://www.supremecourt.uk/cases/uksc-2017-01...</td>\n",
       "    </tr>\n",
       "    <tr>\n",
       "      <th>2018</th>\n",
       "      <td>https://www.supremecourt.uk/cases/uksc-2015-00...</td>\n",
       "    </tr>\n",
       "    <tr>\n",
       "      <th>2017</th>\n",
       "      <td>https://www.supremecourt.uk/cases/uksc-2015-00...</td>\n",
       "    </tr>\n",
       "    <tr>\n",
       "      <th>2016</th>\n",
       "      <td>https://www.supremecourt.uk/cases/uksc-2014-02...</td>\n",
       "    </tr>\n",
       "    <tr>\n",
       "      <th>2015</th>\n",
       "      <td>https://www.supremecourt.uk/cases/uksc-2013-02...</td>\n",
       "    </tr>\n",
       "    <tr>\n",
       "      <th>2014</th>\n",
       "      <td>https://www.supremecourt.uk/cases/uksc-2012-00...</td>\n",
       "    </tr>\n",
       "    <tr>\n",
       "      <th>2013</th>\n",
       "      <td>https://www.supremecourt.uk/cases/uksc-2012-00...</td>\n",
       "    </tr>\n",
       "    <tr>\n",
       "      <th>2012</th>\n",
       "      <td>https://www.supremecourt.uk/cases/uksc-2011-01...</td>\n",
       "    </tr>\n",
       "    <tr>\n",
       "      <th>2011</th>\n",
       "      <td>https://www.supremecourt.uk/cases/uksc-2009-01...</td>\n",
       "    </tr>\n",
       "    <tr>\n",
       "      <th>2010</th>\n",
       "      <td>https://www.supremecourt.uk/cases/uksc-2009-00...</td>\n",
       "    </tr>\n",
       "    <tr>\n",
       "      <th>2009</th>\n",
       "      <td>https://www.supremecourt.uk/cases/uksc-2009-00...</td>\n",
       "    </tr>\n",
       "  </tbody>\n",
       "</table>\n",
       "</div>"
      ],
      "text/plain": [
       "                                                      0\n",
       "2022  https://www.supremecourt.uk/cases/uksc-2021-00...\n",
       "2021  https://www.supremecourt.uk/cases/uksc-2019-01...\n",
       "2020  https://www.supremecourt.uk/cases/uksc-2018-01...\n",
       "2019  https://www.supremecourt.uk/cases/uksc-2017-01...\n",
       "2018  https://www.supremecourt.uk/cases/uksc-2015-00...\n",
       "2017  https://www.supremecourt.uk/cases/uksc-2015-00...\n",
       "2016  https://www.supremecourt.uk/cases/uksc-2014-02...\n",
       "2015  https://www.supremecourt.uk/cases/uksc-2013-02...\n",
       "2014  https://www.supremecourt.uk/cases/uksc-2012-00...\n",
       "2013  https://www.supremecourt.uk/cases/uksc-2012-00...\n",
       "2012  https://www.supremecourt.uk/cases/uksc-2011-01...\n",
       "2011  https://www.supremecourt.uk/cases/uksc-2009-01...\n",
       "2010  https://www.supremecourt.uk/cases/uksc-2009-00...\n",
       "2009  https://www.supremecourt.uk/cases/uksc-2009-00..."
      ]
     },
     "execution_count": 28,
     "metadata": {},
     "output_type": "execute_result"
    }
   ],
   "source": [
    "test_df = pd.DataFrame.from_dict(test_links, 'index')\n",
    "test_df"
   ]
  },
  {
   "cell_type": "code",
   "execution_count": 63,
   "id": "e370a7c3",
   "metadata": {},
   "outputs": [],
   "source": [
    "output = test_df[0].map(landing_to_dict)"
   ]
  },
  {
   "cell_type": "code",
   "execution_count": 64,
   "id": "f8b7a766",
   "metadata": {},
   "outputs": [
    {
     "name": "stdout",
     "output_type": "stream",
     "text": [
      "{'Name': 'R (on the application of O (a minor, by her litigation friend AO)) (Appellant) v Secretary of State for the Home Department (Respondent) ', 'Case ID': 'UKSC 2021/0062', 'Judgment date': '2 February 2022', 'Neutral citation': '[2022] UKSC 3', 'Justices': 'Lord Hodge, Lord Briggs, Lady Arden, Lord Stephens, Lady Rose', 'URL': 'https://www.supremecourt.uk/cases/uksc-2021-0062.html'}\n"
     ]
    }
   ],
   "source": [
    "print(output[2022])"
   ]
  },
  {
   "cell_type": "code",
   "execution_count": 65,
   "id": "d3f5a971",
   "metadata": {},
   "outputs": [
    {
     "name": "stdout",
     "output_type": "stream",
     "text": [
      "{'Name': 'Cavendish Square Holding BV (Appellant) v Talal El Makdessi (Respondent)', 'Case ID': 'UKSC 2013/0280', 'Judgment date': '04 Nov 2015', 'Neutral citation': '[2015] UKSC 67', 'Justices': 'Lord Neuberger, Lord Mance, Lord Clarke, Lord Sumption, Lord Carnwath, Lord Toulson, Lord Hodge', 'URL': 'https://www.supremecourt.uk/cases/uksc-2013-0280.html'}\n"
     ]
    }
   ],
   "source": [
    "print(output[2015])"
   ]
  },
  {
   "cell_type": "code",
   "execution_count": 66,
   "id": "ae462378",
   "metadata": {},
   "outputs": [
    {
     "name": "stdout",
     "output_type": "stream",
     "text": [
      "{'Name': 'AM (Somalia) and others (VS (Sri Lanka)) (Appellant) v Entry Clearance Officer (Respondent)', 'Case ID': 'UKSC 2009/0085', 'Judgment date': '16 Dec 2009', 'Neutral citation': '[2009] UKSC 16', 'Justices': 'Lord Hope, Lord Rodger, Lord Brown, Lord Collins, Lord Kerr', 'URL': 'https://www.supremecourt.uk/cases/uksc-2009-0085.html'}\n"
     ]
    }
   ],
   "source": [
    "print(output[2009])"
   ]
  },
  {
   "cell_type": "code",
   "execution_count": 67,
   "id": "90f833a2",
   "metadata": {},
   "outputs": [
    {
     "name": "stdout",
     "output_type": "stream",
     "text": [
      "{'Name': \"R (on the application of Hani El Sayed Sabaei Youssef) (Respondent) v Her Majesty's Treasury (Appellants)\", 'Case ID': 'UKSC 2009/0018', 'Judgment date': '27 Jan 2010', 'Neutral citation': '[2010] UKSC 1, [2010] UKSC 2, [2010] UKSC 5', 'Justices': 'Lord Phillips, Lord Hope, Lord Rodger, Lord Walker, Lady Hale, Lord Brown, Lord Mance', 'URL': 'https://www.supremecourt.uk/cases/uksc-2009-0018.html'}\n"
     ]
    }
   ],
   "source": [
    "print(output[2010])"
   ]
  },
  {
   "cell_type": "code",
   "execution_count": 68,
   "id": "6dc71b1f",
   "metadata": {},
   "outputs": [
    {
     "name": "stdout",
     "output_type": "stream",
     "text": [
      "{'Name': 'R (on the application of Halligen) (Appellant) v Secretary of State for the Home Department (Respondent)', 'Case ID': 'UKSC 2011/0180', 'Judgment date': '23 May 2012', 'Neutral citation': '[2012] UKSC 20', 'Justices': 'Lord Phillips, Lady Hale, Lord Mance, Lord Kerr, Lord Wilson', 'URL': 'https://www.supremecourt.uk/cases/uksc-2011-0180.html'}\n"
     ]
    }
   ],
   "source": [
    "print(output[2012])"
   ]
  },
  {
   "cell_type": "code",
   "execution_count": 69,
   "id": "d0d4effe",
   "metadata": {},
   "outputs": [
    {
     "name": "stdout",
     "output_type": "stream",
     "text": [
      "{'Name': 'Lachaux (Respondent) v Independent Print Ltd and another (Appellants)', 'Case ID': 'UKSC 2017/0175', 'Judgment date': '12 Jun 2019', 'Neutral citation': '[2019] UKSC 27', 'Justices': 'Lord Kerr, Lord Wilson, Lord Sumption, Lord Hodge, Lord Briggs', 'URL': 'https://www.supremecourt.uk/cases/uksc-2017-0175.html'}\n"
     ]
    }
   ],
   "source": [
    "print(output[2019])"
   ]
  },
  {
   "cell_type": "code",
   "execution_count": 70,
   "id": "06d8c67f",
   "metadata": {},
   "outputs": [
    {
     "name": "stdout",
     "output_type": "stream",
     "text": [
      "{'Name': \"Tinkler (Respondent) v Commissioners for Her Majesty's Revenue and Customs (Appellant)\", 'Case ID': 'UKSC 2019/0183', 'Judgment date': '30 July 2021', 'Neutral citation': '[2021] UKSC 39', 'Justices': 'Lord Hodge, Lord Briggs, Lady Arden, Lord Burrows, Lady Rose', 'URL': 'https://www.supremecourt.uk/cases/uksc-2019-0183.html'}\n"
     ]
    }
   ],
   "source": [
    "print(output[2021])"
   ]
  },
  {
   "cell_type": "code",
   "execution_count": 7,
   "id": "8f9c5527",
   "metadata": {},
   "outputs": [
    {
     "data": {
      "text/plain": [
       "{'Name': 'Societe Generale, London Branch (Respondent) v Geys (Appellant)',\n",
       " 'Case ID': 'UKSC 2011/0110',\n",
       " 'Judgment date': '19 Dec 2012',\n",
       " 'Neutral citation': '[2012] UKSC 63',\n",
       " 'Justices': 'Lord Hope, Lady Hale, Lord Wilson, Lord Sumption, Lord Carnwath',\n",
       " 'URL': 'https://www.supremecourt.uk/cases/uksc-2011-0110.html'}"
      ]
     },
     "execution_count": 7,
     "metadata": {},
     "output_type": "execute_result"
    }
   ],
   "source": [
    "landing_to_dict('https://www.supremecourt.uk/cases/uksc-2011-0110.html')"
   ]
  },
  {
   "cell_type": "code",
   "execution_count": 6,
   "id": "7e6f7c48",
   "metadata": {},
   "outputs": [
    {
     "name": "stdout",
     "output_type": "stream",
     "text": [
      "['Societe Generale, London Branch (Respondent) v Geys (Appellant)- The Supreme Court', 'Skip to Primary Navigation', 'Skip to Content', 'Go to the home page', 'Go to Latest news', 'Go to the sitemap page', 'Go to search', 'Go to the Decided cases', 'Go to the Current cases', 'Go to the Complaints Policies and Judicial Conduct', 'Go to the terms and conditions page', 'Go to the contact us page', 'Go to the accessibility statement page', 'Skip to main content', 'Home', 'Accessibility', 'Education', 'Press office', 'Contact us', 'FAQs', 'Careers', 'Cymraeg', 'Bookmark', 'Case details', 'Home', 'Decided cases', 'Decided cases', 'Court procedures', 'Visiting The Court', 'About The Supreme Court', 'Latest', 'news', 'Current cases', 'Societe Generale, London Branch (Respondent) v Geys (Appellant)', 'Judgment date', '19 Dec 2012', 'Neutral citation number', '[2012] UKSC 63', 'Case ID', 'UKSC 2011/0110', 'Justices', 'Lord Hope, Lady Hale, Lord Wilson, Lord Sumption, Lord Carnwath', 'Judgment details', 'Judgment (PDF)', 'Press summary (PDF)', 'Judgment on BAILII (HTML version)', 'Judicial Committee of The Privy Council website', 'Terms and conditions', 'Site map', 'Privacy notice', '© Crown Copyright 2022']\n"
     ]
    }
   ],
   "source": [
    "html = requests.get('https://www.supremecourt.uk/cases/uksc-2011-0110.html').content\n",
    "soup = BeautifulSoup(html, 'html.parser') \n",
    "\n",
    "strips = list(soup.stripped_strings)\n",
    "print(strips)"
   ]
  },
  {
   "cell_type": "code",
   "execution_count": null,
   "id": "f3027260",
   "metadata": {},
   "outputs": [],
   "source": []
  }
 ],
 "metadata": {
  "kernelspec": {
   "display_name": "Python 3 (ipykernel)",
   "language": "python",
   "name": "python3"
  },
  "language_info": {
   "codemirror_mode": {
    "name": "ipython",
    "version": 3
   },
   "file_extension": ".py",
   "mimetype": "text/x-python",
   "name": "python",
   "nbconvert_exporter": "python",
   "pygments_lexer": "ipython3",
   "version": "3.8.12"
  },
  "toc": {
   "base_numbering": 1,
   "nav_menu": {},
   "number_sections": true,
   "sideBar": true,
   "skip_h1_title": false,
   "title_cell": "Table of Contents",
   "title_sidebar": "Contents",
   "toc_cell": false,
   "toc_position": {},
   "toc_section_display": true,
   "toc_window_display": false
  }
 },
 "nbformat": 4,
 "nbformat_minor": 5
}
