{
 "cells": [
  {
   "cell_type": "code",
   "execution_count": 3,
   "id": "92ee2890-bcc8-4a6e-ae67-45b8d78a75d8",
   "metadata": {},
   "outputs": [],
   "source": [
    "%load_ext autoreload"
   ]
  },
  {
   "cell_type": "code",
   "execution_count": 5,
   "id": "be64f08c-b6ad-4a15-98a0-b583d952b10d",
   "metadata": {},
   "outputs": [],
   "source": [
    "from translating_the_law.downloading.get_data import get_data\n",
    "from transformers import pipeline"
   ]
  },
  {
   "cell_type": "code",
   "execution_count": 2,
   "id": "275beb41-af9f-4d2f-b1e9-18b77387ff67",
   "metadata": {},
   "outputs": [],
   "source": [
    "data = get_data(5)"
   ]
  },
  {
   "cell_type": "code",
   "execution_count": null,
   "id": "1606990c-3352-4d24-9194-7c571accb44d",
   "metadata": {},
   "outputs": [],
   "source": [
    "summarizer = pipeline(\"summarization\", model=\"facebook/bart-large-cnn\")"
   ]
  },
  {
   "cell_type": "code",
   "execution_count": 12,
   "id": "10ac20b7-0350-4d8f-88aa-f16cf2043583",
   "metadata": {},
   "outputs": [],
   "source": [
    "ARTICLE = data[0]['press summary']['Reasons for the judgment']"
   ]
  },
  {
   "cell_type": "code",
   "execution_count": null,
   "id": "37f5b167-ecd5-46cb-a3bc-f73a161b858d",
   "metadata": {},
   "outputs": [],
   "source": [
    "print(summarizer(ARTICLE, max_length=130, min_length=30, do_sample=False))"
   ]
  },
  {
   "cell_type": "code",
   "execution_count": null,
   "id": "fd8bb9ac-9236-4a65-a0d0-cb04592d171c",
   "metadata": {},
   "outputs": [],
   "source": []
  }
 ],
 "metadata": {
  "kernelspec": {
   "display_name": "Python 3 (ipykernel)",
   "language": "python",
   "name": "python3"
  },
  "language_info": {
   "codemirror_mode": {
    "name": "ipython",
    "version": 3
   },
   "file_extension": ".py",
   "mimetype": "text/x-python",
   "name": "python",
   "nbconvert_exporter": "python",
   "pygments_lexer": "ipython3",
   "version": "3.10.2"
  }
 },
 "nbformat": 4,
 "nbformat_minor": 5
}
