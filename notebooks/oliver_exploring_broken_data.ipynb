{
 "cells": [
  {
   "cell_type": "code",
   "execution_count": 13,
   "id": "c1705805-716e-420d-b8d5-18ca85d03c42",
   "metadata": {},
   "outputs": [],
   "source": [
    "%load_ext autoreload"
   ]
  },
  {
   "cell_type": "code",
   "execution_count": 42,
   "id": "4bb8e5ac-8952-43b5-85d3-208d4f24e099",
   "metadata": {},
   "outputs": [],
   "source": [
    "from translating_the_law.downloading.get_data import get_data\n",
    "from translating_the_law.downloading.get_links import get_links\n",
    "from translating_the_law.downloading.download import get_case_files\n",
    "from translating_the_law.downloading.get_case import get_case\n",
    "import urllib.request"
   ]
  },
  {
   "cell_type": "code",
   "execution_count": null,
   "id": "9bbeb9b7-4f2a-4cb2-8581-6c70df35a677",
   "metadata": {},
   "outputs": [],
   "source": [
    "data[0].keys()"
   ]
  },
  {
   "cell_type": "code",
   "execution_count": 16,
   "id": "8e703d67-353f-4a57-8039-d6d7329c15ac",
   "metadata": {},
   "outputs": [],
   "source": [
    "links = get_links()"
   ]
  },
  {
   "cell_type": "code",
   "execution_count": 17,
   "id": "22c82333-944e-476f-bcfe-a561f85c48da",
   "metadata": {},
   "outputs": [
    {
     "data": {
      "text/plain": [
       "array([['<HtmlResponse 200 https://www.supremecourt.uk/cases/uksc-2009-0184.html>'],\n",
       "       ['<HtmlResponse 200 https://www.supremecourt.uk/cases/uksc-2009-0119.html>'],\n",
       "       ['<HtmlResponse 200 https://www.supremecourt.uk/cases/uksc-2009-0075.html>'],\n",
       "       ...,\n",
       "       ['<HtmlResponse 200 https://www.supremecourt.uk/cases/uksc-2009-0087.html>'],\n",
       "       ['<HtmlResponse 200 https://www.supremecourt.uk/cases/uksc-2009-0020.html>'],\n",
       "       ['<HtmlResponse 200 https://www.supremecourt.uk/cases/uksc-2009-0184.html>']],\n",
       "      dtype=object)"
      ]
     },
     "execution_count": 17,
     "metadata": {},
     "output_type": "execute_result"
    }
   ],
   "source": [
    "links"
   ]
  },
  {
   "cell_type": "code",
   "execution_count": 28,
   "id": "7e6b3d5e-4025-40d0-a942-7a7a6993a3d0",
   "metadata": {},
   "outputs": [
    {
     "data": {
      "text/plain": [
       "'<HtmlResponse 200 https://www.supremecourt.uk/cases/uksc-2009-0184.html>'"
      ]
     },
     "execution_count": 28,
     "metadata": {},
     "output_type": "execute_result"
    }
   ],
   "source": [
    "links[i][0]"
   ]
  },
  {
   "cell_type": "code",
   "execution_count": 38,
   "id": "b91a24b2-c71b-4d9a-afed-e03fef801f3b",
   "metadata": {},
   "outputs": [
    {
     "name": "stdout",
     "output_type": "stream",
     "text": [
      "problem with downloading 21\n",
      "https://www.supremecourt.uk/cases/uksc-2021-0062.html\n",
      "problem with downloading 22\n",
      "https://www.supremecourt.uk/cases/uksc-2021-0063.html\n",
      "problem with downloading 23\n",
      "https://www.supremecourt.uk/cases/uksc-2018-0129.html\n",
      "problem with downloading 24\n",
      "https://www.supremecourt.uk/cases/uksc-2020-0122.html\n",
      "problem with downloading 25\n",
      "https://www.supremecourt.uk/cases/uksc-2020-0066.html\n",
      "problem with downloading 26\n",
      "https://www.supremecourt.uk/cases/uksc-2020-0076.html\n",
      "problem with downloading 27\n",
      "https://www.supremecourt.uk/cases/uksc-2020-0185.html\n",
      "problem with downloading 28\n",
      "https://www.supremecourt.uk/cases/uksc-2020-0084.html\n",
      "problem with downloading 29\n",
      "https://www.supremecourt.uk/cases/uksc-2020-0185.html\n",
      "problem with downloading 30\n",
      "https://www.supremecourt.uk/cases/uksc-2020-0122.html\n",
      "problem with downloading 31\n",
      "https://www.supremecourt.uk/cases/uksc-2020-0084.html\n",
      "problem with downloading 32\n",
      "https://www.supremecourt.uk/cases/uksc-2021-0062.html\n",
      "problem with downloading 33\n",
      "https://www.supremecourt.uk/cases/uksc-2020-0066.html\n",
      "problem with downloading 34\n",
      "https://www.supremecourt.uk/cases/uksc-2021-0063.html\n",
      "problem with downloading 35\n",
      "https://www.supremecourt.uk/cases/uksc-2020-0076.html\n",
      "problem with downloading 36\n",
      "https://www.supremecourt.uk/cases/uksc-2018-0129.html\n",
      "problem with downloading 70\n",
      "https://www.supremecourt.uk/cases/uksc-2017-0170.html\n",
      "problem with downloading 71\n",
      "https://www.supremecourt.uk/cases/uksc-2018-0167.html\n",
      "problem with downloading 73\n",
      "https://www.supremecourt.uk/cases/uksc-2017-0121.html\n",
      "problem with downloading 74\n",
      "https://www.supremecourt.uk/cases/uksc-2017-0001.html\n",
      "problem with downloading 78\n",
      "https://www.supremecourt.uk/cases/uksc-2020-0184.html\n",
      "problem with downloading 80\n",
      "https://www.supremecourt.uk/cases/uksc-2020-0183.html\n",
      "problem with downloading 82\n",
      "https://www.supremecourt.uk/cases/uksc-2015-0218.html\n",
      "problem with downloading 86\n",
      "https://www.supremecourt.uk/cases/uksc-2016-0201.html\n",
      "problem with downloading 87\n",
      "https://www.supremecourt.uk/cases/uksc-2016-0205.html\n",
      "problem with downloading 94\n",
      "https://www.supremecourt.uk/cases/uksc-2015-0014.html\n",
      "problem with downloading 95\n",
      "https://www.supremecourt.uk/cases/uksc-2015-0168.html\n",
      "problem with downloading 96\n",
      "https://www.supremecourt.uk/cases/uksc-2014-0238.html\n",
      "problem with downloading 97\n",
      "https://www.supremecourt.uk/cases/uksc-2015-0024.html\n"
     ]
    }
   ],
   "source": [
    "for i in range(100):\n",
    "    url = links[i][0].split()[2][:-1]\n",
    "    try:\n",
    "        get_case(url)\n",
    "    except:\n",
    "        print(f\"problem with downloading {i}\")\n",
    "        print(url)\n"
   ]
  },
  {
   "cell_type": "code",
   "execution_count": null,
   "id": "0c5cfeb8-7cf8-492c-8c40-83c4b16ed066",
   "metadata": {},
   "outputs": [],
   "source": [
    "for i in range(10):\n",
    "    if len(data[i]['press summary'].keys()) == 1:\n",
    "        print(f\"problem at {i}\")"
   ]
  },
  {
   "cell_type": "code",
   "execution_count": 11,
   "id": "9a53be4d-52c2-4e78-bcf7-9c0fb12bc1f9",
   "metadata": {},
   "outputs": [
    {
     "data": {
      "text/plain": [
       "{'error': 'https://www.supremecourt.uk/cases/docs/uksc-2009-0106-press-summary.pdf'}"
      ]
     },
     "execution_count": 11,
     "metadata": {},
     "output_type": "execute_result"
    }
   ],
   "source": [
    "data[5]['press summary']"
   ]
  },
  {
   "cell_type": "code",
   "execution_count": 41,
   "id": "a58c5fab-5cec-4b5a-af72-2df95d48c4cb",
   "metadata": {},
   "outputs": [
    {
     "ename": "HTTPError",
     "evalue": "HTTP Error 404: Not Found",
     "output_type": "error",
     "traceback": [
      "\u001b[0;31m---------------------------------------------------------------------------\u001b[0m",
      "\u001b[0;31mHTTPError\u001b[0m                                 Traceback (most recent call last)",
      "\u001b[0;32m/tmp/ipykernel_189933/1238608706.py\u001b[0m in \u001b[0;36m<module>\u001b[0;34m\u001b[0m\n\u001b[0;32m----> 1\u001b[0;31m \u001b[0mget_case\u001b[0m\u001b[0;34m(\u001b[0m\u001b[0;34m\"https://www.supremecourt.uk/cases/uksc-2021-0062.html\"\u001b[0m\u001b[0;34m)\u001b[0m\u001b[0;34m\u001b[0m\u001b[0;34m\u001b[0m\u001b[0m\n\u001b[0m",
      "\u001b[0;32m~/code/ogiles1999/translating-the-law/translating_the_law/downloading/get_case.py\u001b[0m in \u001b[0;36mget_case\u001b[0;34m(base_url)\u001b[0m\n\u001b[1;32m      8\u001b[0m     \u001b[0msummary_url\u001b[0m \u001b[0;34m=\u001b[0m \u001b[0mbase_url\u001b[0m\u001b[0;34m.\u001b[0m\u001b[0mreplace\u001b[0m\u001b[0;34m(\u001b[0m\u001b[0;34m'.html'\u001b[0m\u001b[0;34m,\u001b[0m \u001b[0;34m'-press-summary.pdf'\u001b[0m\u001b[0;34m)\u001b[0m\u001b[0;34m.\u001b[0m\u001b[0mreplace\u001b[0m\u001b[0;34m(\u001b[0m\u001b[0;34m'cases/'\u001b[0m\u001b[0;34m,\u001b[0m \u001b[0;34m'cases/docs/'\u001b[0m\u001b[0;34m)\u001b[0m\u001b[0;34m\u001b[0m\u001b[0;34m\u001b[0m\u001b[0m\n\u001b[1;32m      9\u001b[0m     \u001b[0mcase\u001b[0m \u001b[0;34m=\u001b[0m \u001b[0mbase_url\u001b[0m\u001b[0;34m.\u001b[0m\u001b[0mreplace\u001b[0m\u001b[0;34m(\u001b[0m\u001b[0;34m'.html'\u001b[0m\u001b[0;34m,\u001b[0m \u001b[0;34m''\u001b[0m\u001b[0;34m)\u001b[0m\u001b[0;34m.\u001b[0m\u001b[0mreplace\u001b[0m\u001b[0;34m(\u001b[0m\u001b[0;34m'https://www.supremecourt.uk/cases/'\u001b[0m\u001b[0;34m,\u001b[0m\u001b[0;34m''\u001b[0m\u001b[0;34m)\u001b[0m\u001b[0;34m\u001b[0m\u001b[0;34m\u001b[0m\u001b[0m\n\u001b[0;32m---> 10\u001b[0;31m     \u001b[0mget_case_files\u001b[0m\u001b[0;34m(\u001b[0m\u001b[0mcase\u001b[0m\u001b[0;34m,\u001b[0m \u001b[0msummary_url\u001b[0m\u001b[0;34m,\u001b[0m \u001b[0mpdf_url\u001b[0m\u001b[0;34m)\u001b[0m\u001b[0;34m\u001b[0m\u001b[0;34m\u001b[0m\u001b[0m\n\u001b[0m\u001b[1;32m     11\u001b[0m     \u001b[0mj\u001b[0m \u001b[0;34m,\u001b[0m \u001b[0mps\u001b[0m \u001b[0;34m=\u001b[0m \u001b[0mextract_all\u001b[0m\u001b[0;34m(\u001b[0m\u001b[0mcase\u001b[0m\u001b[0;34m)\u001b[0m\u001b[0;34m\u001b[0m\u001b[0;34m\u001b[0m\u001b[0m\n\u001b[1;32m     12\u001b[0m     \u001b[0mdelete_case_files\u001b[0m\u001b[0;34m(\u001b[0m\u001b[0mcase\u001b[0m\u001b[0;34m)\u001b[0m\u001b[0;34m\u001b[0m\u001b[0;34m\u001b[0m\u001b[0m\n",
      "\u001b[0;32m~/code/ogiles1999/translating-the-law/translating_the_law/downloading/download.py\u001b[0m in \u001b[0;36mget_case_files\u001b[0;34m(case, summary_url, pdf_url)\u001b[0m\n\u001b[1;32m      5\u001b[0m     \u001b[0mpress_summary_file\u001b[0m \u001b[0;34m=\u001b[0m \u001b[0;34mf\"{case}-press-summary.pdf\"\u001b[0m\u001b[0;34m\u001b[0m\u001b[0;34m\u001b[0m\u001b[0m\n\u001b[1;32m      6\u001b[0m     \u001b[0murllib\u001b[0m\u001b[0;34m.\u001b[0m\u001b[0mrequest\u001b[0m\u001b[0;34m.\u001b[0m\u001b[0murlretrieve\u001b[0m\u001b[0;34m(\u001b[0m\u001b[0mpdf_url\u001b[0m\u001b[0;34m,\u001b[0m \u001b[0mmain_text_file\u001b[0m\u001b[0;34m)\u001b[0m\u001b[0;34m\u001b[0m\u001b[0;34m\u001b[0m\u001b[0m\n\u001b[0;32m----> 7\u001b[0;31m     \u001b[0murllib\u001b[0m\u001b[0;34m.\u001b[0m\u001b[0mrequest\u001b[0m\u001b[0;34m.\u001b[0m\u001b[0murlretrieve\u001b[0m\u001b[0;34m(\u001b[0m\u001b[0msummary_url\u001b[0m\u001b[0;34m,\u001b[0m \u001b[0mpress_summary_file\u001b[0m\u001b[0;34m)\u001b[0m\u001b[0;34m\u001b[0m\u001b[0;34m\u001b[0m\u001b[0m\n\u001b[0m",
      "\u001b[0;32m/usr/lib64/python3.10/urllib/request.py\u001b[0m in \u001b[0;36murlretrieve\u001b[0;34m(url, filename, reporthook, data)\u001b[0m\n\u001b[1;32m    239\u001b[0m     \u001b[0murl_type\u001b[0m\u001b[0;34m,\u001b[0m \u001b[0mpath\u001b[0m \u001b[0;34m=\u001b[0m \u001b[0m_splittype\u001b[0m\u001b[0;34m(\u001b[0m\u001b[0murl\u001b[0m\u001b[0;34m)\u001b[0m\u001b[0;34m\u001b[0m\u001b[0;34m\u001b[0m\u001b[0m\n\u001b[1;32m    240\u001b[0m \u001b[0;34m\u001b[0m\u001b[0m\n\u001b[0;32m--> 241\u001b[0;31m     \u001b[0;32mwith\u001b[0m \u001b[0mcontextlib\u001b[0m\u001b[0;34m.\u001b[0m\u001b[0mclosing\u001b[0m\u001b[0;34m(\u001b[0m\u001b[0murlopen\u001b[0m\u001b[0;34m(\u001b[0m\u001b[0murl\u001b[0m\u001b[0;34m,\u001b[0m \u001b[0mdata\u001b[0m\u001b[0;34m)\u001b[0m\u001b[0;34m)\u001b[0m \u001b[0;32mas\u001b[0m \u001b[0mfp\u001b[0m\u001b[0;34m:\u001b[0m\u001b[0;34m\u001b[0m\u001b[0;34m\u001b[0m\u001b[0m\n\u001b[0m\u001b[1;32m    242\u001b[0m         \u001b[0mheaders\u001b[0m \u001b[0;34m=\u001b[0m \u001b[0mfp\u001b[0m\u001b[0;34m.\u001b[0m\u001b[0minfo\u001b[0m\u001b[0;34m(\u001b[0m\u001b[0;34m)\u001b[0m\u001b[0;34m\u001b[0m\u001b[0;34m\u001b[0m\u001b[0m\n\u001b[1;32m    243\u001b[0m \u001b[0;34m\u001b[0m\u001b[0m\n",
      "\u001b[0;32m/usr/lib64/python3.10/urllib/request.py\u001b[0m in \u001b[0;36murlopen\u001b[0;34m(url, data, timeout, cafile, capath, cadefault, context)\u001b[0m\n\u001b[1;32m    214\u001b[0m     \u001b[0;32melse\u001b[0m\u001b[0;34m:\u001b[0m\u001b[0;34m\u001b[0m\u001b[0;34m\u001b[0m\u001b[0m\n\u001b[1;32m    215\u001b[0m         \u001b[0mopener\u001b[0m \u001b[0;34m=\u001b[0m \u001b[0m_opener\u001b[0m\u001b[0;34m\u001b[0m\u001b[0;34m\u001b[0m\u001b[0m\n\u001b[0;32m--> 216\u001b[0;31m     \u001b[0;32mreturn\u001b[0m \u001b[0mopener\u001b[0m\u001b[0;34m.\u001b[0m\u001b[0mopen\u001b[0m\u001b[0;34m(\u001b[0m\u001b[0murl\u001b[0m\u001b[0;34m,\u001b[0m \u001b[0mdata\u001b[0m\u001b[0;34m,\u001b[0m \u001b[0mtimeout\u001b[0m\u001b[0;34m)\u001b[0m\u001b[0;34m\u001b[0m\u001b[0;34m\u001b[0m\u001b[0m\n\u001b[0m\u001b[1;32m    217\u001b[0m \u001b[0;34m\u001b[0m\u001b[0m\n\u001b[1;32m    218\u001b[0m \u001b[0;32mdef\u001b[0m \u001b[0minstall_opener\u001b[0m\u001b[0;34m(\u001b[0m\u001b[0mopener\u001b[0m\u001b[0;34m)\u001b[0m\u001b[0;34m:\u001b[0m\u001b[0;34m\u001b[0m\u001b[0;34m\u001b[0m\u001b[0m\n",
      "\u001b[0;32m/usr/lib64/python3.10/urllib/request.py\u001b[0m in \u001b[0;36mopen\u001b[0;34m(self, fullurl, data, timeout)\u001b[0m\n\u001b[1;32m    523\u001b[0m         \u001b[0;32mfor\u001b[0m \u001b[0mprocessor\u001b[0m \u001b[0;32min\u001b[0m \u001b[0mself\u001b[0m\u001b[0;34m.\u001b[0m\u001b[0mprocess_response\u001b[0m\u001b[0;34m.\u001b[0m\u001b[0mget\u001b[0m\u001b[0;34m(\u001b[0m\u001b[0mprotocol\u001b[0m\u001b[0;34m,\u001b[0m \u001b[0;34m[\u001b[0m\u001b[0;34m]\u001b[0m\u001b[0;34m)\u001b[0m\u001b[0;34m:\u001b[0m\u001b[0;34m\u001b[0m\u001b[0;34m\u001b[0m\u001b[0m\n\u001b[1;32m    524\u001b[0m             \u001b[0mmeth\u001b[0m \u001b[0;34m=\u001b[0m \u001b[0mgetattr\u001b[0m\u001b[0;34m(\u001b[0m\u001b[0mprocessor\u001b[0m\u001b[0;34m,\u001b[0m \u001b[0mmeth_name\u001b[0m\u001b[0;34m)\u001b[0m\u001b[0;34m\u001b[0m\u001b[0;34m\u001b[0m\u001b[0m\n\u001b[0;32m--> 525\u001b[0;31m             \u001b[0mresponse\u001b[0m \u001b[0;34m=\u001b[0m \u001b[0mmeth\u001b[0m\u001b[0;34m(\u001b[0m\u001b[0mreq\u001b[0m\u001b[0;34m,\u001b[0m \u001b[0mresponse\u001b[0m\u001b[0;34m)\u001b[0m\u001b[0;34m\u001b[0m\u001b[0;34m\u001b[0m\u001b[0m\n\u001b[0m\u001b[1;32m    526\u001b[0m \u001b[0;34m\u001b[0m\u001b[0m\n\u001b[1;32m    527\u001b[0m         \u001b[0;32mreturn\u001b[0m \u001b[0mresponse\u001b[0m\u001b[0;34m\u001b[0m\u001b[0;34m\u001b[0m\u001b[0m\n",
      "\u001b[0;32m/usr/lib64/python3.10/urllib/request.py\u001b[0m in \u001b[0;36mhttp_response\u001b[0;34m(self, request, response)\u001b[0m\n\u001b[1;32m    632\u001b[0m         \u001b[0;31m# request was successfully received, understood, and accepted.\u001b[0m\u001b[0;34m\u001b[0m\u001b[0;34m\u001b[0m\u001b[0m\n\u001b[1;32m    633\u001b[0m         \u001b[0;32mif\u001b[0m \u001b[0;32mnot\u001b[0m \u001b[0;34m(\u001b[0m\u001b[0;36m200\u001b[0m \u001b[0;34m<=\u001b[0m \u001b[0mcode\u001b[0m \u001b[0;34m<\u001b[0m \u001b[0;36m300\u001b[0m\u001b[0;34m)\u001b[0m\u001b[0;34m:\u001b[0m\u001b[0;34m\u001b[0m\u001b[0;34m\u001b[0m\u001b[0m\n\u001b[0;32m--> 634\u001b[0;31m             response = self.parent.error(\n\u001b[0m\u001b[1;32m    635\u001b[0m                 'http', request, response, code, msg, hdrs)\n\u001b[1;32m    636\u001b[0m \u001b[0;34m\u001b[0m\u001b[0m\n",
      "\u001b[0;32m/usr/lib64/python3.10/urllib/request.py\u001b[0m in \u001b[0;36merror\u001b[0;34m(self, proto, *args)\u001b[0m\n\u001b[1;32m    561\u001b[0m         \u001b[0;32mif\u001b[0m \u001b[0mhttp_err\u001b[0m\u001b[0;34m:\u001b[0m\u001b[0;34m\u001b[0m\u001b[0;34m\u001b[0m\u001b[0m\n\u001b[1;32m    562\u001b[0m             \u001b[0margs\u001b[0m \u001b[0;34m=\u001b[0m \u001b[0;34m(\u001b[0m\u001b[0mdict\u001b[0m\u001b[0;34m,\u001b[0m \u001b[0;34m'default'\u001b[0m\u001b[0;34m,\u001b[0m \u001b[0;34m'http_error_default'\u001b[0m\u001b[0;34m)\u001b[0m \u001b[0;34m+\u001b[0m \u001b[0morig_args\u001b[0m\u001b[0;34m\u001b[0m\u001b[0;34m\u001b[0m\u001b[0m\n\u001b[0;32m--> 563\u001b[0;31m             \u001b[0;32mreturn\u001b[0m \u001b[0mself\u001b[0m\u001b[0;34m.\u001b[0m\u001b[0m_call_chain\u001b[0m\u001b[0;34m(\u001b[0m\u001b[0;34m*\u001b[0m\u001b[0margs\u001b[0m\u001b[0;34m)\u001b[0m\u001b[0;34m\u001b[0m\u001b[0;34m\u001b[0m\u001b[0m\n\u001b[0m\u001b[1;32m    564\u001b[0m \u001b[0;34m\u001b[0m\u001b[0m\n\u001b[1;32m    565\u001b[0m \u001b[0;31m# XXX probably also want an abstract factory that knows when it makes\u001b[0m\u001b[0;34m\u001b[0m\u001b[0;34m\u001b[0m\u001b[0m\n",
      "\u001b[0;32m/usr/lib64/python3.10/urllib/request.py\u001b[0m in \u001b[0;36m_call_chain\u001b[0;34m(self, chain, kind, meth_name, *args)\u001b[0m\n\u001b[1;32m    494\u001b[0m         \u001b[0;32mfor\u001b[0m \u001b[0mhandler\u001b[0m \u001b[0;32min\u001b[0m \u001b[0mhandlers\u001b[0m\u001b[0;34m:\u001b[0m\u001b[0;34m\u001b[0m\u001b[0;34m\u001b[0m\u001b[0m\n\u001b[1;32m    495\u001b[0m             \u001b[0mfunc\u001b[0m \u001b[0;34m=\u001b[0m \u001b[0mgetattr\u001b[0m\u001b[0;34m(\u001b[0m\u001b[0mhandler\u001b[0m\u001b[0;34m,\u001b[0m \u001b[0mmeth_name\u001b[0m\u001b[0;34m)\u001b[0m\u001b[0;34m\u001b[0m\u001b[0;34m\u001b[0m\u001b[0m\n\u001b[0;32m--> 496\u001b[0;31m             \u001b[0mresult\u001b[0m \u001b[0;34m=\u001b[0m \u001b[0mfunc\u001b[0m\u001b[0;34m(\u001b[0m\u001b[0;34m*\u001b[0m\u001b[0margs\u001b[0m\u001b[0;34m)\u001b[0m\u001b[0;34m\u001b[0m\u001b[0;34m\u001b[0m\u001b[0m\n\u001b[0m\u001b[1;32m    497\u001b[0m             \u001b[0;32mif\u001b[0m \u001b[0mresult\u001b[0m \u001b[0;32mis\u001b[0m \u001b[0;32mnot\u001b[0m \u001b[0;32mNone\u001b[0m\u001b[0;34m:\u001b[0m\u001b[0;34m\u001b[0m\u001b[0;34m\u001b[0m\u001b[0m\n\u001b[1;32m    498\u001b[0m                 \u001b[0;32mreturn\u001b[0m \u001b[0mresult\u001b[0m\u001b[0;34m\u001b[0m\u001b[0;34m\u001b[0m\u001b[0m\n",
      "\u001b[0;32m/usr/lib64/python3.10/urllib/request.py\u001b[0m in \u001b[0;36mhttp_error_default\u001b[0;34m(self, req, fp, code, msg, hdrs)\u001b[0m\n\u001b[1;32m    641\u001b[0m \u001b[0;32mclass\u001b[0m \u001b[0mHTTPDefaultErrorHandler\u001b[0m\u001b[0;34m(\u001b[0m\u001b[0mBaseHandler\u001b[0m\u001b[0;34m)\u001b[0m\u001b[0;34m:\u001b[0m\u001b[0;34m\u001b[0m\u001b[0;34m\u001b[0m\u001b[0m\n\u001b[1;32m    642\u001b[0m     \u001b[0;32mdef\u001b[0m \u001b[0mhttp_error_default\u001b[0m\u001b[0;34m(\u001b[0m\u001b[0mself\u001b[0m\u001b[0;34m,\u001b[0m \u001b[0mreq\u001b[0m\u001b[0;34m,\u001b[0m \u001b[0mfp\u001b[0m\u001b[0;34m,\u001b[0m \u001b[0mcode\u001b[0m\u001b[0;34m,\u001b[0m \u001b[0mmsg\u001b[0m\u001b[0;34m,\u001b[0m \u001b[0mhdrs\u001b[0m\u001b[0;34m)\u001b[0m\u001b[0;34m:\u001b[0m\u001b[0;34m\u001b[0m\u001b[0;34m\u001b[0m\u001b[0m\n\u001b[0;32m--> 643\u001b[0;31m         \u001b[0;32mraise\u001b[0m \u001b[0mHTTPError\u001b[0m\u001b[0;34m(\u001b[0m\u001b[0mreq\u001b[0m\u001b[0;34m.\u001b[0m\u001b[0mfull_url\u001b[0m\u001b[0;34m,\u001b[0m \u001b[0mcode\u001b[0m\u001b[0;34m,\u001b[0m \u001b[0mmsg\u001b[0m\u001b[0;34m,\u001b[0m \u001b[0mhdrs\u001b[0m\u001b[0;34m,\u001b[0m \u001b[0mfp\u001b[0m\u001b[0;34m)\u001b[0m\u001b[0;34m\u001b[0m\u001b[0;34m\u001b[0m\u001b[0m\n\u001b[0m\u001b[1;32m    644\u001b[0m \u001b[0;34m\u001b[0m\u001b[0m\n\u001b[1;32m    645\u001b[0m \u001b[0;32mclass\u001b[0m \u001b[0mHTTPRedirectHandler\u001b[0m\u001b[0;34m(\u001b[0m\u001b[0mBaseHandler\u001b[0m\u001b[0;34m)\u001b[0m\u001b[0;34m:\u001b[0m\u001b[0;34m\u001b[0m\u001b[0;34m\u001b[0m\u001b[0m\n",
      "\u001b[0;31mHTTPError\u001b[0m: HTTP Error 404: Not Found"
     ]
    }
   ],
   "source": [
    "get_case(\"https://www.supremecourt.uk/cases/uksc-2021-0062.html\")"
   ]
  },
  {
   "cell_type": "code",
   "execution_count": 48,
   "id": "a7f4a27e-de10-47db-9964-19fbf150dbd5",
   "metadata": {},
   "outputs": [],
   "source": [
    "test_url = \"https://www.supremecourt.uk/cases/uksc-2021-0062.html\"\n",
    "test_pdf_url = test_url.replace('.html', '-judgment.pdf').replace('cases/', 'cases/docs/')\n",
    "test_summary_url = test_url.replace('.html', '-press-summary.pdf').replace('cases/', 'cases/docs/')"
   ]
  },
  {
   "cell_type": "code",
   "execution_count": 52,
   "id": "00cb2ae8-4661-44e8-b362-62e249691093",
   "metadata": {},
   "outputs": [
    {
     "data": {
      "text/plain": [
       "'https://www.supremecourt.uk/cases/uksc-2021-0062.html'"
      ]
     },
     "execution_count": 52,
     "metadata": {},
     "output_type": "execute_result"
    }
   ],
   "source": [
    "test_url"
   ]
  },
  {
   "cell_type": "code",
   "execution_count": 51,
   "id": "bd0db889-11ac-4de5-92b9-37c97fb3b180",
   "metadata": {},
   "outputs": [
    {
     "data": {
      "text/plain": [
       "'https://www.supremecourt.uk/cases/docs/uksc-2021-0062-judgment.pdf'"
      ]
     },
     "execution_count": 51,
     "metadata": {},
     "output_type": "execute_result"
    }
   ],
   "source": [
    "test_pdf_url"
   ]
  },
  {
   "cell_type": "code",
   "execution_count": 50,
   "id": "d52f674b-a11f-47ad-86b0-b5896f009564",
   "metadata": {},
   "outputs": [
    {
     "data": {
      "text/plain": [
       "'https://www.supremecourt.uk/cases/docs/uksc-2021-0062-press-summary.pdf'"
      ]
     },
     "execution_count": 50,
     "metadata": {},
     "output_type": "execute_result"
    }
   ],
   "source": [
    "test_summary_url"
   ]
  },
  {
   "cell_type": "code",
   "execution_count": null,
   "id": "81719ad2-4668-4830-828b-4408a4517d51",
   "metadata": {},
   "outputs": [],
   "source": []
  }
 ],
 "metadata": {
  "kernelspec": {
   "display_name": "Python 3 (ipykernel)",
   "language": "python",
   "name": "python3"
  },
  "language_info": {
   "codemirror_mode": {
    "name": "ipython",
    "version": 3
   },
   "file_extension": ".py",
   "mimetype": "text/x-python",
   "name": "python",
   "nbconvert_exporter": "python",
   "pygments_lexer": "ipython3",
   "version": "3.10.2"
  }
 },
 "nbformat": 4,
 "nbformat_minor": 5
}
