{
 "cells": [
  {
   "cell_type": "code",
   "execution_count": 1,
   "id": "3f58e528-25b3-4304-b208-ba83b418765f",
   "metadata": {},
   "outputs": [],
   "source": [
    "from translating_the_law.downloading.get_data import get_data"
   ]
  },
  {
   "cell_type": "code",
   "execution_count": 2,
   "id": "b9d25f94-9631-46fe-a610-5b5c805fba48",
   "metadata": {},
   "outputs": [],
   "source": [
    "data = get_data(10)"
   ]
  },
  {
   "cell_type": "code",
   "execution_count": 8,
   "id": "9bbeb9b7-4f2a-4cb2-8581-6c70df35a677",
   "metadata": {},
   "outputs": [
    {
     "data": {
      "text/plain": [
       "dict_keys(['judgement', 'press summary'])"
      ]
     },
     "execution_count": 8,
     "metadata": {},
     "output_type": "execute_result"
    }
   ],
   "source": [
    "data[0].keys()"
   ]
  },
  {
   "cell_type": "code",
   "execution_count": 20,
   "id": "0c5cfeb8-7cf8-492c-8c40-83c4b16ed066",
   "metadata": {},
   "outputs": [
    {
     "name": "stdout",
     "output_type": "stream",
     "text": [
      "0\n",
      "dict_keys(['Press summary', 'Justices', 'Background to the appeal', 'Judgment', 'Reasons for the judgment'])\n",
      "1\n",
      "dict_keys(['Press summary', 'Justices', 'Background to the appeal', 'Judgment', 'Reasons for the judgment'])\n",
      "2\n",
      "dict_keys(['Press summary', 'Justices', 'Background to the appeal', 'Judgment', 'Reasons for the judgment'])\n",
      "3\n",
      "dict_keys(['Press summary', 'Justices', 'Background to the appeal', 'Judgment', 'Reasons for the judgment'])\n",
      "4\n",
      "dict_keys(['Press summary', 'Justices', 'Background to the appeal', 'Judgment', 'Reasons for the judgment'])\n",
      "5\n",
      "dict_keys(['error'])\n",
      "6\n",
      "dict_keys(['Press summary', 'Justices', 'Background to the appeal', 'Judgment', 'Reasons for the judgment'])\n",
      "7\n",
      "dict_keys(['Press summary', 'Justices', 'Background to the appeal', 'Judgment', 'Reasons for the judgment'])\n",
      "8\n",
      "dict_keys(['Press summary', 'Justices', 'Background to the appeal', 'Judgment', 'Reasons for the judgment'])\n",
      "9\n",
      "dict_keys(['Press summary', 'Justices', 'Background to the appeal', 'Judgment', 'Reasons for the judgment'])\n"
     ]
    }
   ],
   "source": [
    "for i in range(10):\n",
    "    print(i)\n",
    "    print(data[i]['press summary'].keys())"
   ]
  },
  {
   "cell_type": "code",
   "execution_count": 21,
   "id": "9a53be4d-52c2-4e78-bcf7-9c0fb12bc1f9",
   "metadata": {},
   "outputs": [
    {
     "data": {
      "text/plain": [
       "{'error': 'cannot parse'}"
      ]
     },
     "execution_count": 21,
     "metadata": {},
     "output_type": "execute_result"
    }
   ],
   "source": [
    "data[5]['press summary']"
   ]
  },
  {
   "cell_type": "code",
   "execution_count": null,
   "id": "a58c5fab-5cec-4b5a-af72-2df95d48c4cb",
   "metadata": {},
   "outputs": [],
   "source": []
  }
 ],
 "metadata": {
  "kernelspec": {
   "display_name": "Python 3 (ipykernel)",
   "language": "python",
   "name": "python3"
  },
  "language_info": {
   "codemirror_mode": {
    "name": "ipython",
    "version": 3
   },
   "file_extension": ".py",
   "mimetype": "text/x-python",
   "name": "python",
   "nbconvert_exporter": "python",
   "pygments_lexer": "ipython3",
   "version": "3.10.2"
  }
 },
 "nbformat": 4,
 "nbformat_minor": 5
}
