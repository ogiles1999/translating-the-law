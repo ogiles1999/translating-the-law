{
 "cells": [
  {
   "cell_type": "code",
   "execution_count": 47,
   "id": "e8412abc-80e1-4c95-8138-4bee07f8420c",
   "metadata": {},
   "outputs": [],
   "source": [
    "from translating_the_law.downloading.get_links import get_links\n",
    "import requests\n",
    "from bs4 import BeautifulSoup\n",
    "from translating_the_law.downloading.get_data import get_data"
   ]
  },
  {
   "cell_type": "code",
   "execution_count": 4,
   "id": "00e59fe8-2f03-46b3-b8b2-964398459cea",
   "metadata": {},
   "outputs": [],
   "source": [
    "links = get_links()"
   ]
  },
  {
   "cell_type": "code",
   "execution_count": 10,
   "id": "9d4ccbfe-0baa-4a44-93d3-d9237db0d243",
   "metadata": {},
   "outputs": [
    {
     "data": {
      "text/plain": [
       "'https://www.supremecourt.uk/cases/uksc-2009-0184.html'"
      ]
     },
     "execution_count": 10,
     "metadata": {},
     "output_type": "execute_result"
    }
   ],
   "source": [
    "links[0][0].split()[2][:-1]"
   ]
  },
  {
   "cell_type": "code",
   "execution_count": 15,
   "id": "540325b0-9d94-48ef-a565-2f7081913355",
   "metadata": {},
   "outputs": [
    {
     "data": {
      "text/plain": [
       "'2009'"
      ]
     },
     "execution_count": 15,
     "metadata": {},
     "output_type": "execute_result"
    }
   ],
   "source": [
    "base_url[39:43]"
   ]
  },
  {
   "cell_type": "code",
   "execution_count": 26,
   "id": "4e333dbc-056d-4139-a82d-62bee25b1008",
   "metadata": {},
   "outputs": [],
   "source": [
    "broken_summaries = []"
   ]
  },
  {
   "cell_type": "code",
   "execution_count": 77,
   "id": "eb8c88da-ecd4-4327-8742-3b0182b4b20e",
   "metadata": {},
   "outputs": [
    {
     "name": "stdout",
     "output_type": "stream",
     "text": [
      "21\n",
      "uksc-2021-0062\n",
      "https://www.supremecourt.uk/cases/uksc-2021-0062.html\n",
      "22\n",
      "uksc-2021-0063\n",
      "https://www.supremecourt.uk/cases/uksc-2021-0063.html\n",
      "23\n",
      "uksc-2018-0129\n",
      "https://www.supremecourt.uk/cases/uksc-2018-0129.html\n",
      "24\n",
      "uksc-2020-0122\n",
      "https://www.supremecourt.uk/cases/uksc-2020-0122.html\n",
      "25\n",
      "uksc-2020-0066\n",
      "https://www.supremecourt.uk/cases/uksc-2020-0066.html\n",
      "26\n",
      "uksc-2020-0076\n",
      "https://www.supremecourt.uk/cases/uksc-2020-0076.html\n",
      "27\n",
      "uksc-2020-0185\n",
      "https://www.supremecourt.uk/cases/uksc-2020-0185.html\n",
      "28\n",
      "uksc-2020-0084\n",
      "https://www.supremecourt.uk/cases/uksc-2020-0084.html\n",
      "29\n",
      "uksc-2020-0185\n",
      "https://www.supremecourt.uk/cases/uksc-2020-0185.html\n",
      "30\n",
      "uksc-2020-0122\n",
      "https://www.supremecourt.uk/cases/uksc-2020-0122.html\n",
      "31\n",
      "uksc-2020-0084\n",
      "https://www.supremecourt.uk/cases/uksc-2020-0084.html\n",
      "32\n",
      "uksc-2021-0062\n",
      "https://www.supremecourt.uk/cases/uksc-2021-0062.html\n",
      "33\n",
      "uksc-2020-0066\n",
      "https://www.supremecourt.uk/cases/uksc-2020-0066.html\n",
      "34\n",
      "uksc-2021-0063\n",
      "https://www.supremecourt.uk/cases/uksc-2021-0063.html\n",
      "35\n",
      "uksc-2020-0076\n",
      "https://www.supremecourt.uk/cases/uksc-2020-0076.html\n",
      "36\n",
      "uksc-2018-0129\n",
      "https://www.supremecourt.uk/cases/uksc-2018-0129.html\n"
     ]
    }
   ],
   "source": [
    "for i in range(50):\n",
    "    base_url = links[i][0].split()[2][:-1]\n",
    "    pdf_url = base_url.replace('.html', '-judgment.pdf').replace('cases/', 'cases/docs/')\n",
    "    summary_url = base_url.replace('.html', '-press-summary.pdf').replace('cases/', 'cases/docs/')\n",
    "    case = base_url.replace('.html', '').replace('https://www.supremecourt.uk/cases/','')\n",
    "    if int(base_url[39:43]) >= 2017:\n",
    "        print(i)\n",
    "        print(case)\n",
    "        print(base_url)\n",
    "        broken_summaries.append(base_url)"
   ]
  },
  {
   "cell_type": "code",
   "execution_count": 28,
   "id": "a5aec2ed-315a-455a-a721-b1057cf613c8",
   "metadata": {},
   "outputs": [
    {
     "data": {
      "text/plain": [
       "'https://www.supremecourt.uk/cases/uksc-2021-0062.html'"
      ]
     },
     "execution_count": 28,
     "metadata": {},
     "output_type": "execute_result"
    }
   ],
   "source": [
    "broken_summaries[0]"
   ]
  },
  {
   "cell_type": "code",
   "execution_count": 31,
   "id": "eaf1f023-0b63-4b0e-a95e-19a9ad32f76f",
   "metadata": {},
   "outputs": [
    {
     "data": {
      "text/plain": [
       "'https://www.supremecourt.uk/press-summary/uksc-2021-0062.html'"
      ]
     },
     "execution_count": 31,
     "metadata": {},
     "output_type": "execute_result"
    }
   ],
   "source": [
    "broken_summaries[0].replace(\"cases\", \"press-summary\")"
   ]
  },
  {
   "cell_type": "code",
   "execution_count": 33,
   "id": "3ea67089-35d2-4f54-a192-d4f78bedf46a",
   "metadata": {},
   "outputs": [],
   "source": [
    "changed_press_summary = \"https://www.supremecourt.uk/press-summary/uksc-2021-0062.html\""
   ]
  },
  {
   "cell_type": "code",
   "execution_count": 43,
   "id": "57a11a7f-ee24-4973-b761-7468df7f3c6c",
   "metadata": {},
   "outputs": [
    {
     "name": "stdout",
     "output_type": "stream",
     "text": [
      "['R (on the application of O (a minor, by her litigation friend AO)) (Appellant) v Secretary of State for the Home Department (Respondent)\\r\\nR (on the application of The Project for the Registration of Children as British Citizens) (Appellant) v Secretary of State for the Home Department (Respondent)\\r\\n - Press Summary', 'Skip to Primary Navigation', 'Skip to Content', 'Go to the home page', 'Go to Latest news', 'Go to the sitemap page', 'Go to search', 'Go to the Decided cases', 'Go to the Current cases', 'Go to the Complaints Policies and Judicial Conduct', 'Go to the terms and conditions page', 'Go to the contact us page', 'Go to the accessibility statement page', 'Skip to main content', 'Home', 'Accessibility', 'Education', 'Press office', 'Contact us', 'FAQs', 'Careers', 'Cymraeg', 'Bookmark', 'Press Summary', 'Home', 'Case Summary', 'Decided cases', 'Court procedures', 'Visiting The Court', 'About The Supreme Court', 'Latest', 'news', 'Current cases', 'R (on the application of O (a minor, by her litigation friend AO)) (Appellant) v Secretary of State for the Home Department (Respondent)\\r\\nR (on the application of The Project for the Registration of Children as British Citizens) (Appellant) v Secretary of State for the Home Department (Respondent)\\r\\n [2022] UKSC 3', 'On appeal from: [2021] EWCA Civ 193', 'THE COURT ORDERED that no one shall publish or reveal the names or addresses of the Appellant who is the subject of these proceedings or publish or reveal any information which would be likely to lead to the identification of the Appellant or of any members of her family in connection with these proceedings.', 'Date:', '2 February 2022', 'Justices', 'Lord Hodge (Deputy President), Lord Briggs, Lady Arden, Lord Stephens, Lady Rose', 'Background to the Appeal', 'This appeal concerns whether subordinate legislation was ultra vires because it set the fee at which a child or young person could apply to be registered as a British citizen at a level which many young applicants have found to be unaffordable [', '1', '].', 'The first claimant, O, was born in the United Kingdom in July 2007, attends school and has never left the UK. She has Nigerian citizenship, but from her tenth birthday she has satisfied the requirements to apply for registration as a British citizen under section 1(4) of the British Nationality Act 1981 (the \"', '1981 Act', '\"). O applied to be registered as a British citizen on 15 December 2017 but was unable to afford the full amount of the fee, which was £973 at that time [', '2', ']. It was not disputed that many children and their families cannot afford the fee charged where an applicant is a child [', '20', ']. Because the full fee was not paid, the Secretary of State refused to process O’s application [', '2', ']. O is joined in her challenge by The Project for the Registration of Children as British Citizens [', '4', '].', 'The Immigration Act 2014 (the \"', '2014 Act', '\") empowers the Secretary of State to set the fees for applications to obtain British citizenship in subordinate legislation, having regard only to the matters listed in section 68(9) of the 2014 Act. Those matters include not only the cost of processing the application but also the benefits that are likely to accrue from obtaining British citizenship and the costs of exercising other functions in relation to immigration and nationality [', '9-17', ']. The current level of the fee produces a substantial surplus, over the administrative cost of processing an application to be applied, to subsidise other parts of the immigration and nationality system [', '3', '].', 'The appellants challenge the level of the registration fee on the basis that the Secretary of State did not have the power to set the fee at a level which rendered nugatory the underlying statutory right to become a British citizen conferred by the 1981 Act [', '20-21', '].', 'Judgment', 'The Supreme Court unanimously dismisses the appeal. Lord Hodge gives the lead judgment, with whom Lord Briggs, Lord Stephens and Lady Rose agree. Lady Arden gives a concurring judgment.', 'Reasons for the Judgment', 'Lord Hodge explains that the issue on this appeal is one of statutory interpretation: whether Parliament has authorised in primary legislation the imposition by subordinate legislation of the challenged fee [', '27', '].', 'Lord Hodge begins by explaining the process of statutory interpretation. By statutory interpretation, the courts are seeking the meaning of the words which Parliament used. Words and passages in a statute derive their meaning from their context. Other provisions in the statute and the statute as a whole may provide the relevant internal context. They are the words which Parliament has chosen to enact as an expression of the purpose of the legislation and are therefore the primary source by which meaning is ascertained [', '29', ']. An important constitutional reason for having regard primarily to the statutory context is that citizens should be able to rely upon what they read in an Act of Parliament [', '29', ']. External aids, such as explanatory notes, Law Commission reports, and Government White Papers, must therefore play a secondary role. External aids may assist in identifying the background to a statute, the issue it addresses and its purpose, and the context they disclose may assist in ascertaining the meaning of the statute. But they do not displace the meanings of the words of a statute which are clear and unambiguous in their wider context and which do not produce absurdity [', '30', ']. In summary, statutory interpretation involves an objective assessment of the meaning which a reasonable legislature as a body would be seeking to convey in using the statutory words which are being considered [', '31', '].', 'Lord Hodge then turns to the appellants’ submissions. He notes that the appeal is not concerned with fundamental or constitutional common law rights, nor are any Convention rights under the Human Rights Act 1998 engaged [', '33', ']. The special rules of construction that are applicable when the principle of legality is infringed or the constitutional right of access to the courts is intruded upon therefore do not apply [', '33', ']. The appellants’ argument based on the constitutional right of access to the courts therefore has no application to the present case [', '36', '].', 'The appellants also argued that specific statutory rights are not to be cut down by subordinate legislation passed under the vires of a different Act, a rule identified in the case of R v Secretary of State for Social Security, Ex p Joint Council for the Welfare of Immigrants [1997] 1 WLR 275 (\"', 'JCWI', '\") [', '34', ']. Lord Hodge explains that an earlier statute (\"', 'statute 1', '\") can be expressly or impliedly amended or repealed by Parliament enacting a later statute (\"', 'statute 2', '\"), including by empowering the executive branch of government to make subordinate legislation which impinges upon and even removes rights conferred by statute 1 [', '40', ']. Where statute 2 authorises subordinate legislation, the court’s task is to ascertain the scope of the enabling power contained in statute 2 [', '40', ']. In doing so the court will take into account assumptions or presumptions such as the principle of legality [', '41', ']. If the court concludes that statute 2 has empowered the executive to make subordinate legislation which has the effect of removing rights conferred by statute 1, the rule in', 'JCWI', 'identified by the appellants imposes no additional hurdle [', '42', ']. And where the court is not dealing with an interference by statute with a common law constitutional right or with a statutory provision which declares such a fundamental or constitutional right, the normal rules of statutory interpretation apply [', '43', '].', 'Applying those principles, Lord Hodge concludes that, in the 2014 Act, Parliament authorised the subordinate legislation by which the Secretary of State has fixed the relevant application fee [', '51', ']. The appropriateness of imposing the fee on children is a question of policy which is for political determination, and not a matter for the court. The appeal is therefore dismissed [', '52', '].', 'Lady Arden agrees with Lord Hodge but explains that she considers there is a wider role in statutory interpretation for pre-legislative materials [', '58', ']. Lady Arden observes that the constitutional reason Lord Hodge gives for the courts not using explanatory notes no longer applies insofar as explanatory notes are now often published by commercial publishers and appear online free of charge [', '59-60', ']. Lady Arden also considers that there are occasions when pre-legislative material may go further than simply provide the background or context for the statutory provision in question [', '64-65', ']. In appropriate circumstances such materials can also considerably help the judge better to perform his or her role of finding the intention of Parliament in any particular enactment, for example when such materials reveal that the language of the statute – perhaps thought to be clear on its face – is in fact ambiguous [', '66-76', '].', 'References in square brackets are to paragraphs in the judgment', 'Note', 'This summary is provided to assist in understanding the Court’s decision. It does not form part of the reasons for the decision. The full judgment of the Court is the only authoritative document. Judgments are public documents and are available online.', 'Decided cases', 'Judicial Committee of The Privy Council website', 'Terms and conditions', 'Site map', 'Privacy notice', '© Crown Copyright 2022']\n"
     ]
    }
   ],
   "source": [
    "html = requests.get(changed_press_summary).content\n",
    "soup = BeautifulSoup(html)\n",
    "\n",
    "\n",
    "for script in soup([\"script\", \"style\"]):\n",
    "\n",
    "    script.decompose()\n",
    "\n",
    "\n",
    "strips = list(soup.stripped_strings)\n",
    "\n",
    "print(strips)"
   ]
  },
  {
   "cell_type": "code",
   "execution_count": 70,
   "id": "2a3ad9ac-6e94-4347-b292-734302ffe4f5",
   "metadata": {
    "tags": []
   },
   "outputs": [
    {
     "name": "stdout",
     "output_type": "stream",
     "text": [
      "38\n",
      "Justices\n",
      "40\n",
      "Background to the Appeal\n",
      "65\n",
      "Judgment\n",
      "67\n",
      "Reasons for the Judgment\n",
      "{'Press summary': '', 'Justices': '', 'Background to the appeal': '', 'Judgment': '', 'Reasons for the judgment': 'Skip to Primary NavigationSkip to ContentGo to the home pageGo to Latest newsGo to the sitemap pageGo to searchGo to the Decided casesGo to the Current casesGo to the Complaints Policies and Judicial ConductGo to the terms and conditions pageGo to the contact us pageGo to the accessibility statement pageSkip to main contentHomeAccessibilityEducationPress officeContact usFAQsCareersCymraegBookmarkPress SummaryHomeCase SummaryDecided casesCourt proceduresVisiting The CourtAbout The Supreme CourtLatestnewsCurrent casesR (on the application of O (a minor, by her litigation friend AO)) (Appellant) v Secretary of State for the Home Department (Respondent)\\r\\nR (on the application of The Project for the Registration of Children as British Citizens) (Appellant) v Secretary of State for the Home Department (Respondent)\\r\\n [2022] UKSC 3On appeal from: [2021] EWCA Civ 193THE COURT ORDERED that no one shall publish or reveal the names or addresses of the Appellant who is the subject of these proceedings or publish or reveal any information which would be likely to lead to the identification of the Appellant or of any members of her family in connection with these proceedings.Date:2 February 2022JusticesLord Hodge (Deputy President), Lord Briggs, Lady Arden, Lord Stephens, Lady RoseBackground to the AppealThis appeal concerns whether subordinate legislation was ultra vires because it set the fee at which a child or young person could apply to be registered as a British citizen at a level which many young applicants have found to be unaffordable [1].The first claimant, O, was born in the United Kingdom in July 2007, attends school and has never left the UK. She has Nigerian citizenship, but from her tenth birthday she has satisfied the requirements to apply for registration as a British citizen under section 1(4) of the British Nationality Act 1981 (the \"1981 Act\"). O applied to be registered as a British citizen on 15 December 2017 but was unable to afford the full amount of the fee, which was £973 at that time [2]. It was not disputed that many children and their families cannot afford the fee charged where an applicant is a child [20]. Because the full fee was not paid, the Secretary of State refused to process O’s application [2]. O is joined in her challenge by The Project for the Registration of Children as British Citizens [4].The Immigration Act 2014 (the \"2014 Act\") empowers the Secretary of State to set the fees for applications to obtain British citizenship in subordinate legislation, having regard only to the matters listed in section 68(9) of the 2014 Act. Those matters include not only the cost of processing the application but also the benefits that are likely to accrue from obtaining British citizenship and the costs of exercising other functions in relation to immigration and nationality [9-17]. The current level of the fee produces a substantial surplus, over the administrative cost of processing an application to be applied, to subsidise other parts of the immigration and nationality system [3].The appellants challenge the level of the registration fee on the basis that the Secretary of State did not have the power to set the fee at a level which rendered nugatory the underlying statutory right to become a British citizen conferred by the 1981 Act [20-21].JudgmentThe Supreme Court unanimously dismisses the appeal. Lord Hodge gives the lead judgment, with whom Lord Briggs, Lord Stephens and Lady Rose agree. Lady Arden gives a concurring judgment.Reasons for the JudgmentLord Hodge explains that the issue on this appeal is one of statutory interpretation: whether Parliament has authorised in primary legislation the imposition by subordinate legislation of the challenged fee [27].Lord Hodge begins by explaining the process of statutory interpretation. By statutory interpretation, the courts are seeking the meaning of the words which Parliament used. Words and passages in a statute derive their meaning from their context. Other provisions in the statute and the statute as a whole may provide the relevant internal context. They are the words which Parliament has chosen to enact as an expression of the purpose of the legislation and are therefore the primary source by which meaning is ascertained [29]. An important constitutional reason for having regard primarily to the statutory context is that citizens should be able to rely upon what they read in an Act of Parliament [29]. External aids, such as explanatory notes, Law Commission reports, and Government White Papers, must therefore play a secondary role. External aids may assist in identifying the background to a statute, the issue it addresses and its purpose, and the context they disclose may assist in ascertaining the meaning of the statute. But they do not displace the meanings of the words of a statute which are clear and unambiguous in their wider context and which do not produce absurdity [30]. In summary, statutory interpretation involves an objective assessment of the meaning which a reasonable legislature as a body would be seeking to convey in using the statutory words which are being considered [31].Lord Hodge then turns to the appellants’ submissions. He notes that the appeal is not concerned with fundamental or constitutional common law rights, nor are any Convention rights under the Human Rights Act 1998 engaged [33]. The special rules of construction that are applicable when the principle of legality is infringed or the constitutional right of access to the courts is intruded upon therefore do not apply [33]. The appellants’ argument based on the constitutional right of access to the courts therefore has no application to the present case [36].The appellants also argued that specific statutory rights are not to be cut down by subordinate legislation passed under the vires of a different Act, a rule identified in the case of R v Secretary of State for Social Security, Ex p Joint Council for the Welfare of Immigrants [1997] 1 WLR 275 (\"JCWI\") [34]. Lord Hodge explains that an earlier statute (\"statute 1\") can be expressly or impliedly amended or repealed by Parliament enacting a later statute (\"statute 2\"), including by empowering the executive branch of government to make subordinate legislation which impinges upon and even removes rights conferred by statute 1 [40]. Where statute 2 authorises subordinate legislation, the court’s task is to ascertain the scope of the enabling power contained in statute 2 [40]. In doing so the court will take into account assumptions or presumptions such as the principle of legality [41]. If the court concludes that statute 2 has empowered the executive to make subordinate legislation which has the effect of removing rights conferred by statute 1, the rule inJCWIidentified by the appellants imposes no additional hurdle [42]. And where the court is not dealing with an interference by statute with a common law constitutional right or with a statutory provision which declares such a fundamental or constitutional right, the normal rules of statutory interpretation apply [43].Applying those principles, Lord Hodge concludes that, in the 2014 Act, Parliament authorised the subordinate legislation by which the Secretary of State has fixed the relevant application fee [51]. The appropriateness of imposing the fee on children is a question of policy which is for political determination, and not a matter for the court. The appeal is therefore dismissed [52].Lady Arden agrees with Lord Hodge but explains that she considers there is a wider role in statutory interpretation for pre-legislative materials [58]. Lady Arden observes that the constitutional reason Lord Hodge gives for the courts not using explanatory notes no longer applies insofar as explanatory notes are now often published by commercial publishers and appear online free of charge [59-60]. Lady Arden also considers that there are occasions when pre-legislative material may go further than simply provide the background or context for the statutory provision in question [64-65]. In appropriate circumstances such materials can also considerably help the judge better to perform his or her role of finding the intention of Parliament in any particular enactment, for example when such materials reveal that the language of the statute – perhaps thought to be clear on its face – is in fact ambiguous [66-76].References in square brackets are to paragraphs in the judgmentNoteThis summary is provided to assist in understanding the Court’s decision. It does not form part of the reasons for the decision. The full judgment of the Court is the only authoritative document. Judgments are public documents and are available online.Decided casesJudicial Committee of The Privy Council websiteTerms and conditionsSite mapPrivacy notice© Crown Copyright 2022'}\n",
      "dict_keys(['Press summary', 'Justices', 'Background to the appeal', 'Judgment', 'Reasons for the judgment'])\n"
     ]
    }
   ],
   "source": [
    "psummary = {}\n",
    "for i, strip in enumerate(strips):\n",
    "    judges = 0\n",
    "    background = 0\n",
    "    judgment = 0\n",
    "    reasons = 0\n",
    "    if strip == \"Justices\":\n",
    "        print(i)\n",
    "        judges = i\n",
    "        print(strip)\n",
    "    elif strip == \"Background to the Appeal\":\n",
    "        print(i)\n",
    "        background = i\n",
    "        print(strip)\n",
    "    elif strip == \"Judgment\":\n",
    "        print(i)\n",
    "        judgment = i\n",
    "        print(strip)\n",
    "    elif strip == \"Reasons for the Judgment\":\n",
    "        print(i)\n",
    "        reasons = i\n",
    "        print(strip)\n",
    "    psummary[\"Press summary\"] = \"\".join(strips[:judges])\n",
    "    psummary[\"Justices\"] = \"\".join(strips[judges+1:background])\n",
    "    psummary[\"Background to the appeal\"] = \"\".join(strips[background+1:judgment])\n",
    "    psummary[\"Judgment\"] = \"\".join(strips[judgment+1:reasons])\n",
    "    psummary[\"Reasons for the judgment\"] = \"\".join(strips[reasons + 1:])\n",
    "print(psummary)\n",
    "print(psummary.keys())"
   ]
  },
  {
   "cell_type": "code",
   "execution_count": 71,
   "id": "4bab430b-552f-436f-8f35-0137e2cdf771",
   "metadata": {},
   "outputs": [
    {
     "data": {
      "text/plain": [
       "'R (on the application of O (a minor, by her litigation friend AO)) (Appellant) v Secretary of State for the Home Department (Respondent)\\r\\nR (on the application of The Project for the Registration of Children as British Citizens) (Appellant) v Secretary of State for the Home Department (Respondent)\\r\\n - Press SummarySkip to Primary NavigationSkip to ContentGo to the home pageGo to Latest newsGo to the sitemap pageGo to searchGo to the Decided casesGo to the Current casesGo to the Complaints Policies and Judicial ConductGo to the terms and conditions pageGo to the contact us pageGo to the accessibility statement pageSkip to main contentHomeAccessibilityEducationPress officeContact usFAQsCareersCymraegBookmarkPress SummaryHomeCase SummaryDecided casesCourt proceduresVisiting The CourtAbout The Supreme CourtLatestnewsCurrent casesR (on the application of O (a minor, by her litigation friend AO)) (Appellant) v Secretary of State for the Home Department (Respondent)\\r\\nR (on the application of The Project for the Registration of Children as British Citizens) (Appellant) v Secretary of State for the Home Department (Respondent)\\r\\n [2022] UKSC 3On appeal from: [2021] EWCA Civ 193THE COURT ORDERED that no one shall publish or reveal the names or addresses of the Appellant who is the subject of these proceedings or publish or reveal any information which would be likely to lead to the identification of the Appellant or of any members of her family in connection with these proceedings.Date:2 February 2022'"
      ]
     },
     "execution_count": 71,
     "metadata": {},
     "output_type": "execute_result"
    }
   ],
   "source": [
    "\"\".join(strips[:38])"
   ]
  },
  {
   "cell_type": "code",
   "execution_count": 72,
   "id": "f92568b6-282a-41cc-93a8-01614fa7863a",
   "metadata": {},
   "outputs": [
    {
     "data": {
      "text/plain": [
       "'Lord Hodge (Deputy President), Lord Briggs, Lady Arden, Lord Stephens, Lady Rose'"
      ]
     },
     "execution_count": 72,
     "metadata": {},
     "output_type": "execute_result"
    }
   ],
   "source": [
    "\"\".join(strips[39:40])"
   ]
  },
  {
   "cell_type": "code",
   "execution_count": 73,
   "id": "6c74720e-681d-4bb6-affc-8be4dcbec0e6",
   "metadata": {},
   "outputs": [
    {
     "data": {
      "text/plain": [
       "'Lord Hodge explains that the issue on this appeal is one of statutory interpretation: whether Parliament has authorised in primary legislation the imposition by subordinate legislation of the challenged fee [27].Lord Hodge begins by explaining the process of statutory interpretation. By statutory interpretation, the courts are seeking the meaning of the words which Parliament used. Words and passages in a statute derive their meaning from their context. Other provisions in the statute and the statute as a whole may provide the relevant internal context. They are the words which Parliament has chosen to enact as an expression of the purpose of the legislation and are therefore the primary source by which meaning is ascertained [29]. An important constitutional reason for having regard primarily to the statutory context is that citizens should be able to rely upon what they read in an Act of Parliament [29]. External aids, such as explanatory notes, Law Commission reports, and Government White Papers, must therefore play a secondary role. External aids may assist in identifying the background to a statute, the issue it addresses and its purpose, and the context they disclose may assist in ascertaining the meaning of the statute. But they do not displace the meanings of the words of a statute which are clear and unambiguous in their wider context and which do not produce absurdity [30]. In summary, statutory interpretation involves an objective assessment of the meaning which a reasonable legislature as a body would be seeking to convey in using the statutory words which are being considered [31].Lord Hodge then turns to the appellants’ submissions. He notes that the appeal is not concerned with fundamental or constitutional common law rights, nor are any Convention rights under the Human Rights Act 1998 engaged [33]. The special rules of construction that are applicable when the principle of legality is infringed or the constitutional right of access to the courts is intruded upon therefore do not apply [33]. The appellants’ argument based on the constitutional right of access to the courts therefore has no application to the present case [36].The appellants also argued that specific statutory rights are not to be cut down by subordinate legislation passed under the vires of a different Act, a rule identified in the case of R v Secretary of State for Social Security, Ex p Joint Council for the Welfare of Immigrants [1997] 1 WLR 275 (\"JCWI\") [34]. Lord Hodge explains that an earlier statute (\"statute 1\") can be expressly or impliedly amended or repealed by Parliament enacting a later statute (\"statute 2\"), including by empowering the executive branch of government to make subordinate legislation which impinges upon and even removes rights conferred by statute 1 [40]. Where statute 2 authorises subordinate legislation, the court’s task is to ascertain the scope of the enabling power contained in statute 2 [40]. In doing so the court will take into account assumptions or presumptions such as the principle of legality [41]. If the court concludes that statute 2 has empowered the executive to make subordinate legislation which has the effect of removing rights conferred by statute 1, the rule inJCWIidentified by the appellants imposes no additional hurdle [42]. And where the court is not dealing with an interference by statute with a common law constitutional right or with a statutory provision which declares such a fundamental or constitutional right, the normal rules of statutory interpretation apply [43].Applying those principles, Lord Hodge concludes that, in the 2014 Act, Parliament authorised the subordinate legislation by which the Secretary of State has fixed the relevant application fee [51]. The appropriateness of imposing the fee on children is a question of policy which is for political determination, and not a matter for the court. The appeal is therefore dismissed [52].Lady Arden agrees with Lord Hodge but explains that she considers there is a wider role in statutory interpretation for pre-legislative materials [58]. Lady Arden observes that the constitutional reason Lord Hodge gives for the courts not using explanatory notes no longer applies insofar as explanatory notes are now often published by commercial publishers and appear online free of charge [59-60]. Lady Arden also considers that there are occasions when pre-legislative material may go further than simply provide the background or context for the statutory provision in question [64-65]. In appropriate circumstances such materials can also considerably help the judge better to perform his or her role of finding the intention of Parliament in any particular enactment, for example when such materials reveal that the language of the statute – perhaps thought to be clear on its face – is in fact ambiguous [66-76].References in square brackets are to paragraphs in the judgmentNoteThis summary is provided to assist in understanding the Court’s decision. It does not form part of the reasons for the decision. The full judgment of the Court is the only authoritative document. Judgments are public documents and are available online.Decided casesJudicial Committee of The Privy Council websiteTerms and conditionsSite mapPrivacy notice© Crown Copyright 2022'"
      ]
     },
     "execution_count": 73,
     "metadata": {},
     "output_type": "execute_result"
    }
   ],
   "source": [
    "\"\".join(strips[68:])"
   ]
  },
  {
   "cell_type": "code",
   "execution_count": 74,
   "id": "e0e78a4d-048a-4fde-8d93-6b676a6ea626",
   "metadata": {},
   "outputs": [],
   "source": [
    "example = get_data(2)"
   ]
  },
  {
   "cell_type": "code",
   "execution_count": 75,
   "id": "b985161c-b4ac-4caa-a971-7aac42f14eb9",
   "metadata": {},
   "outputs": [
    {
     "data": {
      "text/plain": [
       "dict_keys(['Press summary', 'Justices', 'Background to the appeal', 'Judgment', 'Reasons for the judgment'])"
      ]
     },
     "execution_count": 75,
     "metadata": {},
     "output_type": "execute_result"
    }
   ],
   "source": [
    "example[0]['press summary'].keys()"
   ]
  },
  {
   "cell_type": "code",
   "execution_count": null,
   "id": "e441ccf4-9d7c-4ac9-b51a-1e3a7c8d5010",
   "metadata": {},
   "outputs": [],
   "source": []
  }
 ],
 "metadata": {
  "kernelspec": {
   "display_name": "Python 3 (ipykernel)",
   "language": "python",
   "name": "python3"
  },
  "language_info": {
   "codemirror_mode": {
    "name": "ipython",
    "version": 3
   },
   "file_extension": ".py",
   "mimetype": "text/x-python",
   "name": "python",
   "nbconvert_exporter": "python",
   "pygments_lexer": "ipython3",
   "version": "3.10.2"
  }
 },
 "nbformat": 4,
 "nbformat_minor": 5
}
