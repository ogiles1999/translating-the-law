{
 "cells": [
  {
   "cell_type": "code",
   "execution_count": 37,
   "id": "907864f4",
   "metadata": {},
   "outputs": [],
   "source": [
    "import requests\n",
    "from bs4 import BeautifulSoup"
   ]
  },
  {
   "cell_type": "markdown",
   "id": "42068c1b",
   "metadata": {
    "heading_collapsed": true
   },
   "source": [
    "# 29 April 2020 - present"
   ]
  },
  {
   "cell_type": "markdown",
   "id": "053c2b50",
   "metadata": {
    "hidden": true
   },
   "source": [
    "this works for all* 2022 cases\n",
    "\n",
    "*MOST -- some 2022 cases have the same problem as below (Akdogan, PWR, Bloomberg)\n",
    "\n",
    "for 2020/2021 cases, the problem is just multiple p tags for the issue and fact h4 tags--need to address this so the dictionary doesn't get messed up. should work otherwise"
   ]
  },
  {
   "cell_type": "code",
   "execution_count": 108,
   "id": "7c1992d0",
   "metadata": {
    "hidden": true
   },
   "outputs": [],
   "source": [
    "response = requests.get('https://www.supremecourt.uk/cases/uksc-2021-0160.html')\n",
    "soup = BeautifulSoup(response.content, \"html.parser\")"
   ]
  },
  {
   "cell_type": "code",
   "execution_count": 109,
   "id": "14353291",
   "metadata": {
    "hidden": true,
    "scrolled": true
   },
   "outputs": [
    {
     "data": {
      "text/plain": [
       "{'Issue': 'Did the Supreme Court wrongly decide that Mr Crosland’s disclosure of the result of the Heathrow appeal, in breach of an embargo on the Court’s judgment, constituted a contempt of court? Did the Court then wrongly impose a fine of £5,000 on Mr Crosland, and wrongly order him to pay the Attorney General’s costs in the sum of £15,000?',\n",
       " 'Facts': 'On 7 and 8 October 2020, the Supreme Court heard an appeal in the case of R (Friends of the Earth Ltd and others) v Heathrow Airport Limited [2020] UKSC 53 (\"the Heathrow appeal\"). Mr Timothy Crosland, an unregistered barrister, represented the charity Plan B Earth in those proceedings, in his capacity as a director of Plan B Earth.',\n",
       " 'Appellant(s)': 'On 9 December 2020, a copy of the Supreme Court’s draft judgment was circulated to the parties’ representatives, to enable them to make suggestions for the correction of any errors, to prepare submissions on consequential matters, and to prepare themselves for the publication of the judgment. It was stated on the draft judgment, and in a covering email, that the draft was strictly confidential. Nonetheless, on 15 December 2020, the day before the judgment was due to be made public, Mr Crosland sent an email to the Press Association containing a statement in which he disclosed the outcome of the appeal. The statement was also published on Plan B Earth’s Twitter account. These disclosures led to the publication of the outcome of the Heathrow appeal in the national media and on Twitter on 15-16 December, prior to the judgment being delivered at 9:45am on 16 December 2020. ',\n",
       " 'Respondent(s)': 'Lord Reed, the President of the Supreme Court, referred this matter to the Attorney General on 17 December 2020. On 12 February 2021, the Attorney General applied to the Supreme Court to have Mr Crosland committed for contempt of court.',\n",
       " 'Justices': 'On 10 May 2021, the Attorney General’s application was heard by three Justices of the Supreme Court, none of whom were involved in the Heathrow appeal. They found that Mr Crosland’s conduct constituted a criminal contempt of court and imposed a fine of £5,000. They also ordered Mr Crosland to pay the Attorney General’s costs in the sum of £15,000.',\n",
       " 'Hearing start date': 'Mr Crossland now appeals against the finding of contempt, the imposition of the fine, and the award of costs.',\n",
       " 'Hearing finish date': 'Timothy John Edward Crosland',\n",
       " 'Judgment date': \"Her Majesty's Attorney General \",\n",
       " 'Neutral citation': 'Lord Briggs, Lady Arden, Lord Kitchin, Lord Burrows, Lady Rose',\n",
       " 'Name': 'Her Majesty’s Attorney General (Respondent) v Crosland (Appellant)',\n",
       " 'Case ID': '2021/0160'}"
      ]
     },
     "execution_count": 109,
     "metadata": {},
     "output_type": "execute_result"
    }
   ],
   "source": [
    "case_details = []\n",
    "for detail in soup.find_all(\"div\", class_=\"panel-filled\"): \n",
    "    case_name = detail.find(\"span\").string\n",
    "    case_id = detail.find(\"h3\", class_=\"sc-access\").string\n",
    "    case_id = case_id.replace('Case ID: ', '')\n",
    "    keys = []\n",
    "    for d in detail.find_all(\"h4\"):\n",
    "        key = d.string\n",
    "        keys.append(key)\n",
    "    values = []\n",
    "    for d in detail.find_all(\"p\"):\n",
    "        value = d.string\n",
    "        values.append(value)\n",
    "    case_details.append({'Name': case_name, 'Case ID': case_id, 'Keys': keys, 'Values': values})\n",
    "    case_details = case_details[0]\n",
    "\n",
    "case_dict = {case_details['Keys'][i]: case_details['Values'][i] for i in range(len(case_details['Keys']))}\n",
    "case_dict['Name'] = case_details['Name']\n",
    "case_dict['Case ID'] = case_details['Case ID']\n",
    "case_dict"
   ]
  },
  {
   "cell_type": "markdown",
   "id": "3e62f4ff",
   "metadata": {
    "heading_collapsed": true
   },
   "source": [
    "# 13 March 2019 - April 1 2020"
   ]
  },
  {
   "cell_type": "markdown",
   "id": "0811a327",
   "metadata": {
    "hidden": true
   },
   "source": [
    "this works for ALL cases 13 March 2019 - April 1 2020\n",
    "\n",
    "\n",
    "WORKS FOR \"R v Chaytor and others (Appellants)\" 01 DEC 2010\n",
    "WORKS FOR \"Greater Glasgow Health Board...\" 17 DEC 2014"
   ]
  },
  {
   "cell_type": "code",
   "execution_count": 237,
   "id": "ba05b345",
   "metadata": {
    "hidden": true
   },
   "outputs": [],
   "source": [
    "response = requests.get('https://www.supremecourt.uk/cases/uksc-2013-0124.html')\n",
    "soup = BeautifulSoup(response.content, \"html.parser\")"
   ]
  },
  {
   "cell_type": "code",
   "execution_count": 238,
   "id": "bf264ef7",
   "metadata": {
    "hidden": true
   },
   "outputs": [
    {
     "data": {
      "text/plain": [
       "{'Judgment date': '17 Dec 2014',\n",
       " 'Neutral citation number': '[2014] UKSC 68',\n",
       " 'Case ID': 'UKSC 2013/0124',\n",
       " 'Justices': 'Lady Hale, Lord Wilson, Lord Reed, Lord Hughes, Lord Hodge',\n",
       " 'Name': 'Greater Glasgow Health Board (Appellant) v Doogan and another (Respondents) (Scotland)'}"
      ]
     },
     "execution_count": 238,
     "metadata": {},
     "output_type": "execute_result"
    }
   ],
   "source": [
    "case_details = []\n",
    "for detail in soup.find_all(\"div\", class_=\"panel-filled\"):\n",
    "    case_name = detail.find(\"span\").string\n",
    "    keys = []\n",
    "    for d in detail.find_all(\"h3\", class_=\"sc-access\"):\n",
    "        key = d.string\n",
    "        keys.append(key)\n",
    "    values = []\n",
    "    for d in detail.find_all(\"p\"):\n",
    "        value = d.string\n",
    "        values.append(value)\n",
    "    case_details.append({'Name': case_name, 'Keys': keys, 'Values': values})\n",
    "    case_details = case_details[0]\n",
    "\n",
    "case_dict = {case_details['Keys'][i]: case_details['Values'][i] for i in range(4)}\n",
    "case_dict['Name'] = case_details['Name']\n",
    "case_dict"
   ]
  },
  {
   "cell_type": "markdown",
   "id": "91ece726",
   "metadata": {
    "heading_collapsed": true
   },
   "source": [
    "# 29 October 2009 - 6 March 2019"
   ]
  },
  {
   "cell_type": "markdown",
   "id": "1d377f6e",
   "metadata": {
    "hidden": true
   },
   "source": [
    "works from October 2009 (first case) - 6 March 2019\n",
    "\n",
    "EXCEPT DEC 2014 -- Loveridge Appellant, Greater Glasgow  **New function for this one defined below**\n",
    "\n",
    "EXCEPT DEC 2012 -- Spiller and other, R v Chaytor **New function for this one defined below**\n",
    "\n",
    "EXCEPT cases with three citation numbers (first three Jan 2010) "
   ]
  },
  {
   "cell_type": "code",
   "execution_count": 235,
   "id": "6aaf6610",
   "metadata": {
    "hidden": true
   },
   "outputs": [],
   "source": [
    "response = requests.get('https://www.supremecourt.uk/cases/uksc-2009-0129.html')\n",
    "soup = BeautifulSoup(response.content, \"html.parser\")"
   ]
  },
  {
   "cell_type": "code",
   "execution_count": 236,
   "id": "23af4d20",
   "metadata": {
    "hidden": true
   },
   "outputs": [
    {
     "data": {
      "text/plain": [
       "{'Judgment date': '10 Feb 2010',\n",
       " 'Neutral citation number': '[2010] UKSC 6',\n",
       " 'Case ID': 'UKSC 2009/0129',\n",
       " 'Justices': 'Lord Hope, Lord Rodger, Lord Walker, Lord Brown, Lord Kerr',\n",
       " 'Name': \"Allison (Appellant) v Her Majesty's Advocate (Respondent) (Scotland) \"}"
      ]
     },
     "execution_count": 236,
     "metadata": {},
     "output_type": "execute_result"
    }
   ],
   "source": [
    "case_details = []\n",
    "for detail in soup.find_all(\"div\", class_=\"panel-filled\"):\n",
    "    case_name = detail.find(\"span\").string\n",
    "    keys = []\n",
    "    for d in detail.find_all(\"h5\"):\n",
    "        key = d.string\n",
    "        keys.append(key)\n",
    "    values = []\n",
    "    for d in detail.find_all(\"p\"):\n",
    "        value = d.string\n",
    "        values.append(value)\n",
    "    case_details.append({'Name': case_name, 'Keys': keys, 'Values': values})\n",
    "    case_details = case_details[0]\n",
    "\n",
    "case_dict = {case_details['Keys'][i]: case_details['Values'][i] for i in range(4)}\n",
    "case_dict['Name'] = case_details['Name']\n",
    "case_dict"
   ]
  },
  {
   "cell_type": "markdown",
   "id": "050d8d9f",
   "metadata": {
    "heading_collapsed": true
   },
   "source": [
    "# 3 December 2014\n",
    "\n",
    "Loveridge (Appellant)"
   ]
  },
  {
   "cell_type": "code",
   "execution_count": 215,
   "id": "e67f56e9",
   "metadata": {
    "hidden": true
   },
   "outputs": [],
   "source": [
    "response = requests.get('https://www.supremecourt.uk/cases/uksc-2013-0273.html')\n",
    "soup = BeautifulSoup(response.content, \"html.parser\")"
   ]
  },
  {
   "cell_type": "code",
   "execution_count": 216,
   "id": "768fd433",
   "metadata": {
    "hidden": true
   },
   "outputs": [
    {
     "data": {
      "text/plain": [
       "{'Judgment date': '03 Dec 2014',\n",
       " 'Neutral citation number': '[2014] UKSC 65',\n",
       " 'Case ID': 'UKSC 2013/0273',\n",
       " 'Justices': 'Lord Neuberger, Lord Wilson, Lord Sumption, Lord Carnwath, Lord Toulson',\n",
       " 'Name': 'Loveridge (Appellant) v Mayor and Burgesses of the London Borough of Lambeth (Respondent) '}"
      ]
     },
     "execution_count": 216,
     "metadata": {},
     "output_type": "execute_result"
    }
   ],
   "source": [
    "case_details = []\n",
    "for detail in soup.find_all(\"div\", class_=\"panel-filled\"):\n",
    "    case_name = detail.find(\"span\").string\n",
    "    keys = ['Judgment date']\n",
    "    for d in detail.find_all(\"h4\"):\n",
    "        key = d.string\n",
    "        keys.append(key)\n",
    "    values = []\n",
    "    for d in detail.find_all(\"p\"):\n",
    "        value = d.string\n",
    "        values.append(value)\n",
    "    case_details.append({'Name': case_name, 'Keys': keys, 'Values': values})\n",
    "    case_details = case_details[0]\n",
    "\n",
    "case_dict = {case_details['Keys'][i]: case_details['Values'][i] for i in range(len(case_details['Values']))}\n",
    "case_dict['Name'] = case_details['Name']\n",
    "case_dict"
   ]
  },
  {
   "cell_type": "markdown",
   "id": "b5126737",
   "metadata": {
    "heading_collapsed": true
   },
   "source": [
    "# 01 December 2010\n",
    "\n",
    "Spiller and another (Appellant)"
   ]
  },
  {
   "cell_type": "code",
   "execution_count": 245,
   "id": "1c7e769b",
   "metadata": {
    "hidden": true
   },
   "outputs": [],
   "source": [
    "response = requests.get('https://www.supremecourt.uk/cases/uksc-2009-0210.html')\n",
    "soup = BeautifulSoup(response.content, \"html.parser\")"
   ]
  },
  {
   "cell_type": "code",
   "execution_count": 247,
   "id": "5986502a",
   "metadata": {
    "hidden": true
   },
   "outputs": [
    {
     "data": {
      "text/plain": [
       "{'Judgment date': '01 Dec 2010',\n",
       " 'Neutral citation number': '[2010] UKSC 53',\n",
       " 'Case ID': 'UKSC 2009/0210',\n",
       " 'Justices': 'Lord Phillips, Lord Rodger, Lord Walker, Lord Brown, Sir John Dyson',\n",
       " 'Name': 'Spiller and another (Appellants) v Joseph and others (Respondents)'}"
      ]
     },
     "execution_count": 247,
     "metadata": {},
     "output_type": "execute_result"
    }
   ],
   "source": [
    "case_details = []\n",
    "for detail in soup.find_all(\"div\", class_=\"panel-filled\"):\n",
    "    case_name = detail.find(\"h3\").string\n",
    "    keys = []\n",
    "    for d in detail.find_all(\"h5\"):\n",
    "        key = d.string\n",
    "        keys.append(key)\n",
    "    values = []\n",
    "    for d in detail.find_all(\"p\"):\n",
    "        value = d.string\n",
    "        values.append(value)\n",
    "    case_details.append({'Name': case_name, 'Keys': keys, 'Values': values})\n",
    "    case_details = case_details[0]\n",
    "\n",
    "case_dict = {case_details['Keys'][i]: case_details['Values'][i] for i in range(4)}\n",
    "case_dict['Name'] = case_details['Name']\n",
    "case_dict"
   ]
  },
  {
   "cell_type": "code",
   "execution_count": null,
   "id": "bc0d4967",
   "metadata": {
    "hidden": true
   },
   "outputs": [],
   "source": []
  }
 ],
 "metadata": {
  "kernelspec": {
   "display_name": "Python 3 (ipykernel)",
   "language": "python",
   "name": "python3"
  },
  "language_info": {
   "codemirror_mode": {
    "name": "ipython",
    "version": 3
   },
   "file_extension": ".py",
   "mimetype": "text/x-python",
   "name": "python",
   "nbconvert_exporter": "python",
   "pygments_lexer": "ipython3",
   "version": "3.8.12"
  },
  "toc": {
   "base_numbering": 1,
   "nav_menu": {},
   "number_sections": true,
   "sideBar": true,
   "skip_h1_title": false,
   "title_cell": "Table of Contents",
   "title_sidebar": "Contents",
   "toc_cell": false,
   "toc_position": {},
   "toc_section_display": true,
   "toc_window_display": false
  }
 },
 "nbformat": 4,
 "nbformat_minor": 5
}
