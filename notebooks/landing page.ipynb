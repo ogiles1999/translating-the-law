{
 "cells": [
  {
   "cell_type": "code",
   "execution_count": 32,
   "id": "907864f4",
   "metadata": {},
   "outputs": [],
   "source": [
    "import requests\n",
    "from bs4 import BeautifulSoup"
   ]
  },
  {
   "cell_type": "markdown",
   "id": "f66b2e74",
   "metadata": {},
   "source": [
    "# FYIs (still need fixing): "
   ]
  },
  {
   "cell_type": "markdown",
   "id": "30d31c5a",
   "metadata": {},
   "source": [
    "### name change for diff case IDs (older include UKSC)\n",
    "### name change for older citation #s (Neutral Citation v Neutral Citation Number v Neutral Citation Number(s)\n",
    "### recent cases with multipar issues/summaries"
   ]
  },
  {
   "cell_type": "markdown",
   "id": "e6aef2db",
   "metadata": {},
   "source": [
    "### FUNCTION todos: \n",
    "\n",
    "define each function & tweak to iterate over many pages (list of each dict output)\n",
    "combine into single script\n",
    "write main with elifs for NOT exceptions first \n",
    "concatenate each dictionary into single dataframe (two dataframes? one for more detail and one for larger \n",
    "\n",
    "write tests??? "
   ]
  },
  {
   "cell_type": "markdown",
   "id": "42068c1b",
   "metadata": {
    "heading_collapsed": true
   },
   "source": [
    "# 29 April 2020 - present"
   ]
  },
  {
   "cell_type": "markdown",
   "id": "053c2b50",
   "metadata": {
    "hidden": true
   },
   "source": [
    "this works for all* 2022 cases\n",
    "\n",
    "*MOST -- some 2022 cases have the same problem as below (Akdogan, PWR, Bloomberg)\n",
    "\n",
    "for 2020/2021 cases, the problem is just multiple p tags for the issue and fact h4 tags--need to address this so the dictionary doesn't get messed up. should work otherwise"
   ]
  },
  {
   "cell_type": "code",
   "execution_count": 54,
   "id": "7c1992d0",
   "metadata": {
    "hidden": true
   },
   "outputs": [],
   "source": [
    "response = requests.get('https://www.supremecourt.uk/cases/uksc-2020-0195.html')\n",
    "soup = BeautifulSoup(response.content, 'html.parser')"
   ]
  },
  {
   "cell_type": "code",
   "execution_count": 55,
   "id": "14353291",
   "metadata": {
    "hidden": true,
    "scrolled": true
   },
   "outputs": [
    {
     "data": {
      "text/plain": [
       "{'Issue': 'Whether the UK Government has recognised Interim President Guaido as Head of State of Venezuela and, if so, whether any challenge to the validity of Mr Guaido’s appointments to the Board of the Central Bank of Venezuela is justiciable in an English court.',\n",
       " 'Facts': None,\n",
       " 'Judgment appealed': '[2020] EWCA Civ 1249',\n",
       " 'Appellant(s)': '\"Guaidó Board\" of the Central Bank of Venezuela',\n",
       " 'Respondent(s)': ' \"Maduro Board\" of the Central Bank of Venezuela',\n",
       " 'Justices': 'Lord Reed, Lord Hodge, Lord Lloyd-Jones, Lord Hamblen, Lord Leggatt',\n",
       " 'Hearing start date': '19 July 2021',\n",
       " 'Hearing finish date': '22 July 2021 ',\n",
       " 'Judgment date': '20 December 2021',\n",
       " 'Neutral citation': '[2021] UKSC 57',\n",
       " 'Name': 'Maduro Board of the Central Bank of Venezuela (Respondent/Cross-Appellant) v Guaidó Board\" of the Central Bank of Venezuela (Appellant/Cross-Respondent)',\n",
       " 'Case ID': '2020/0195'}"
      ]
     },
     "execution_count": 55,
     "metadata": {},
     "output_type": "execute_result"
    }
   ],
   "source": [
    "case_details = []\n",
    "for detail in soup.find_all('div', class_='panel-filled'): \n",
    "    case_name = detail.find('span').string\n",
    "    case_id = detail.find('h3', class_='sc-access').string\n",
    "    case_id = case_id.replace('Case ID: ', '')\n",
    "    keys = []\n",
    "    for d in detail.find_all('h4'):\n",
    "        key = d.string\n",
    "        keys.append(key)\n",
    "    values = []\n",
    "    for d in detail.find_all('p'):\n",
    "        value = d.string\n",
    "        values.append(value)\n",
    "    case_details.append({'Keys': keys, 'Values': values})\n",
    "    case_details = case_details[0]\n",
    "\n",
    "case_dict = {case_details['Keys'][i]: case_details['Values'][i] for i in range(len(case_details['Keys']))}\n",
    "case_dict['Name'] = case_name\n",
    "case_dict['Case ID'] = case_id\n",
    "case_dict"
   ]
  },
  {
   "cell_type": "markdown",
   "id": "3e62f4ff",
   "metadata": {
    "heading_collapsed": true
   },
   "source": [
    "# 13 March 2019 - April 1 2020"
   ]
  },
  {
   "cell_type": "markdown",
   "id": "0811a327",
   "metadata": {
    "hidden": true
   },
   "source": [
    "this works for ALL cases 13 March 2019 - April 1 2020\n",
    "\n",
    "\n",
    "WORKS FOR \"R v Chaytor and others (Appellants)\" 01 DEC 2010\n",
    "WORKS FOR \"Greater Glasgow Health Board...\" 17 DEC 2014"
   ]
  },
  {
   "cell_type": "code",
   "execution_count": 52,
   "id": "ba05b345",
   "metadata": {
    "hidden": true
   },
   "outputs": [],
   "source": [
    "response = requests.get('https://www.supremecourt.uk/cases/uksc-2013-0124.html')\n",
    "soup = BeautifulSoup(response.content, 'html.parser')"
   ]
  },
  {
   "cell_type": "code",
   "execution_count": 53,
   "id": "bf264ef7",
   "metadata": {
    "hidden": true
   },
   "outputs": [
    {
     "data": {
      "text/plain": [
       "{'Judgment date': '17 Dec 2014',\n",
       " 'Neutral citation number': '[2014] UKSC 68',\n",
       " 'Case ID': 'UKSC 2013/0124',\n",
       " 'Justices': 'Lady Hale, Lord Wilson, Lord Reed, Lord Hughes, Lord Hodge',\n",
       " 'Name': 'Greater Glasgow Health Board (Appellant) v Doogan and another (Respondents) (Scotland)'}"
      ]
     },
     "execution_count": 53,
     "metadata": {},
     "output_type": "execute_result"
    }
   ],
   "source": [
    "case_details = []\n",
    "for detail in soup.find_all('div', class_='panel-filled'):\n",
    "    case_name = detail.find('span').string\n",
    "    keys = []\n",
    "    for d in detail.find_all('h3', class_='sc-access'):\n",
    "        key = d.string\n",
    "        keys.append(key)\n",
    "    values = []\n",
    "    for d in detail.find_all('p'):\n",
    "        value = d.string\n",
    "        values.append(value)\n",
    "    case_details.append({'Keys': keys, 'Values': values})\n",
    "    case_details = case_details[0]\n",
    "\n",
    "case_dict = {case_details['Keys'][i]: case_details['Values'][i] for i in range(4)}\n",
    "case_dict['Name'] = case_name\n",
    "case_dict"
   ]
  },
  {
   "cell_type": "markdown",
   "id": "91ece726",
   "metadata": {
    "heading_collapsed": true
   },
   "source": [
    "# 29 October 2009 - 6 March 2019"
   ]
  },
  {
   "cell_type": "markdown",
   "id": "1d377f6e",
   "metadata": {
    "hidden": true
   },
   "source": [
    "works from October 2009 (first case) - 6 March 2019\n",
    "\n",
    "EXCEPT DEC 2014 -- Loveridge Appellant, Greater Glasgow  **New function for this one defined below**\n",
    "\n",
    "EXCEPT DEC 2012 -- Spiller and other, R v Chaytor **New function for this one defined below**"
   ]
  },
  {
   "cell_type": "code",
   "execution_count": 57,
   "id": "6aaf6610",
   "metadata": {
    "hidden": true
   },
   "outputs": [],
   "source": [
    "response = requests.get('https://www.supremecourt.uk/cases/uksc-2009-0180.html')\n",
    "soup = BeautifulSoup(response.content, 'html.parser')"
   ]
  },
  {
   "cell_type": "code",
   "execution_count": 58,
   "id": "23af4d20",
   "metadata": {
    "hidden": true
   },
   "outputs": [
    {
     "data": {
      "text/plain": [
       "{'Judgment date': '09 Feb 2011 & 03 Nov 2010',\n",
       " 'Neutral citation number': '[2011] UKSC 6 & [2010] UKSC 45',\n",
       " 'Case ID': 'UKSC 2009/0180',\n",
       " 'Justices': 'Lord Phillips, Lord Hope, Lord Rodger, Lord Walker, Lady Hale, Lord Brown, Lord Mance, Lord Neuberger, Lord Collins',\n",
       " 'Name': 'Manchester City Council (Respondent) v Pinnock (Appellant)'}"
      ]
     },
     "execution_count": 58,
     "metadata": {},
     "output_type": "execute_result"
    }
   ],
   "source": [
    "case_details = []\n",
    "for detail in soup.find_all('div', class_='panel-filled'):\n",
    "    case_name = detail.find('span').string\n",
    "    keys = []\n",
    "    for d in detail.find_all('h5'):\n",
    "        key = d.string\n",
    "        keys.append(key)\n",
    "    values = []\n",
    "    for d in detail.find_all('p'):\n",
    "        value = d.string\n",
    "        values.append(value)\n",
    "    case_details.append({'Name': case_name, 'Keys': keys, 'Values': values})\n",
    "    case_details = case_details[0]\n",
    "\n",
    "case_dict = {case_details['Keys'][i]: case_details['Values'][i] for i in range(4)}\n",
    "case_dict['Name'] = case_details['Name']\n",
    "case_dict"
   ]
  },
  {
   "cell_type": "markdown",
   "id": "8e2bfada",
   "metadata": {
    "heading_collapsed": true
   },
   "source": [
    "# January 2010\n",
    "\n",
    "cases with MORE THAN two citation numbers (first three Jan 2010) "
   ]
  },
  {
   "cell_type": "code",
   "execution_count": 59,
   "id": "1d1fe072",
   "metadata": {
    "hidden": true
   },
   "outputs": [],
   "source": [
    "response = requests.get('https://www.supremecourt.uk/cases/uksc-2009-0016.html')\n",
    "soup = BeautifulSoup(response.content, 'html.parser')"
   ]
  },
  {
   "cell_type": "code",
   "execution_count": 60,
   "id": "5e0c9e06",
   "metadata": {
    "hidden": true
   },
   "outputs": [
    {
     "data": {
      "text/plain": [
       "{'Judgment date': '27 Jan 2010',\n",
       " 'Case ID': 'UKSC 2009/0016',\n",
       " 'Justices': 'Lord Phillips, Lord Hope, Lord Rodger, Lord Walker, Lady Hale, Lord Brown, Lord Mance',\n",
       " 'Neutral citation number(s)': '[2010] UKSC 1 & [2010] UKSC 2 & [2010] UKSC 5',\n",
       " 'Name': \"Her Majesty's Treasury (Respondents) v Mohammed Jabar Ahmed and others (FC) (Appellants) \"}"
      ]
     },
     "execution_count": 60,
     "metadata": {},
     "output_type": "execute_result"
    }
   ],
   "source": [
    "case_details = []\n",
    "for detail in soup.find_all('div', class_='panel-filled'):\n",
    "    case_name = detail.find('span').string\n",
    "    keys = []\n",
    "    for d in detail.find_all('h5'):\n",
    "        key = d.string\n",
    "        keys.append(key)\n",
    "    keys.remove('Neutral citation number(s)')\n",
    "    values = []\n",
    "    for d in detail.find_all('p'):\n",
    "        value = d.string\n",
    "        values.append(value)\n",
    "    citations = []\n",
    "    for d in detail.find('ul'):\n",
    "        cit = d.string\n",
    "        citations.append(cit)\n",
    "    citations = [citation for citation in citations if citation != '\\n']\n",
    "    citations = ' & '.join(citations)\n",
    "    case_details.append({'Keys': keys, 'Values': values})\n",
    "    case_details = case_details[0]\n",
    "    \n",
    "case_dict = {test_details['Keys'][i]: test_details['Values'][i] for i in range(3)}\n",
    "case_dict['Neutral citation number(s)'] = citations\n",
    "case_dict['Name'] = case_name\n",
    "case_dict"
   ]
  },
  {
   "cell_type": "markdown",
   "id": "050d8d9f",
   "metadata": {
    "heading_collapsed": true
   },
   "source": [
    "# 3 December 2014\n",
    "\n",
    "Loveridge (Appellant)"
   ]
  },
  {
   "cell_type": "code",
   "execution_count": 61,
   "id": "e67f56e9",
   "metadata": {
    "hidden": true
   },
   "outputs": [],
   "source": [
    "response = requests.get('https://www.supremecourt.uk/cases/uksc-2013-0273.html')\n",
    "soup = BeautifulSoup(response.content, 'html.parser')"
   ]
  },
  {
   "cell_type": "code",
   "execution_count": 62,
   "id": "768fd433",
   "metadata": {
    "hidden": true
   },
   "outputs": [
    {
     "data": {
      "text/plain": [
       "{'Judgment date': '03 Dec 2014',\n",
       " 'Neutral citation number': '[2014] UKSC 65',\n",
       " 'Case ID': 'UKSC 2013/0273',\n",
       " 'Justices': 'Lord Neuberger, Lord Wilson, Lord Sumption, Lord Carnwath, Lord Toulson',\n",
       " 'Name': 'Loveridge (Appellant) v Mayor and Burgesses of the London Borough of Lambeth (Respondent) '}"
      ]
     },
     "execution_count": 62,
     "metadata": {},
     "output_type": "execute_result"
    }
   ],
   "source": [
    "case_details = []\n",
    "for detail in soup.find_all('div', class_='panel-filled'):\n",
    "    case_name = detail.find('span').string\n",
    "    keys = ['Judgment date']\n",
    "    for d in detail.find_all('h4'):\n",
    "        key = d.string\n",
    "        keys.append(key)\n",
    "    values = []\n",
    "    for d in detail.find_all('p'):\n",
    "        value = d.string\n",
    "        values.append(value)\n",
    "    case_details.append({'Name': case_name, 'Keys': keys, 'Values': values})\n",
    "    case_details = case_details[0]\n",
    "\n",
    "case_dict = {case_details['Keys'][i]: case_details['Values'][i] for i in range(len(case_details['Values']))}\n",
    "case_dict['Name'] = case_details['Name']\n",
    "case_dict"
   ]
  },
  {
   "cell_type": "markdown",
   "id": "b5126737",
   "metadata": {
    "heading_collapsed": true
   },
   "source": [
    "# 01 December 2010\n",
    "\n",
    "Spiller and another (Appellant)"
   ]
  },
  {
   "cell_type": "code",
   "execution_count": 63,
   "id": "1c7e769b",
   "metadata": {
    "hidden": true
   },
   "outputs": [],
   "source": [
    "response = requests.get('https://www.supremecourt.uk/cases/uksc-2009-0210.html')\n",
    "soup = BeautifulSoup(response.content, 'html.parser')"
   ]
  },
  {
   "cell_type": "code",
   "execution_count": 64,
   "id": "5986502a",
   "metadata": {
    "hidden": true
   },
   "outputs": [
    {
     "data": {
      "text/plain": [
       "{'Judgment date': '01 Dec 2010',\n",
       " 'Neutral citation number': '[2010] UKSC 53',\n",
       " 'Case ID': 'UKSC 2009/0210',\n",
       " 'Justices': 'Lord Phillips, Lord Rodger, Lord Walker, Lord Brown, Sir John Dyson',\n",
       " 'Name': 'Spiller and another (Appellants) v Joseph and others (Respondents)'}"
      ]
     },
     "execution_count": 64,
     "metadata": {},
     "output_type": "execute_result"
    }
   ],
   "source": [
    "case_details = []\n",
    "for detail in soup.find_all('div', class_='panel-filled'):\n",
    "    case_name = detail.find('h3').string\n",
    "    keys = []\n",
    "    for d in detail.find_all('h5'):\n",
    "        key = d.string\n",
    "        keys.append(key)\n",
    "    values = []\n",
    "    for d in detail.find_all('p'):\n",
    "        value = d.string\n",
    "        values.append(value)\n",
    "    case_details.append({'Name': case_name, 'Keys': keys, 'Values': values})\n",
    "    case_details = case_details[0]\n",
    "\n",
    "case_dict = {case_details['Keys'][i]: case_details['Values'][i] for i in range(4)}\n",
    "case_dict['Name'] = case_details['Name']\n",
    "case_dict"
   ]
  }
 ],
 "metadata": {
  "kernelspec": {
   "display_name": "Python 3 (ipykernel)",
   "language": "python",
   "name": "python3"
  },
  "language_info": {
   "codemirror_mode": {
    "name": "ipython",
    "version": 3
   },
   "file_extension": ".py",
   "mimetype": "text/x-python",
   "name": "python",
   "nbconvert_exporter": "python",
   "pygments_lexer": "ipython3",
   "version": "3.8.12"
  },
  "toc": {
   "base_numbering": 1,
   "nav_menu": {},
   "number_sections": true,
   "sideBar": true,
   "skip_h1_title": false,
   "title_cell": "Table of Contents",
   "title_sidebar": "Contents",
   "toc_cell": false,
   "toc_position": {},
   "toc_section_display": true,
   "toc_window_display": false
  }
 },
 "nbformat": 4,
 "nbformat_minor": 5
}
