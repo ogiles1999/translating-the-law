{
 "cells": [
  {
   "cell_type": "code",
   "execution_count": 1,
   "id": "907864f4",
   "metadata": {},
   "outputs": [],
   "source": [
    "import requests\n",
    "from bs4 import BeautifulSoup"
   ]
  },
  {
   "cell_type": "markdown",
   "id": "60d41872",
   "metadata": {},
   "source": [
    "# - FYIs (still need fixing): "
   ]
  },
  {
   "cell_type": "markdown",
   "id": "bcbece58",
   "metadata": {},
   "source": [
    "### name change for diff case IDs (older include UKSC) \n",
    "I think this can be fixed in preprocessing "
   ]
  },
  {
   "cell_type": "markdown",
   "id": "b85ec1ba",
   "metadata": {},
   "source": [
    "### FUNCTION todos: \n",
    "\n",
    "write tests??? \n",
    "\n",
    "incorporate into main script\n",
    "\n",
    "optional: find a place/purpose for func1_alt"
   ]
  },
  {
   "cell_type": "markdown",
   "id": "1a039060",
   "metadata": {
    "heading_collapsed": true
   },
   "source": [
    "# MAIN??"
   ]
  },
  {
   "cell_type": "code",
   "execution_count": 172,
   "id": "aa9aaaf7",
   "metadata": {
    "hidden": true
   },
   "outputs": [],
   "source": [
    "def fix_date(date):\n",
    "    months = {'January': '01', 'February': '02', 'March': '03', 'April': '04', 'May': '05', 'June': '06', \n",
    "              'July': '07', 'August': '08', 'September': '09', 'October': '10', 'November': '11', 'December': '12',\n",
    "              'Jan': '01', 'Feb': '02', 'Mar': '03', 'Apr': '04', 'May': '05', 'Jun': '06', \n",
    "              'Jul': '07', 'Aug': '08', 'Sep': '09', 'Oct': '10', 'Nov': '11', 'Dec': '12'}\n",
    "    if len(date) <= 17:\n",
    "        return(f'{months[date[3:-5]]}/{date[:2]}/{date[-4:]}')\n",
    "    else: \n",
    "        return(f'{months[date[3:6]]}/{date[:2]}/{date[7:11]}')"
   ]
  },
  {
   "cell_type": "code",
   "execution_count": 150,
   "id": "49fea7fe",
   "metadata": {
    "hidden": true
   },
   "outputs": [
    {
     "name": "stdout",
     "output_type": "stream",
     "text": [
      "02/09/2011\n"
     ]
    }
   ],
   "source": [
    "strips = list(soup.stripped_strings)\n",
    "if 'Judgment date' in strips:\n",
    "    datedex = strips.index('Judgment date') + 1\n",
    "date = strips[datedex]\n",
    "\n",
    "print(fix_date(date))"
   ]
  },
  {
   "cell_type": "code",
   "execution_count": 180,
   "id": "50374de8",
   "metadata": {
    "hidden": true
   },
   "outputs": [],
   "source": [
    "def landing_to_dict(case):\n",
    "    url = f'https://www.supremecourt.uk/cases/{case}.html'\n",
    "    html = requests.get(url).content\n",
    "    soup = BeautifulSoup(html, 'html.parser')\n",
    "\n",
    "    strips = list(soup.stripped_strings)\n",
    "    datedex = strips.index('Judgment date') + 1\n",
    "    date = strips[datedex]\n",
    "    new_date = fix_date(date)\n",
    "\n",
    "    if case != 'uksc-2013-0124' and case != 'uksc-2010-0195' and case != 'uksc-2009-0016' \\\n",
    "    and case != 'uksc-2009-0018' and case != 'uksc-2009-0015' and case != 'uksc-2013-0273' \\\n",
    "    and case != 'uksc-2009-0210':\n",
    "        if new_date >= '04/29/2019': \n",
    "            case_dict = func1(soup)\n",
    "        elif new_date >= '03/01/2019': \n",
    "            case_dict = func2(soup)\n",
    "        elif new_date >= '10/29/2019':\n",
    "            case_dict = func3(soup)\n",
    "    elif case == 'uksc-2013-0124' or case == 'uksc-2010-0195':\n",
    "        case_dict = func2(soup)\n",
    "    elif case == 'uksc-2009-0016' or case == 'uksc-2009-0018' or case == 'uksc-2009-0015':\n",
    "        case_dict = func4(soup)\n",
    "    elif case == 'uksc-2013-0273':\n",
    "        case_dict = func5(soup)\n",
    "    elif case == 'uksc-2009-0210':\n",
    "        case_dict = func6(soup)\n",
    "    \n",
    "    case_dict['URL'] = url\n",
    "    return case_dict"
   ]
  },
  {
   "cell_type": "markdown",
   "id": "42068c1b",
   "metadata": {
    "heading_collapsed": true
   },
   "source": [
    "# - 29 April 2020 - present (func1)\n",
    "\n",
    "this works for ALL 2020(april)-2022 cases"
   ]
  },
  {
   "cell_type": "code",
   "execution_count": 2,
   "id": "7c1992d0",
   "metadata": {
    "hidden": true
   },
   "outputs": [],
   "source": [
    "response = requests.get('https://www.supremecourt.uk/cases/uksc-2020-0066.html')\n",
    "soup = BeautifulSoup(response.content, 'html.parser')"
   ]
  },
  {
   "cell_type": "code",
   "execution_count": 3,
   "id": "14353291",
   "metadata": {
    "hidden": true,
    "scrolled": true
   },
   "outputs": [],
   "source": [
    "def func1(soup):\n",
    "    case_details = []\n",
    "    for detail in soup.find_all('div', class_='panel-filled'): \n",
    "        case_name = detail.find('span').string\n",
    "        case_id = detail.find('h3', class_='sc-access').string\n",
    "        case_id = case_id.replace('Case ID: ', '')\n",
    "        strips = list(soup.stripped_strings)\n",
    "        if 'Issue' in strips:\n",
    "            issues = strips.index('Issue')\n",
    "        else: \n",
    "            issues = strips.index('Issue(s)')\n",
    "        facts = strips.index('Facts')\n",
    "        judgment = strips.index('Judgment appealed')\n",
    "        issues_string = ''.join(strips[issues+1:facts])\n",
    "        facts_string = ''.join(strips[facts+1:judgment])\n",
    "        keys = []\n",
    "        for d in detail.find_all('h4'):\n",
    "            key = d.string\n",
    "            keys.append(key)\n",
    "        values = []\n",
    "        for d in detail.find_all('p'):\n",
    "            value = d.string\n",
    "            values.append(value)\n",
    "        case_details.append({'Keys': keys [-8:], 'Values': values[-8:]})\n",
    "        case_details.append({'Keys': keys, 'Values': values})\n",
    "        case_details = case_details[0]\n",
    "    \n",
    "    case_dict = {case_details['Keys'][i]: case_details['Values'][i] for i in range(len(case_details['Keys']))}\n",
    "    match_dict = {}\n",
    "    match_dict['Judgment date'] = case_dict['Judgment date']\n",
    "    match_dict['Neutral citation number'] = case_dict['Neutral citation']\n",
    "    match_dict['Case ID'] = case_id\n",
    "    match_dict['Justices'] = case_dict['Justices']\n",
    "    match_dict['Name'] = case_name\n",
    "    return match_dict"
   ]
  },
  {
   "cell_type": "code",
   "execution_count": 4,
   "id": "cae3f2f6",
   "metadata": {
    "hidden": true
   },
   "outputs": [
    {
     "data": {
      "text/plain": [
       "{'Judgment date': '12 January 2022',\n",
       " 'Neutral citation number': '[2022] UKSC 1',\n",
       " 'Case ID': '2020/0066',\n",
       " 'Justices': 'Lord Briggs, Lord Sales, Lord Leggatt, Lord Burrows, Lady Rose',\n",
       " 'Name': 'FirstPort Property Services Ltd (Appellant) v Settlers Court RTM Company and others (Respondents)'}"
      ]
     },
     "execution_count": 4,
     "metadata": {},
     "output_type": "execute_result"
    }
   ],
   "source": [
    "func1(soup)"
   ]
  },
  {
   "cell_type": "code",
   "execution_count": 5,
   "id": "0774bc8f",
   "metadata": {
    "hidden": true
   },
   "outputs": [],
   "source": [
    "def func1_alt(soup):\n",
    "    case_details = []\n",
    "    for detail in soup.find_all('div', class_='panel-filled'): \n",
    "        case_name = detail.find('span').string\n",
    "        case_id = detail.find('h3', class_='sc-access').string\n",
    "        case_id = case_id.replace('Case ID: ', '')\n",
    "        strips = list(soup.stripped_strings)\n",
    "        if 'Issue' in strips:\n",
    "            issues = strips.index('Issue')\n",
    "        else: \n",
    "            issues = strips.index(\"Issue(s)\")\n",
    "        facts = strips.index('Facts')\n",
    "        judgment = strips.index('Judgment appealed')\n",
    "        issues_string = ''.join(strips[issues+1:facts])\n",
    "        facts_string = ''.join(strips[facts+1:judgment])\n",
    "        keys = []\n",
    "        for d in detail.find_all('h4'):\n",
    "            key = d.string\n",
    "            keys.append(key)\n",
    "        values = []\n",
    "        for d in detail.find_all('p'):\n",
    "            value = d.string\n",
    "            values.append(value)\n",
    "        case_details.append({'Keys': keys [-8:], 'Values': values[-8:]})\n",
    "        case_details.append({'Keys': keys, 'Values': values})\n",
    "        case_details = case_details[0]\n",
    "    \n",
    "    case_dict = {case_details['Keys'][i]: case_details['Values'][i] for i in range(len(case_details['Keys']))}\n",
    "    case_dict['Name'] = case_name\n",
    "    case_dict['Case ID'] = case_id\n",
    "    case_dict['Issues'] = issues_string\n",
    "    case_dict['Facts'] = facts_string\n",
    "    return case_dict"
   ]
  },
  {
   "cell_type": "code",
   "execution_count": 6,
   "id": "5fc216d3",
   "metadata": {
    "hidden": true
   },
   "outputs": [
    {
     "data": {
      "text/plain": [
       "{'Appellant(s)': 'FirstPort Property Services Ltd',\n",
       " 'Respondent(s)': ' Settlers Court RTM Company and Others',\n",
       " 'Intervener ': 'Association of Residential Managing Agents',\n",
       " 'Justices': 'Lord Briggs, Lord Sales, Lord Leggatt, Lord Burrows, Lady Rose',\n",
       " 'Hearing start date': '10 November 2021',\n",
       " 'Hearing finish date': '11 November 2021 ',\n",
       " 'Judgment date': '12 January 2022',\n",
       " 'Neutral citation': '[2022] UKSC 1',\n",
       " 'Name': 'FirstPort Property Services Ltd (Appellant) v Settlers Court RTM Company and others (Respondents)',\n",
       " 'Case ID': '2020/0066',\n",
       " 'Issues': 'Where a company incorporated by leaseholders in a block of flats acquires the right to manage the block under the Commonhold and Leasehold Reform Act 2002 (\"the Act\"), and the leaseholders also enjoy rights over the estate in which the block is situated, does the company only acquire the right to manage the block itself, or does it also acquire the right to manage the rest of the estate?',\n",
       " 'Facts': 'The Appellant (\"FirstPort\") is a company which manages an estate in East London containing ten blocks of flats.  The Second to Fourteenth Respondents are leaseholders of flats in one of the blocks, \"Settlers Court\", with rights to access the estate’s communal areas.  FirstPort provides services on the estate, including maintenance of the communal areas, for which it is entitled to levy an estate service charge.  Through the \"right-to-manage\" regime in the Act, the First Respondent, a company established by the Settlers Court leaseholders (\"the RTM Company\"), acquired the right to manage the block and took on responsibility for providing services in relation to the block itself.  A dispute then arose as to whether the leaseholders continued to be obliged to pay the estate service charge to FirstPort.  On an application by the RTM Company, the First-Tier Tribunal determined that it was bound to hold that the company had acquired the right to manage the estate and that the leaseholders had no obligation to pay the estate service charge.  The Upper Tribunal dismissed FirstPort’s subsequent appeal but issued a \"leapfrog\" certificate enabling it to apply for permission to appeal to the Supreme Court.'}"
      ]
     },
     "execution_count": 6,
     "metadata": {},
     "output_type": "execute_result"
    }
   ],
   "source": [
    "func1_alt(soup)"
   ]
  },
  {
   "cell_type": "markdown",
   "id": "3e62f4ff",
   "metadata": {
    "heading_collapsed": true
   },
   "source": [
    "# - 01 March 2019 - 01 April 2020 (func2)\n",
    "\n",
    "this works for ALL cases 13 March 2019 - April 1 2020\n",
    "\n",
    "\n",
    "WORKS FOR \"R v Chaytor and others (Appellants)\" 01 DEC 2010\n",
    "**uksc-2010-0195**\n",
    "\n",
    "WORKS FOR \"Greater Glasgow Health Board...\" 17 DEC 2014\n",
    "**uksc-2013-0124**"
   ]
  },
  {
   "cell_type": "code",
   "execution_count": 30,
   "id": "ba05b345",
   "metadata": {
    "hidden": true
   },
   "outputs": [],
   "source": [
    "response = requests.get('https://www.supremecourt.uk/cases/uksc-2017-0003.html')\n",
    "soup = BeautifulSoup(response.content, 'html.parser')"
   ]
  },
  {
   "cell_type": "code",
   "execution_count": 28,
   "id": "bf264ef7",
   "metadata": {
    "hidden": true
   },
   "outputs": [],
   "source": [
    "def func2(soup):\n",
    "    case_details = []\n",
    "    for detail in soup.find_all('div', class_='panel-filled'):\n",
    "        case_name = detail.find('span').string\n",
    "        keys = []\n",
    "        for d in detail.find_all('h3', class_='sc-access'):\n",
    "            key = d.string\n",
    "            keys.append(key)\n",
    "        values = []\n",
    "        for d in detail.find_all('p'):\n",
    "            value = d.string\n",
    "            values.append(value)\n",
    "        case_details.append({'Keys': keys, 'Values': values})\n",
    "        case_details = case_details[0]\n",
    "\n",
    "    case_dict = {case_details['Keys'][i]: case_details['Values'][i] for i in range(4)}\n",
    "    case_dict['Name'] = case_name\n",
    "    return case_dict"
   ]
  },
  {
   "cell_type": "code",
   "execution_count": 31,
   "id": "5d74842b",
   "metadata": {
    "hidden": true
   },
   "outputs": [
    {
     "data": {
      "text/plain": [
       "{'Judgment date': '25 Jul 2018',\n",
       " 'Neutral citation number': '[2018] UKSC 40',\n",
       " 'Case ID': 'UKSC 2017/0003',\n",
       " 'Justices': 'Lady Hale, Lord Mance, Lord Kerr, Lord Wilson, Lord Lloyd-Jones',\n",
       " 'Name': 'James-Bowen and others (Respondents) v Commissioner of Police of the Metropolis (Appellant)'}"
      ]
     },
     "execution_count": 31,
     "metadata": {},
     "output_type": "execute_result"
    }
   ],
   "source": [
    "func2(soup)"
   ]
  },
  {
   "cell_type": "markdown",
   "id": "91ece726",
   "metadata": {
    "heading_collapsed": true
   },
   "source": [
    "# - 29 October 2009 - 06 March 2019 (func3)\n",
    "\n",
    "works from October 2009 (first case) - 6 March 2019"
   ]
  },
  {
   "cell_type": "code",
   "execution_count": 35,
   "id": "6aaf6610",
   "metadata": {
    "hidden": true
   },
   "outputs": [],
   "source": [
    "response = requests.get('https://www.supremecourt.uk/cases/uksc-2014-0255.html')\n",
    "soup = BeautifulSoup(response.content, 'html.parser')"
   ]
  },
  {
   "cell_type": "code",
   "execution_count": 41,
   "id": "23af4d20",
   "metadata": {
    "hidden": true
   },
   "outputs": [],
   "source": [
    "def func3(soup):\n",
    "    case_details = []\n",
    "    for detail in soup.find_all('div', class_='panel-filled'):\n",
    "        case_name = detail.find('span').string\n",
    "        keys = []\n",
    "        for d in detail.find_all('h5'):\n",
    "            key = d.string\n",
    "            keys.append(key)\n",
    "        values = []\n",
    "        for d in detail.find_all('p'):\n",
    "            value = d.string\n",
    "            values.append(value)\n",
    "        case_details.append({'Name': case_name, 'Keys': keys, 'Values': values})\n",
    "        case_details = case_details[0]\n",
    "\n",
    "    #case_dict = {case_details['Keys'][i]: case_details['Values'][i] for i in range(4)}\n",
    "    #case_dict['Name'] = case_details['Name']\n",
    "    return print(case_details['Keys'])"
   ]
  },
  {
   "cell_type": "code",
   "execution_count": 42,
   "id": "98ee56f6",
   "metadata": {
    "hidden": true
   },
   "outputs": [
    {
     "name": "stdout",
     "output_type": "stream",
     "text": [
      "[]\n"
     ]
    }
   ],
   "source": [
    "func3(soup)"
   ]
  },
  {
   "cell_type": "markdown",
   "id": "5c7bf3f8",
   "metadata": {
    "heading_collapsed": true
   },
   "source": [
    "# - January 2010 (func4)\n",
    "\n",
    "cases with MORE THAN two citation numbers (first three Jan 2010) \n",
    "\n",
    "**uksc-2009-0016**\n",
    "\n",
    "**uksc-2009-0018**\n",
    "\n",
    "**uksc-2009-0015**"
   ]
  },
  {
   "cell_type": "code",
   "execution_count": 13,
   "id": "46b1ac19",
   "metadata": {
    "hidden": true
   },
   "outputs": [],
   "source": [
    "response = requests.get('https://www.supremecourt.uk/cases/uksc-2009-0016.html')\n",
    "soup = BeautifulSoup(response.content, 'html.parser')"
   ]
  },
  {
   "cell_type": "code",
   "execution_count": 16,
   "id": "d8ed4c75",
   "metadata": {
    "hidden": true
   },
   "outputs": [],
   "source": [
    "def func4(soup):\n",
    "    case_details = []\n",
    "    for detail in soup.find_all('div', class_='panel-filled'):\n",
    "        case_name = detail.find('span').string\n",
    "        keys = []\n",
    "        for d in detail.find_all('h5'):\n",
    "            key = d.string\n",
    "            keys.append(key)\n",
    "        keys.remove('Neutral citation number(s)')\n",
    "        values = []\n",
    "        for d in detail.find_all('p'):\n",
    "            value = d.string\n",
    "            values.append(value)\n",
    "        citations = []\n",
    "        for d in detail.find('ul'):\n",
    "            cit = d.string\n",
    "            citations.append(cit)\n",
    "        citations = [citation for citation in citations if citation != '\\n']\n",
    "        citations = ' & '.join(citations)\n",
    "        case_details.append({'Keys': keys, 'Values': values})\n",
    "        case_details = case_details[0]\n",
    "\n",
    "    case_dict = {case_details['Keys'][i]: case_details['Values'][i] for i in range(3)}\n",
    "    case_dict['Neutral citation number'] = citations\n",
    "    case_dict['Name'] = case_name\n",
    "    return case_dict"
   ]
  },
  {
   "cell_type": "code",
   "execution_count": 17,
   "id": "375b4a5a",
   "metadata": {
    "hidden": true
   },
   "outputs": [
    {
     "data": {
      "text/plain": [
       "{'Judgment date': '27 Jan 2010',\n",
       " 'Case ID': 'UKSC 2009/0016',\n",
       " 'Justices': 'Lord Phillips, Lord Hope, Lord Rodger, Lord Walker, Lady Hale, Lord Brown, Lord Mance',\n",
       " 'Neutral citation number': '[2010] UKSC 1 & [2010] UKSC 2 & [2010] UKSC 5',\n",
       " 'Name': \"Her Majesty's Treasury (Respondents) v Mohammed Jabar Ahmed and others (FC) (Appellants) \"}"
      ]
     },
     "execution_count": 17,
     "metadata": {},
     "output_type": "execute_result"
    }
   ],
   "source": [
    "func4(soup)"
   ]
  },
  {
   "cell_type": "markdown",
   "id": "050d8d9f",
   "metadata": {
    "heading_collapsed": true
   },
   "source": [
    "# - 03 December 2014 (func5)\n",
    "\n",
    "Loveridge (Appellant) **uksc-2013-0273**"
   ]
  },
  {
   "cell_type": "code",
   "execution_count": 20,
   "id": "e67f56e9",
   "metadata": {
    "hidden": true
   },
   "outputs": [],
   "source": [
    "response = requests.get('https://www.supremecourt.uk/cases/uksc-2013-0273.html')\n",
    "soup = BeautifulSoup(response.content, 'html.parser')"
   ]
  },
  {
   "cell_type": "code",
   "execution_count": 22,
   "id": "768fd433",
   "metadata": {
    "hidden": true
   },
   "outputs": [],
   "source": [
    "def func5(soup):\n",
    "    case_details = []\n",
    "    for detail in soup.find_all('div', class_='panel-filled'):\n",
    "        case_name = detail.find('span').string\n",
    "        keys = ['Judgment date']\n",
    "        for d in detail.find_all('h4'):\n",
    "            key = d.string\n",
    "            keys.append(key)\n",
    "        values = []\n",
    "        for d in detail.find_all('p'):\n",
    "            value = d.string\n",
    "            values.append(value)\n",
    "        case_details.append({'Name': case_name, 'Keys': keys, 'Values': values})\n",
    "        case_details = case_details[0]\n",
    "\n",
    "    case_dict = {case_details['Keys'][i]: case_details['Values'][i] for i in range(len(case_details['Values']))}\n",
    "    case_dict['Name'] = case_details['Name']\n",
    "    return case_dict"
   ]
  },
  {
   "cell_type": "code",
   "execution_count": 23,
   "id": "c7cd5c2b",
   "metadata": {
    "hidden": true
   },
   "outputs": [
    {
     "data": {
      "text/plain": [
       "{'Judgment date': '03 Dec 2014',\n",
       " 'Neutral citation number': '[2014] UKSC 65',\n",
       " 'Case ID': 'UKSC 2013/0273',\n",
       " 'Justices': 'Lord Neuberger, Lord Wilson, Lord Sumption, Lord Carnwath, Lord Toulson',\n",
       " 'Name': 'Loveridge (Appellant) v Mayor and Burgesses of the London Borough of Lambeth (Respondent) '}"
      ]
     },
     "execution_count": 23,
     "metadata": {},
     "output_type": "execute_result"
    }
   ],
   "source": [
    "func5(soup)"
   ]
  },
  {
   "cell_type": "markdown",
   "id": "b5126737",
   "metadata": {
    "heading_collapsed": true
   },
   "source": [
    "# - 01 December 2010 (func6)\n",
    "\n",
    "Spiller and another (Appellant) **uksc-2009-0210**"
   ]
  },
  {
   "cell_type": "code",
   "execution_count": 24,
   "id": "1c7e769b",
   "metadata": {
    "hidden": true
   },
   "outputs": [],
   "source": [
    "response = requests.get('https://www.supremecourt.uk/cases/uksc-2009-0210.html')\n",
    "soup = BeautifulSoup(response.content, 'html.parser')"
   ]
  },
  {
   "cell_type": "code",
   "execution_count": 25,
   "id": "5986502a",
   "metadata": {
    "hidden": true
   },
   "outputs": [],
   "source": [
    "def func6(soup):\n",
    "    case_details = []\n",
    "    for detail in soup.find_all('div', class_='panel-filled'):\n",
    "        case_name = detail.find('h3').string\n",
    "        keys = []\n",
    "        for d in detail.find_all('h5'):\n",
    "            key = d.string\n",
    "            keys.append(key)\n",
    "        values = []\n",
    "        for d in detail.find_all('p'):\n",
    "            value = d.string\n",
    "            values.append(value)\n",
    "        case_details.append({'Name': case_name, 'Keys': keys, 'Values': values})\n",
    "        case_details = case_details[0]\n",
    "\n",
    "    case_dict = {case_details['Keys'][i]: case_details['Values'][i] for i in range(4)}\n",
    "    case_dict['Name'] = case_details['Name']\n",
    "    return case_dict"
   ]
  },
  {
   "cell_type": "code",
   "execution_count": 26,
   "id": "35465a8f",
   "metadata": {
    "hidden": true
   },
   "outputs": [
    {
     "data": {
      "text/plain": [
       "{'Judgment date': '01 Dec 2010',\n",
       " 'Neutral citation number': '[2010] UKSC 53',\n",
       " 'Case ID': 'UKSC 2009/0210',\n",
       " 'Justices': 'Lord Phillips, Lord Rodger, Lord Walker, Lord Brown, Sir John Dyson',\n",
       " 'Name': 'Spiller and another (Appellants) v Joseph and others (Respondents)'}"
      ]
     },
     "execution_count": 26,
     "metadata": {},
     "output_type": "execute_result"
    }
   ],
   "source": [
    "func6(soup)"
   ]
  },
  {
   "cell_type": "markdown",
   "id": "2dfb8a03",
   "metadata": {},
   "source": [
    "# Test - scraping multipar summaries"
   ]
  },
  {
   "cell_type": "code",
   "execution_count": 83,
   "id": "a3b79512",
   "metadata": {},
   "outputs": [
    {
     "name": "stdout",
     "output_type": "stream",
     "text": [
      "Mr Maduro was re-elected President of Venezuela in May 2018. Mr Guaido is the President of the National Assembly of Venezuela. Mr Guaido claims that the May 2018 election was flawed and that he is Interim President of Venezuela.Both parties have appointed different Boards to the Central Bank of Venezuela. These Boards have issued conflicting instructions concerning nearly US$1 billon of Venezuela’s international reserves, held in the Bank of England’s vaults, and approximately US$120 million held by court-appointed receivers on behalf of the Central Bank of Venezuela, following a payment from Deutsche Bank under a swap contract.The High Court ordered a trial to determine whether the Guaido Board or the Maduro Board had control over the disputed sums. The High Court found for the Guaido Board. The Maduro Board successfully appealed to the Court of Appeal. The Guaido Board now appeals to the Supreme Court.\n"
     ]
    }
   ],
   "source": [
    "url = \"https://www.supremecourt.uk/cases/uksc-2020-0195.html\"\n",
    "html = requests.get(url).content\n",
    "soup = BeautifulSoup(html,'html.parser')\n",
    "\n",
    "strips = list(soup.stripped_strings)\n",
    "if \"Issue\" in strips:\n",
    "    issues = strips.index(\"Issue\")\n",
    "else: \n",
    "    issues = strips.index(\"Issue(s)\")\n",
    "facts = strips.index('Facts')\n",
    "judgment = strips.index('Judgment appealed')\n",
    "\n",
    "issues_string = ''.join(strips[issues+1:facts])\n",
    "facts_string = ''.join(strips[facts+1:judgment])\n",
    "\n",
    "print(facts_string)"
   ]
  },
  {
   "cell_type": "code",
   "execution_count": 76,
   "id": "f4d3ce3a",
   "metadata": {},
   "outputs": [
    {
     "name": "stdout",
     "output_type": "stream",
     "text": [
      "['Maduro Board of the Central Bank of Venezuela (Respondent/Cross-Appellant) v Guaidó Board of the Central Bank of Venezuela (Appellant/Cross-Respondent) - The Supreme Court', 'Skip to Primary Navigation', 'Skip to Content', 'Go to the home page', 'Go to Latest news', 'Go to the sitemap page', 'Go to search', 'Go to the Decided cases', 'Go to the Current cases', 'Go to the Complaints Policies and Judicial Conduct', 'Go to the terms and conditions page', 'Go to the contact us page', 'Go to the accessibility statement page', 'Skip to main content', 'Home', 'Accessibility', 'Education', 'Press office', 'Contact us', 'FAQs', 'Careers', 'Cymraeg', 'Bookmark', 'Case details', 'Home', 'Current cases', 'Decided cases', 'Court procedures', 'Visiting The Court', 'About The Supreme Court', 'Latest', 'news', 'Current cases', 'Maduro Board of the Central Bank of Venezuela (Respondent/Cross-Appellant) v Guaidó Board\" of the Central Bank of Venezuela (Appellant/Cross-Respondent)', 'Case ID: 2020/0195', 'Case summary', 'Issue', 'Whether the UK Government has recognised Interim President Guaido as Head of State of Venezuela and, if so, whether any challenge to the validity of Mr Guaido’s appointments to the Board of the Central Bank of Venezuela is justiciable in an English court.', 'Facts', 'Mr Maduro was re-elected President of Venezuela in May 2018. Mr Guaido is the President of the National Assembly of Venezuela. Mr Guaido claims that the May 2018 election was flawed and that he is Interim President of Venezuela.', 'Both parties have appointed different Boards to the Central Bank of Venezuela. These Boards have issued conflicting instructions concerning nearly US$1 billon of Venezuela’s international reserves, held in the Bank of England’s vaults, and approximately US$120 million held by court-appointed receivers on behalf of the Central Bank of Venezuela, following a payment from Deutsche Bank under a swap contract.', 'The High Court ordered a trial to determine whether the Guaido Board or the Maduro Board had control over the disputed sums. The High Court found for the Guaido Board. The Maduro Board successfully appealed to the Court of Appeal. The Guaido Board now appeals to the Supreme Court.', 'Judgment appealed', '[2020] EWCA Civ 1249', 'Parties', 'Appellant(s)', '\"Guaidó Board\" of the Central Bank of Venezuela', 'Respondent(s)', '\"Maduro Board\" of the Central Bank of Venezuela', 'Appeal', 'Justices', 'Lord Reed, Lord Hodge, Lord Lloyd-Jones, Lord Hamblen, Lord Leggatt', 'Hearing start date', '19 July 2021', 'Hearing finish date', '22 July 2021', 'Watch hearing', '19 Jul 2021', 'Morning session', 'Afternoon session', '20 Jul 2021', 'Morning session', 'Afternoon session', '21 Jul 2021', 'Morning session', 'Afternoon session', 'Judgment details', 'Judgment date', '20 December 2021', 'Neutral citation', '[2021] UKSC 57', 'Judgment (PDF)', 'Press summary (HTML version)', 'Judgment on BAILII (HTML version)', 'Watch Judgment summary', '20 Dec 2021', 'Judgment summary', 'Judicial Committee of The Privy Council website', 'Terms and conditions', 'Site map', 'Privacy notice', '© Crown Copyright 2022']\n"
     ]
    }
   ],
   "source": [
    "print(list(soup.stripped_strings))"
   ]
  },
  {
   "cell_type": "code",
   "execution_count": 48,
   "id": "b48e220d",
   "metadata": {},
   "outputs": [
    {
     "data": {
      "text/plain": [
       "{'Name': 'Maduro Board of the Central Bank of Venezuela (Respondent/Cross-Appellant) v Guaidó Board of the Central Bank of Venezuela (Appellant/Cross-Respondent) - The Supreme Court',\n",
       " 'Case ID': 'UKSC 2020/0195',\n",
       " 'Judgment date': '20 December 2021',\n",
       " 'Neutral citation': '[2021] UKSC 57',\n",
       " 'Justices': 'Lord Reed, Lord Hodge, Lord Lloyd-Jones, Lord Hamblen, Lord Leggatt'}"
      ]
     },
     "execution_count": 48,
     "metadata": {},
     "output_type": "execute_result"
    }
   ],
   "source": [
    "url = \"https://www.supremecourt.uk/cases/uksc-2020-0195.html\"\n",
    "html = requests.get(url).content\n",
    "soup = BeautifulSoup(html,'html.parser')\n",
    "\n",
    "strips = list(soup.stripped_strings)\n",
    "\n",
    "caseid = strips.index('Case summary')\n",
    "date = strips.index('Judgment date')\n",
    "cit = strips.index('Neutral citation')\n",
    "justices = strips.index('Justices')\n",
    "pdf = strips.index('Judgment (PDF)')\n",
    "\n",
    "details['Name'] = strips[0]\n",
    "details['Case ID'] = strips[caseid-1].replace('Case ID:', 'UKSC')\n",
    "details['Judgment date'] = ', '.join(strips[date+1:cit])\n",
    "details['Neutral citation'] = ', '.join(strips[cit+1:pdf])\n",
    "details['Justices'] = strips[justices+1]\n",
    "\n",
    "details"
   ]
  },
  {
   "cell_type": "code",
   "execution_count": 44,
   "id": "f8057bbc",
   "metadata": {},
   "outputs": [
    {
     "name": "stdout",
     "output_type": "stream",
     "text": [
      "['R (on the application of Tigere) (Appellant) v Secretary of State for Business, Innovation and Skills (Respondent) - The Supreme Court', 'Skip to Primary Navigation', 'Skip to Content', 'Go to the home page', 'Go to Latest news', 'Go to the sitemap page', 'Go to search', 'Go to the Decided cases', 'Go to the Current cases', 'Go to the Complaints Policies and Judicial Conduct', 'Go to the terms and conditions page', 'Go to the contact us page', 'Go to the accessibility statement page', 'Skip to main content', 'Home', 'Accessibility', 'Education', 'Press office', 'Contact us', 'FAQs', 'Careers', 'Cymraeg', 'Bookmark', 'Case details', 'Home', 'Decided cases', 'Decided cases', 'Court procedures', 'Visiting The Court', 'About The Supreme Court', 'Latest', 'news', 'Current cases', 'R (on the application of Tigere) (Appellant) v Secretary of State for Business, Innovation and Skills (Respondent)', 'Judgment date', '29 Jul 2015', 'Neutral citation number', '[2015] UKSC 57', 'Case ID', 'UKSC 2014/0255', 'Justices', 'Lady Hale, Lord Kerr, Lord Sumption, Lord Reed, Lord Hughes', 'Judgment details', 'Judgment (PDF)', 'Press summary (PDF)', 'Judgment on BAILII (HTML version)', 'Judicial Committee of The Privy Council website', 'Terms and conditions', 'Site map', 'Privacy notice', '© Crown Copyright 2022']\n"
     ]
    }
   ],
   "source": [
    "url = \"https://www.supremecourt.uk/cases/uksc-2014-0255.html\"\n",
    "html = requests.get(url).content\n",
    "soup = BeautifulSoup(html,'html.parser')\n",
    "\n",
    "print(list(soup.stripped_strings))"
   ]
  },
  {
   "cell_type": "code",
   "execution_count": 46,
   "id": "2a158c86",
   "metadata": {},
   "outputs": [
    {
     "data": {
      "text/plain": [
       "{'Name': 'R (on the application of Tigere) (Appellant) v Secretary of State for Business, Innovation and Skills (Respondent) - The Supreme Court',\n",
       " 'Case ID': 'UKSC 2014/0255',\n",
       " 'Judgment date': '29 Jul 2015',\n",
       " 'Neutral citation': '[2015] UKSC 57',\n",
       " 'Justices': 'Lady Hale, Lord Kerr, Lord Sumption, Lord Reed, Lord Hughes'}"
      ]
     },
     "execution_count": 46,
     "metadata": {},
     "output_type": "execute_result"
    }
   ],
   "source": [
    "strips = list(soup.stripped_strings)\n",
    "details = {}\n",
    "\n",
    "if 'Neutral citation number' in strips:\n",
    "    cit = strips.index('Neutral citation number')\n",
    "else: \n",
    "    cit = strips.index('Neutral citation number(s)')\n",
    "date = strips.index('Judgment date')\n",
    "caseid = strips.index('Case ID')\n",
    "justices = strips.index('Justices')\n",
    "\n",
    "details['Name'] = strips[0]\n",
    "details['Case ID'] = ', '.join(strips[caseid+1:justices])\n",
    "details['Judgment date'] = ', '.join(strips[date+1:cit])\n",
    "details['Neutral citation'] = ', '.join(strips[cit+1:caseid])\n",
    "details['Justices'] = strips[justices+1]\n",
    "\n",
    "details"
   ]
  },
  {
   "cell_type": "code",
   "execution_count": null,
   "id": "16a6066a",
   "metadata": {},
   "outputs": [],
   "source": []
  },
  {
   "cell_type": "markdown",
   "id": "c9b34913",
   "metadata": {
    "heading_collapsed": true
   },
   "source": [
    "# Test: multiple functions combined"
   ]
  },
  {
   "cell_type": "code",
   "execution_count": 183,
   "id": "ef022c76",
   "metadata": {
    "hidden": true
   },
   "outputs": [
    {
     "name": "stdout",
     "output_type": "stream",
     "text": [
      "{'Judgment date': '17 Dec 2014', 'Neutral citation number': '[2014] UKSC 68', 'Case ID': 'UKSC 2013/0124', 'Justices': 'Lady Hale, Lord Wilson, Lord Reed, Lord Hughes, Lord Hodge', 'Name': 'Greater Glasgow Health Board (Appellant) v Doogan and another (Respondents) (Scotland)', 'URL': 'https://www.supremecourt.uk/cases/uksc-2013-0124.html'}\n"
     ]
    }
   ],
   "source": [
    "def func2(soup):\n",
    "    case_details = []\n",
    "    for detail in soup.find_all('div', class_='panel-filled'):\n",
    "        case_name = detail.find('span').string\n",
    "        keys = []\n",
    "        for d in detail.find_all('h3', class_='sc-access'):\n",
    "            key = d.string\n",
    "            keys.append(key)\n",
    "        values = []\n",
    "        for d in detail.find_all('p'):\n",
    "            value = d.string\n",
    "            values.append(value)\n",
    "        case_details.append({'Keys': keys, 'Values': values})\n",
    "        case_details = case_details[0]\n",
    "\n",
    "    case_dict = {case_details['Keys'][i]: case_details['Values'][i] for i in range(4)}\n",
    "    case_dict['Name'] = case_name\n",
    "    return case_dict\n",
    "\n",
    "def fix_date(date):\n",
    "    months = {'January': '01', 'February': '02', 'March': '03', 'April': '04', 'May': '05', 'June': '06', \n",
    "              'July': '07', 'August': '08', 'September': '09', 'October': '10', 'November': '11', 'December': '12',\n",
    "              'Jan': '01', 'Feb': '02', 'Mar': '03', 'Apr': '04', 'May': '05', 'Jun': '06', \n",
    "              'Jul': '07', 'Aug': '08', 'Sep': '09', 'Oct': '10', 'Nov': '11', 'Dec': '12'}\n",
    "    if len(date) <= 17:\n",
    "        return(f'{months[date[3:-5]]}/{date[:2]}/{date[-4:]}')\n",
    "    else: \n",
    "        return(f'{months[date[3:6]]}/{date[:2]}/{date[7:11]}')\n",
    "    \n",
    "def landing_to_dict(case):\n",
    "    url = f'https://www.supremecourt.uk/cases/{case}.html'\n",
    "    html = requests.get(url).content\n",
    "    soup = BeautifulSoup(html, 'html.parser')\n",
    "\n",
    "    strips = list(soup.stripped_strings)\n",
    "    datedex = strips.index('Judgment date') + 1\n",
    "    date = strips[datedex]\n",
    "    new_date = fix_date(date)\n",
    "\n",
    "    if case != 'uksc-2013-0124' and case != 'uksc-2010-0195' and case != 'uksc-2009-0016' \\\n",
    "    and case != 'uksc-2009-0018' and case != 'uksc-2009-0015' and case != 'uksc-2013-0273' \\\n",
    "    and case != 'uksc-2009-0210':\n",
    "        if new_date >= '04/29/2019': \n",
    "            case_dict = func1(soup)\n",
    "        elif new_date >= '03/01/2019': \n",
    "            case_dict = func2(soup)\n",
    "        elif new_date >= '10/29/2019':\n",
    "            case_dict = func3(soup)\n",
    "    elif case == 'uksc-2013-0124' or case == 'uksc-2010-0195':\n",
    "        case_dict = func2(soup)\n",
    "    elif case == 'uksc-2009-0016' or case == 'uksc-2009-0018' or case == 'uksc-2009-0015':\n",
    "        case_dict = func4(soup)\n",
    "    elif case == 'uksc-2013-0273':\n",
    "        case_dict = func5(soup)\n",
    "    elif case == 'uksc-2009-0210':\n",
    "        case_dict = func6(soup)\n",
    "    \n",
    "    case_dict['URL'] = url\n",
    "    return case_dict\n",
    "\n",
    "print(landing_to_dict('uksc-2013-0124'))"
   ]
  }
 ],
 "metadata": {
  "kernelspec": {
   "display_name": "Python 3 (ipykernel)",
   "language": "python",
   "name": "python3"
  },
  "language_info": {
   "codemirror_mode": {
    "name": "ipython",
    "version": 3
   },
   "file_extension": ".py",
   "mimetype": "text/x-python",
   "name": "python",
   "nbconvert_exporter": "python",
   "pygments_lexer": "ipython3",
   "version": "3.8.12"
  },
  "toc": {
   "base_numbering": 1,
   "nav_menu": {},
   "number_sections": true,
   "sideBar": true,
   "skip_h1_title": false,
   "title_cell": "Table of Contents",
   "title_sidebar": "Contents",
   "toc_cell": false,
   "toc_position": {},
   "toc_section_display": true,
   "toc_window_display": false
  }
 },
 "nbformat": 4,
 "nbformat_minor": 5
}
