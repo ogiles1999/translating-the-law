{
 "cells": [
  {
   "cell_type": "code",
   "execution_count": 1,
   "id": "b165e714-fe7c-42ee-b6c8-8cfce2b272c7",
   "metadata": {},
   "outputs": [],
   "source": [
    "from translating_the_law.utils.get_from_disk import open_from_disk"
   ]
  },
  {
   "cell_type": "code",
   "execution_count": 2,
   "id": "9d14d92b-b6c0-4c02-8a02-eb126ca4f2db",
   "metadata": {},
   "outputs": [],
   "source": [
    "from gensim.models.doc2vec import Doc2Vec, TaggedDocument\n",
    "from gensim.test.utils import common_texts\n",
    "import numpy as np\n",
    "import pandas as pd\n"
   ]
  },
  {
   "cell_type": "code",
   "execution_count": 3,
   "id": "70ecf16b",
   "metadata": {},
   "outputs": [],
   "source": [
    "import string\n",
    "from nltk.corpus import stopwords \n",
    "from nltk.tokenize import word_tokenize\n",
    "import re\n",
    "from nltk.stem import WordNetLemmatizer"
   ]
  },
  {
   "cell_type": "code",
   "execution_count": 4,
   "id": "8c07694c",
   "metadata": {},
   "outputs": [],
   "source": [
    "import spacy\n",
    "nlp = spacy.load(\"en_core_web_sm\")"
   ]
  },
  {
   "cell_type": "code",
   "execution_count": 5,
   "id": "8c875692-ff96-4c12-b07b-578da051802d",
   "metadata": {},
   "outputs": [],
   "source": [
    "basic_data = open_from_disk()"
   ]
  },
  {
   "cell_type": "markdown",
   "id": "f9345df9-0989-43d1-bace-a1e437669429",
   "metadata": {},
   "source": [
    "Basic data is a list and each item inside the list is a dictionary with these keys"
   ]
  },
  {
   "cell_type": "code",
   "execution_count": 6,
   "id": "164b8681-cbc9-4637-b33a-a11e65f62cae",
   "metadata": {},
   "outputs": [
    {
     "data": {
      "text/plain": [
       "dict_keys(['judgement', 'press summary', 'details'])"
      ]
     },
     "execution_count": 6,
     "metadata": {},
     "output_type": "execute_result"
    }
   ],
   "source": [
    "basic_data[0].keys()"
   ]
  },
  {
   "cell_type": "markdown",
   "id": "c93cd13d",
   "metadata": {},
   "source": [
    "#### Copy dataset\n"
   ]
  },
  {
   "cell_type": "code",
   "execution_count": 7,
   "id": "0fb64c47",
   "metadata": {},
   "outputs": [],
   "source": [
    "judg_data = [basic_data[i][\"judgement\"]['body'] for i in range(len(basic_data))]\n",
    "dfc = pd.DataFrame(judg_data).copy()"
   ]
  },
  {
   "cell_type": "markdown",
   "id": "665c03a8",
   "metadata": {},
   "source": [
    "# Preprocessing"
   ]
  },
  {
   "cell_type": "code",
   "execution_count": 8,
   "id": "4e039df7",
   "metadata": {},
   "outputs": [
    {
     "data": {
      "text/html": [
       "<div>\n",
       "<style scoped>\n",
       "    .dataframe tbody tr th:only-of-type {\n",
       "        vertical-align: middle;\n",
       "    }\n",
       "\n",
       "    .dataframe tbody tr th {\n",
       "        vertical-align: top;\n",
       "    }\n",
       "\n",
       "    .dataframe thead th {\n",
       "        text-align: right;\n",
       "    }\n",
       "</style>\n",
       "<table border=\"1\" class=\"dataframe\">\n",
       "  <thead>\n",
       "    <tr style=\"text-align: right;\">\n",
       "      <th></th>\n",
       "      <th>0</th>\n",
       "    </tr>\n",
       "  </thead>\n",
       "  <tbody>\n",
       "    <tr>\n",
       "      <th>0</th>\n",
       "      <td>Hilary Term [2022] UKSC 6 On appeal from: [202...</td>\n",
       "    </tr>\n",
       "    <tr>\n",
       "      <th>1</th>\n",
       "      <td>The reporting restrictions made by the High Co...</td>\n",
       "    </tr>\n",
       "    <tr>\n",
       "      <th>2</th>\n",
       "      <td>Hilary Term [2022] UKSC 2 On appeal from: [202...</td>\n",
       "    </tr>\n",
       "    <tr>\n",
       "      <th>3</th>\n",
       "      <td>Hilary Term [2022] UKSC 2 On appeal from: [202...</td>\n",
       "    </tr>\n",
       "    <tr>\n",
       "      <th>4</th>\n",
       "      <td>THE COURT ORDERED that no one shall publish or...</td>\n",
       "    </tr>\n",
       "  </tbody>\n",
       "</table>\n",
       "</div>"
      ],
      "text/plain": [
       "                                                   0\n",
       "0  Hilary Term [2022] UKSC 6 On appeal from: [202...\n",
       "1  The reporting restrictions made by the High Co...\n",
       "2  Hilary Term [2022] UKSC 2 On appeal from: [202...\n",
       "3  Hilary Term [2022] UKSC 2 On appeal from: [202...\n",
       "4  THE COURT ORDERED that no one shall publish or..."
      ]
     },
     "execution_count": 8,
     "metadata": {},
     "output_type": "execute_result"
    }
   ],
   "source": [
    "dfc.head()"
   ]
  },
  {
   "cell_type": "markdown",
   "id": "f53ca5d5",
   "metadata": {},
   "source": [
    "#### Clean text"
   ]
  },
  {
   "cell_type": "code",
   "execution_count": 9,
   "id": "2fa40dea",
   "metadata": {},
   "outputs": [
    {
     "data": {
      "text/html": [
       "<div>\n",
       "<style scoped>\n",
       "    .dataframe tbody tr th:only-of-type {\n",
       "        vertical-align: middle;\n",
       "    }\n",
       "\n",
       "    .dataframe tbody tr th {\n",
       "        vertical-align: top;\n",
       "    }\n",
       "\n",
       "    .dataframe thead th {\n",
       "        text-align: right;\n",
       "    }\n",
       "</style>\n",
       "<table border=\"1\" class=\"dataframe\">\n",
       "  <thead>\n",
       "    <tr style=\"text-align: right;\">\n",
       "      <th></th>\n",
       "      <th>text</th>\n",
       "    </tr>\n",
       "  </thead>\n",
       "  <tbody>\n",
       "    <tr>\n",
       "      <th>0</th>\n",
       "      <td>Hilary Term [2022] UKSC 6 On appeal from: [202...</td>\n",
       "    </tr>\n",
       "    <tr>\n",
       "      <th>1</th>\n",
       "      <td>The reporting restrictions made by the High Co...</td>\n",
       "    </tr>\n",
       "    <tr>\n",
       "      <th>2</th>\n",
       "      <td>Hilary Term [2022] UKSC 2 On appeal from: [202...</td>\n",
       "    </tr>\n",
       "    <tr>\n",
       "      <th>3</th>\n",
       "      <td>Hilary Term [2022] UKSC 2 On appeal from: [202...</td>\n",
       "    </tr>\n",
       "    <tr>\n",
       "      <th>4</th>\n",
       "      <td>THE COURT ORDERED that no one shall publish or...</td>\n",
       "    </tr>\n",
       "  </tbody>\n",
       "</table>\n",
       "</div>"
      ],
      "text/plain": [
       "                                                text\n",
       "0  Hilary Term [2022] UKSC 6 On appeal from: [202...\n",
       "1  The reporting restrictions made by the High Co...\n",
       "2  Hilary Term [2022] UKSC 2 On appeal from: [202...\n",
       "3  Hilary Term [2022] UKSC 2 On appeal from: [202...\n",
       "4  THE COURT ORDERED that no one shall publish or..."
      ]
     },
     "execution_count": 9,
     "metadata": {},
     "output_type": "execute_result"
    }
   ],
   "source": [
    "dfc = dfc.rename(columns={0 : 'text'})\n",
    "dfc.head()"
   ]
  },
  {
   "cell_type": "code",
   "execution_count": 10,
   "id": "b52a81f5",
   "metadata": {},
   "outputs": [],
   "source": [
    "def remove_punctuation(text):\n",
    "    for punctuation in string.punctuation: \n",
    "        text = text.replace(punctuation, ' ') \n",
    "    return text\n",
    "\n",
    "dfc['clean_text'] = dfc.text.apply(remove_punctuation)"
   ]
  },
  {
   "cell_type": "code",
   "execution_count": 11,
   "id": "58b862d6",
   "metadata": {},
   "outputs": [],
   "source": [
    "def cleaner(text, **kwargs):\n",
    "  \"\"\"params is a list of things to remove: codec, acronyms, numbers, brackets\"\"\"\n",
    "  if 'codec' in kwargs['params']:\n",
    "    text_encoded = text.encode('ascii', errors = 'ignore')\n",
    "    text_decode = text_encoded.decode()\n",
    "    clean_text = \" \".join([word for word in text_decode.split()])\n",
    "    text = clean_text\n",
    "  if 'numbers' in kwargs['params']:\n",
    "    pattern = r'[0-9]'\n",
    "    text = re.sub(pattern, '', text)\n",
    "  if 'brackets' in kwargs['params']: \n",
    "    text = re.sub('\\(.*?\\)', '', text)\n",
    "    text = re.sub('\\[.*?\\]', '', text)\n",
    "  if 'acronyms' in kwargs['params']:\n",
    "    text = text.split()\n",
    "    clean_text = []\n",
    "    for word in text: \n",
    "      if any(l.islower() for l in word):\n",
    "        clean_text.append(word)\n",
    "    text = ' '.join(clean_text)\n",
    "  return text\n"
   ]
  },
  {
   "cell_type": "code",
   "execution_count": 12,
   "id": "f046834f",
   "metadata": {},
   "outputs": [],
   "source": [
    "params = ['codec', 'numbers', 'acronyms', 'brackets']\n",
    "for i in range(len(dfc['clean_text'])):\n",
    "    strg = dfc['clean_text'][i]\n",
    "    dfc['clean_text'][i] = cleaner(strg, params=params)"
   ]
  },
  {
   "cell_type": "code",
   "execution_count": 13,
   "id": "0e789e99",
   "metadata": {},
   "outputs": [
    {
     "data": {
      "text/html": [
       "<div>\n",
       "<style scoped>\n",
       "    .dataframe tbody tr th:only-of-type {\n",
       "        vertical-align: middle;\n",
       "    }\n",
       "\n",
       "    .dataframe tbody tr th {\n",
       "        vertical-align: top;\n",
       "    }\n",
       "\n",
       "    .dataframe thead th {\n",
       "        text-align: right;\n",
       "    }\n",
       "</style>\n",
       "<table border=\"1\" class=\"dataframe\">\n",
       "  <thead>\n",
       "    <tr style=\"text-align: right;\">\n",
       "      <th></th>\n",
       "      <th>text</th>\n",
       "      <th>clean_text</th>\n",
       "    </tr>\n",
       "  </thead>\n",
       "  <tbody>\n",
       "    <tr>\n",
       "      <th>0</th>\n",
       "      <td>Hilary Term [2022] UKSC 6 On appeal from: [202...</td>\n",
       "      <td>hilary term on appeal from craig appellant v h...</td>\n",
       "    </tr>\n",
       "    <tr>\n",
       "      <th>1</th>\n",
       "      <td>The reporting restrictions made by the High Co...</td>\n",
       "      <td>the reporting restrictions made by the high co...</td>\n",
       "    </tr>\n",
       "    <tr>\n",
       "      <th>2</th>\n",
       "      <td>Hilary Term [2022] UKSC 2 On appeal from: [202...</td>\n",
       "      <td>hilary term on appeal from admin pwr appellant...</td>\n",
       "    </tr>\n",
       "    <tr>\n",
       "      <th>3</th>\n",
       "      <td>Hilary Term [2022] UKSC 2 On appeal from: [202...</td>\n",
       "      <td>hilary term on appeal from admin pwr appellant...</td>\n",
       "    </tr>\n",
       "    <tr>\n",
       "      <th>4</th>\n",
       "      <td>THE COURT ORDERED that no one shall publish or...</td>\n",
       "      <td>that no one shall publish or reveal the names ...</td>\n",
       "    </tr>\n",
       "    <tr>\n",
       "      <th>...</th>\n",
       "      <td>...</td>\n",
       "      <td>...</td>\n",
       "    </tr>\n",
       "    <tr>\n",
       "      <th>941</th>\n",
       "      <td>Michaelmas Term [2009] UKSC 15  On appeal from...</td>\n",
       "      <td>michaelmas term on appeal from civ on the appl...</td>\n",
       "    </tr>\n",
       "    <tr>\n",
       "      <th>942</th>\n",
       "      <td>Michaelmas Term [2009] UKSC 16 On appeal from:...</td>\n",
       "      <td>michaelmas term on appeal from civ civ ahmed m...</td>\n",
       "    </tr>\n",
       "    <tr>\n",
       "      <th>943</th>\n",
       "      <td>Michaelmas Term [2009] UKSC 16 On appeal from:...</td>\n",
       "      <td>michaelmas term on appeal from civ civ ahmed m...</td>\n",
       "    </tr>\n",
       "    <tr>\n",
       "      <th>944</th>\n",
       "      <td>Michaelmas Term [2009] UKSC 16 On appeal from:...</td>\n",
       "      <td>michaelmas term on appeal from civ civ ahmed m...</td>\n",
       "    </tr>\n",
       "    <tr>\n",
       "      <th>945</th>\n",
       "      <td>Michaelmas Term [2009] UKSC 17 On appeal from:...</td>\n",
       "      <td>michaelmas term on appeal from civ children be...</td>\n",
       "    </tr>\n",
       "  </tbody>\n",
       "</table>\n",
       "<p>946 rows × 2 columns</p>\n",
       "</div>"
      ],
      "text/plain": [
       "                                                  text  \\\n",
       "0    Hilary Term [2022] UKSC 6 On appeal from: [202...   \n",
       "1    The reporting restrictions made by the High Co...   \n",
       "2    Hilary Term [2022] UKSC 2 On appeal from: [202...   \n",
       "3    Hilary Term [2022] UKSC 2 On appeal from: [202...   \n",
       "4    THE COURT ORDERED that no one shall publish or...   \n",
       "..                                                 ...   \n",
       "941  Michaelmas Term [2009] UKSC 15  On appeal from...   \n",
       "942  Michaelmas Term [2009] UKSC 16 On appeal from:...   \n",
       "943  Michaelmas Term [2009] UKSC 16 On appeal from:...   \n",
       "944  Michaelmas Term [2009] UKSC 16 On appeal from:...   \n",
       "945  Michaelmas Term [2009] UKSC 17 On appeal from:...   \n",
       "\n",
       "                                            clean_text  \n",
       "0    hilary term on appeal from craig appellant v h...  \n",
       "1    the reporting restrictions made by the high co...  \n",
       "2    hilary term on appeal from admin pwr appellant...  \n",
       "3    hilary term on appeal from admin pwr appellant...  \n",
       "4    that no one shall publish or reveal the names ...  \n",
       "..                                                 ...  \n",
       "941  michaelmas term on appeal from civ on the appl...  \n",
       "942  michaelmas term on appeal from civ civ ahmed m...  \n",
       "943  michaelmas term on appeal from civ civ ahmed m...  \n",
       "944  michaelmas term on appeal from civ civ ahmed m...  \n",
       "945  michaelmas term on appeal from civ children be...  \n",
       "\n",
       "[946 rows x 2 columns]"
      ]
     },
     "execution_count": 13,
     "metadata": {},
     "output_type": "execute_result"
    }
   ],
   "source": [
    "def lowercase (text): \n",
    "    lowercased = text.lower() \n",
    "    return lowercased\n",
    "\n",
    "dfc['clean_text'] = dfc.clean_text.apply(lowercase)\n",
    "\n",
    "dfc"
   ]
  },
  {
   "cell_type": "code",
   "execution_count": 14,
   "id": "992e4c9c",
   "metadata": {},
   "outputs": [],
   "source": [
    "lst_rem_ent = ['PERSON', 'GPE', 'LOC', 'DATE', 'CARDINAL']\n",
    "def filter_ner(text):\n",
    "    text = str(text)\n",
    "    text_2 = nlp(text)\n",
    "    for w in text_2.ents:\n",
    "        if w.label_ in lst_rem_ent:\n",
    "            text = text.replace(w.text, \"\")\n",
    "    return text"
   ]
  },
  {
   "cell_type": "code",
   "execution_count": 15,
   "id": "1ebbb084",
   "metadata": {},
   "outputs": [],
   "source": [
    "dfc['clean_text'] = dfc.clean_text.apply(filter_ner)"
   ]
  },
  {
   "cell_type": "code",
   "execution_count": 16,
   "id": "d4635b1d",
   "metadata": {},
   "outputs": [
    {
     "data": {
      "text/plain": [
       "'hilary term on appeal from craig appellant v her majestys advocate for the government of   and another respondents  before lord reed president lord lloyd js lord  lord burrows lord stephens  heard on  appellant aidan ill fred mackintosh instructed by  respondent her majestys advocate for the government of    mcbrearty lesley irvine instructed by international co operation unit crown office nd respondent her majestys advocate general for  andrew webster instructed by office of the advocate general with whom lord lloyd js lord  lord burrows and lord stephens agree this appeal concerns the powers of the ish ministers they exercise functions in relation to extradition proceedings in  but their powers are limited under the  act by a requirement not to act incompatibly with the rights guaranteed by the european convention on human rights the convention the appeal also raises issues under the constitutional law of  concerning the obligations of the government in relation to the commencement of legislation which parliament has enacted and their obligations in relation to a declaration by a court that their conduct is unlawful the appeal arises from the unlawful failure of the government more specifically the home secretary to make a commencement order bringing into force provisions of an act of parliament which are designed for the protection of individuals whose extradition has been requested that failure was successfully challenged by an individual whose extradition was sought in proceedings in which the court issued a final order declaring that the government were acting unlawfully and contrary to their duties under the act of parliament notwithstanding the courts order the governments failure to make the commencement order subsequently continued over  during which the extradition proceedings were pursued against the individual who had obtained the court order the question which now arises is whether the conduct of the proceedings under those circumstances and the extradition order made in those proceedings are legally valid the legislative background in  the home secretary appointed a panel chaired by the rt hon sir  to conduct a review of the uks extradition arrangements including the question whether a forum bar to extradition that is to say a bar to extradition on the ground that the was a more appropriate forum for prosecution should be introduced in the course of the review the panel received representations on behalf of the lord advocate which opposed the introduction of a forum bar on the ground that it could involve the review by the courts of a prosecutorial decision the review concluded that a forum bar should not be introduced in march the house of commons home affairs committee published its report the extradition treaty it noted that the question of forum had been a significant issue in extradition cases including cases concerned with the use of computers in the to commit alleged offences under law it concluded that page the current arrangements for determining the forum in which a person should be tried were unsatisfactory it appeared to be very easy to engage the jurisdiction of the courts without ever entering the country since activity on the internet could involve the use of communications systems based in the decisions as to forum were made by prosecutors behind closed doors without the accused having any opportunity to make representations fundamental principles of human rights democracy and the rule of law required that justice was seen to be d in public the committee accordingly believed that it would be in the interests of justice for decisions about forum in cases where there was concurrent jurisdiction to be taken by a judge in open court where the person whose extradition was requested would have the opportunity to put his case rather than in private by prosecutors the committee therefore recommended that the government introduce a forum bar as soon as possible  the government published the government response to sir s review of s extradition arrangements cm  in which they rejected the reviews recommendation in relation to forum bar and announced that they would seek to legislate for a forum bar for the reasons given by the committee they duly did so in  when they introduced a suitable amendment to the crime and courts bill then before parliament in parliament enacted the crime and courts act the act paragraphs to of schedule to which effect is given by section amend part of the extradition act the act concerned with extradition to category territories so as to introduce a forum bar defence paragraphs to make similar amendments to part of the act concerned with extradition to category territories including the shall refer to these provisions as the forum bar provisions in particular paragraph of schedule to the act inserts into section of the act which requires the judge to decide whether a persons extradition to a category territory is barred by reason of  or more of a number of considerations an additional consideration namely e forum in that regard section is also amended so as to provide that sections to in addition to sections to in the unamended version apply for the interpretation of section paragraph of schedule to the act also inserts into the act the new sections to section provides in subsection that the extradition of a person to a category territory is barred by reason of forum if the extradition would not be in the interests of justice for that purpose subsection provides that the extradition would not be in the interests of justice if the judge a decides that a substantial page measure of ds relevant activity was performed in the and b decides having regard to the matters specified in subsection and only those matters that the extradition should not take place the matters specified in subsection are a the place where most of the loss or harm resulting from the extradition offence occurred or was intended to occur b the interests of any victims of the extradition offence any belief of a prosecutor defined by section c as meaning a person who has responsibility for prosecuting offences in any part of  that  or a particular part of  is not the most appropriate jurisdiction in which to prosecute in respect of the conduct constituting the extradition offence d were to be prosecuted in a part of  for an offence that corresponds to the extradition offence whether evidence necessary to prove the offence is or could be made available in  any delay that might result from proceeding in  e jurisdiction rather than another the desirability and practicability of all prosecutions f relating to the extradition offence taking place in  jurisdiction having regard in particular to the jurisdictions in which witnesses co i defendants and other suspects are located and the practicability of the evidence of such ii persons being given in  or in jurisdictions outside  g ds connections with  page the divisional court has described section as clearly intended to provide a safeguard for requested persons not distinctly to be found in any of the other bars to extradition or grounds for discharge including section and the wide scope of article of the convention and has identified its underlying aim as being to prevent extradition where the offences can be fairly and effectively tried here and it is not in the interests of justice that the requested person should be extradited love v government of   admin para the court also observed ibid that the matters listed in section do not leave to the court the task of some vague or broader evaluation of what is just nor is the bar a general provision requiring the court to form a view directly on which is the more suitable forum let al having regard to sentencing policy or the potential for prisr transfer save to the extent that  of the listed factors might in any particular case require consideration of it the forum bar provisions enable the domestic prosecution authorities to have an input into the question whether a requested person should be extradited in  of  ways first under section c a prosecutor can express a belief that the or a particular part of it is not the most appropriate jurisdiction for a prosecution such a belief is a matter to which the court must have regard but it is not conclusive secondly sections to make provision for a prosecutors certificate to be given by a designated prosecutor an expression which includes a prosecutor who is designated by subordinate legislation or is within a description of prosecutors so designated where a a formal decision has been made that the requested person should not be prosecuted on the ground that there would be insufficient admissible evidence or that the prosecution would not be in the public interest or b the prosecutor believes that the person should not be prosecuted because of concerns about the disclosure of sensitive material if produced such a certificate requires the appropriate judge to decide that extradition is not barred by reason of forum the designated prosecutors decision relating to the certificate can however be questid on appeal in  such an appeal lies to the high court of justiciary in determining such a question the court is directed to apply the procedures and principles that would be applied by it on an application for judicial review section in a case where the high court of justiciary quashes the prosecutors certificate it must decide the issue of forum bar for itself transitional provisions are set out in paragraph of schedule to the act they provide that in a case where the part warrant or in a part case such as the present the request for the persons extradition has been issued before the amendments come into force those amendments apply to the extradition concerned only if at that time the judge has not yet decided all of the existing extradition bar questions ie the questions in section of the act in the case of a part page warrant or section of that act in a part case as those questions stand before their amendment commencement provisions are set out in section of the act subject to exceptions which are not relevant to the present case section provides this act comes into force on  as the secretary of state may by order appoint and different  may be appointed for different purposes and in the case of part of schedule and section so far as relating to that part of that schedule for different areas section and schedule were brought into force in england wales and  on  they were not brought into force in  it was found in the courts below that that was because of the governments sensitivity to the views of the ish ministers ie the members of the devolved ish government  act section in particular the lord advocate who is  of the ish ministers  act section regarded the provisions relating to the questioning of the prosecutors certificate as an inappropriate interference with his independence that finding was based on a body of material before parliament in particular on  when the provisions were introduced into parliament as amendments to the bill then before it the parliamentary under secretary of state at the home office informed the house of commons public bill committee that because ish ministers and courts have a role in the process we have decided that the provisions should be commenced only with their consent that decision was not however reflected in the terms of the legislation which parliament enacted nevertheless in evidence given to parliament in the lord advocate stated that the provisions would only be brought into force in  if the ish ministers requested it and that they had no intention to do so for the foreseeable future that was confirmed by the minister of state at the home office in answer to a parliamentary question on  the ish government has decided that it does not wish section of the crime and courts act to be commenced in full in  and there is no timetable for its commencement this is a decision for the ish government and there have been no recent discussions on page the issue house of commons  report  pp contrary to that statement this was not a decision for the ish government under section the decision was for the secretary of state al the present proceedings on may the government made a request for the extradition of the appellant mr  under part of the act the appellant is a british citizen living in  extradition proceedings in  are conducted by the lord advocate in accordance with section of the act the decision whether to make an extradition order under section of that act read together with section is the responsibility of the ish ministers the appellant is accused of an offence relating to a fraudulent scheme the indictment alleges that he posted false information on twitter in order to reduce the value of shares in based companies so that he could purchase the shares and resell them on advantageous terms this is said to have resulted in losses to shareholders exceeding m in a supporting affidavit it is said that  of the accounts used to buy the shares was held in the name of the appellants girlfriend and registered to the appellants home address in  and that incriminating evidence was found on electronic devices seized during a search of that address following receipt of the request a warrant for the appellants arrest was issued under section of the act on  he appeared in court and was admitted to bail in accordance with section date was fixed for the extradition hearing but the hearing was subsequently adjourned in order to allow the appellant to bring the proceedings described in the next paragraph in march the appellant began proceedings for judicial review of the governments failure to commence the forum bar provisions in relation to  so as to be able to mount a defence under those provisions the respondents to the proceedings were the advocate general for  representing the government in accordance with the crown suits  act and the ish ministers counsel appearing on behalf of the advocate general who also appeared on behalf of the advocate general at the hearing of the present appeal was either unable or unwilling to provide any explanation for the governments failure to bring the page forum bar provisions into force in  and was equally unable or unwilling to provide any explanation for the failure to provide an explanation in any event it was argued the ministerial statements referred to in para above did not indicate that the provisions would never be brought into force in  or that there had been a delegation of responsibility to the ish ministers section of the act it was argued permitted the provisions to be brought into force at different times in different parts of the in his judgment given on  the lord ordinary lord  rejected these contentions and held that the governments continuing failure to bring the forum bar provisions into force in  was unlawful craig v advocate general for  he noted that the relevant words in section this act comes into force on  as the secretary of state may by order appoint were virtually identical to those of the commencement provisions which were in issue in the leading case of v secretary of state for the home department ex p fire brigades union the fire brigades union case the power given in the subsequent words in section quoted at para above to appoint different  for different areas was clearly limited to section and part of schedule which did not concern the forum bar provisions it did not extend to section and schedule it was also relevant that section prohibited the making of a commencement order in respect of section or schedule unless the secretary of state had consulted the ish ministers no such provision was made in respect of section and schedule accordingly parliament intended that the forum bar provisions would be brought into law throughout the and section conferred no power to do so at different times in different parts of the lord  dealt with the other aspects of the case on the basis of the principles established in the fire brigades union case the lesson of that case was that absent a good reason to delay commencement a failure to do so amounted to an abuse of power it was equally an abuse of power if the relevant minister renounced the commencement power failed to keep the matter under review or delegated decision making to a third party in the circumstances before the court it was clear from the answer given by the minister of state para above that the government had decided not to bring the provisions into force and that that would not change unless and until the ish government altered their view on the matter but a change in the view of the ish government would merely return matters to the position as decided by parliament at the outset on the same date lord  made an order in which he found and declared that in its continuing failure to bring into force in  the extradition forum bar provisions in section of and schedule to the crime and courts act page the government is acting unlawfully and contrary to its duties under section of the act counsel for the appellant did not seek an order requiring the government to bring the forum bar provisions into force in  as it was assumed that they would do so in compliance with the declaratory order no appeal was taken against that decision which became final nevertheless the governments failure to make a commencement order continued the appellants extradition hearing took place  on  before sheriff norman mcfadyen prior to the hearing the appellant gave notice of his intention to raise a devolution issue within the meaning of schedule to the  act paragraph d of that schedule includes within the definition of devolution issue a question whether a purported or proposed exercise of a function by a member of the ish government is or would be incompatible with any of the convention rights the term functions is defined by section of the  act as including powers and duties on behalf of the appellant it was argued at the hearing that his extradition would be incompatible with article of the convention and was therefore beyond the powers of the ish ministers including the lord advocate by reason of section of the  act that section provides member of the ish government has no power to make any subordinate legislation or to do any other act so far as the legislation or act is incompatible with any of the convention rights article of the convention requires that any interference with the appellants right to respect for his private and family life such as would result from his extradition must be in accordance with the law it was argued that that requirement was not met by reason of the governments continuing unlawful failure to commence the forum bar provisions in the course of the argument it was accepted that the appellant had to show that he would have had a real prospect of meeting the test in section were it in force in response it was submitted on behalf of the lord advocate that the failure to commence the forum bar provisions was merely a procedural irregularity and made no difference as questions relating to forum could be addressed under the unamended provisions of the act in that regard reference was made to section page which requires the judge to decide whether the persons extradition would be compatible with the convention rights within the meaning of the human rights act and if not to order the persons discharge the principle of legality under article was said not to have been violated as the unamended provisions of the act complied with that principle notwithstanding the appellants reliance upon section of the  act which renders acts ultra vires if they are incompatible with convention rights the arguments of both parties before the sheriff and also subsequently before the high court of justiciary proceeded on the basis that if the appellants submissions were well founded he would be entitled to be discharged in accordance with section of the act on  the sheriff held that there was no bar to extradition under section of the act and that the appellants extradition would be compatible with his convention rights he accordingly sent the case to the ish ministers for their decision as to whether the appellant should be extradited advocate v craig unreported he rejected the lord advocates contentions that the failure to commence the forum bar provisions was merely a procedural irregularity and that it made no difference as he observed if the provisions made no difference it would be hard to see why they were enacted or why the lord advocate opposed their commencement he did not accept that the application of convention rights under section of the act would necessarily bring about the same result as the application of the statutory bar arising under sections to although it might do in some cases he considered that the court had to respond to the unlawful character of the non commencement of the forum bar provisions by attempting to apply section in a way which was so far as possible compatible with those provisions he commented that it was unsatisfactory that the court had in effect to apply section by the back door approaching matters on that basis the sheriff considered whether the appellant was likely to have succeeded in a forum bar defence if the provisions had been in force he felt able to decide that a substantial measure of the appellants relevant activity was performed within the as required by section in relation to the matters specified in section little information was available and no consideration had been given to those matters by the crown nevertheless carrying out this hypothetical exercise para as best he could under the circumstances the sheriff concluded that a forum bar defence under section if it had been in force would have been unlikely to succeed in the light of that conclusion he considered that the argument on legality under article did not arise para and that the appellants extradition would be compatible with the convention rights page on  the ish ministers decided under section of the act that the appellant should be extradited the appellant then appealed to the high court of justiciary the lord justice clerk lady dorrian lord  and lord turnbull under section of the act the appeal was heard on  and refused on  craig v advocate before the high court it was argued on behalf of the appellant that the sheriff had erred in attempting to apply the forum bar provisions since they were not in force their effect could not in any event be replicated by section of the act since the focus of the forum bar provisions and the considerations which had to be taken into account were different from those applicable under the convention the sheriff should instead have focused on the legal consequences of the governments unlawful failure to bring the provisions into force thereby unlawfully depriving the appellant of the forum bar defence which would have been available if a commencement order had been made in those circumstances the extradition proceedings failed to comply with the article requirement of legality those arguments were rejected the lord justice clerk with whose reasoning the other members of the court agreed considered that the legal consequences of the unlawful failure to commence the forum bar provisions depended on the extent to which the appellant had been prevented from relying on arguments which could otherwise have been made that could be considered as part of the courts assessment under section in applying that section the sheriff would of course be expected to include as part of the balancing exercise the fact that the non commencement of the forum bar provisions in  has been found to be unlawful para that would require the sheriff to take into account the potential prejudice to an applicant of the failure to introduce provisions ibid that was what the sheriff had d on  the high court granted leave to appeal to this court on the article issue in doing so it must have recognised that it had determined a devolution issue as no appeal would otherwise have lain from its decision section of the act on  the secretary of state made the crime and courts act commencement no order which brought section of and schedule to the act that is to say the forum bar provisions into force in  the provisions do not apply to the appellant if the sheriffs decision of  is valid that is because as explained in para above paragraph of schedule page to the act provides that where in a part case such as the present the request for the persons extradition has been issued before the amendments come into force those amendments apply to the extradition concerned only if at that time the judge has not yet decided all of the existing extradition bar questions ie the questions in section of the act as those questions stand before their amendment those questions were purportedly decided by the sheriff on  more than  years before the amendments were brought into force the legal issues arising on the present appeal i  preliminary issues  preliminary issues need to be addressed before considering the principal questions in the appeal first it is a matter of agreement between the parties that the high court of justiciarys order of  determined the devolution issue which had been raised on behalf of the appellant and that this is accordingly an appeal under paragraph of schedule to the  act such an appeal is not excluded by the act see the decision of this court in v lord advocate given statutory effect in section of the act as amended by paragraph of schedule to the act the advocate general for  represents the government in this appeal as he is entitled to do by virtue of paragraphs and of schedule to the  act secondly it follows that the question which ultimately requires to be answered is not whether the appellant is entitled to be discharged under section of the act the question is whether the lord advocate and the ish ministers were acting ultra vires in performing their functions in relation to the appellants extradition it is a matter of agreement that they had no power to do so by reason of section of the  act para above if in doing so they were acting incompatibly with the appellants convention rights accordingly if the appeal is allowed the court has available to it all the powers set out in rule of the supreme court rules in terms of which the supreme court has all the powers of the court below and may a affirm set aside or vary any order or judgment made or given by that court b remit any issue for determination by that court c order a new trial or hearing page ii issues relating to the effect of the declaratory order it is necessary next to consider the effect of the declaratory order granted by lord  that necessity arises in the light of the submissions made to this court by counsel appearing on behalf of the advocate general counsel stated on behalf of the home secretary that she accepted that successive secretaries of state had acted unlawfully it had been believed that the commencement provisions permitted the commencement of the forum bar provisions in only part of the the court had told the secretary of state that that belief was wrong however by making a declaratory order and refraining from granting an order for specific performance a remedy available in  for the enforcement of statutory duties by virtue of section of the court of session act which counsel said it could have d the court had told the secretary of state that the failure to commence the provisions was unlawful but not that the provisions had to be commenced notwithstanding the courts order the lord advocates concerns about the forum bar provisions remained the secretary of state therefore had to decide whether to impose the forum bar provisions despite the constitutional problem arising from those concerns or to repeal the provisions for the whole of the by which counsel presumably meant that the secretary of state had to decide whether to propose to parliament a legislative measure which if enacted would have that effect the time taken to consider that question was said to explain the delay between  when the secretary of state was declared to be acting unlawfully and  when the commencement order was made in written submissions counsel also contended that following the declaratory order it was for any party who sought to rely on the provisions not commenced to apply for an order for specific performance requiring the home secretary to bring them into effect the effect of the declaratory order was not that the forum bar provisions were unlawfully excluded from the extradition scheme but that they were lawfully recognised as not part of the scheme but on a basis that could be relied upon to bring them within the scheme if desired it seems therefore that the order was not regarded as having any practical implications for the home secretary unless and until a further coercive order was sought and obtained the submissions which have summarised reveal a number of misunderstandings first lord  did not merely reject the contention that section of the act permitted the commencement of the forum bar provisions in only part of the as was explained at para above he also made it clear that the ish ministers opposition to the provisions was not a lawful justification for the failure to bring them into force in  parliament had decided in enacting page section that they were to be brought into force throughout the in those circumstances the explanation put forward for the delay in commencement following lord s judgment simply reflects a perpetuation of the same error of law as underlay the delay in commencement before that judgment secondly the order made by lord  did not merely imply that the home secretary had acted unlawfully in the past it was expressed in the present tense it declared that in its continuing failure to bring into force in  the extradition forum bar provisions the government is acting unlawfully and contrary to its duties under section emphasis added that order was not challenged and became final in the absence at least of any material change of circumstances in which event am inclined to think that the secretary of state might have applied to the court for a further order declaring that the failure to commence the provisions was no longer unlawful it was the duty of the secretary of state to act in conformity with the courts order and as have explained in para the secretary of states decision not to exercise the power to make a commencement order after the courts order was in any event unlawful as it was vitiated by an error of law thirdly the argument that where a statutory duty exists which is capable of being enforced by a coercive order a party should apply for such an order against a government minister instead of relying upon compliance with a declaratory order has implications for the constitutional relationship between the government and the courts in that regard some general observations about the use of declaratory orders in public law may be helpful it has been firmly established since the case of v home office that there is a clear expectation that the executive will comply with a declaratory order and that it is in reliance on that expectation that the courts usually refrain from making coercive orders against the executive and grant declaratory orders instead in that case the house of lords held that a mandatory interim injunction had been properly granted against the home secretary and that following his departments breach of the injunction he could properly be found in contempt of court although no punishment was considered necessary beyond the payment of costs lord woolf with whom the other members of their lordships house agreed observed at p that the fact that these issues had only arisen for the first time in that case was confirmation that in ordinary circumstances ministers of the crown and government departments scrupulously observed decisions of the courts he continued because of this it is normally unnecessary for the courts to make an executory order against a minister or a government page department since they will comply with any declaratory judgment made by the courts and pending the decision of the courts will not take any precipitous action emphasis added he added at pp the fact that in my view the court should be regarded as having jurisdiction to grant interim and final injunctions against officers of the crown does not mean that that jurisdiction should be exercised except in the most limited circumstances in the majority of situations so far as final relief is concerned a declaration will continue to be the appropriate remedy on an application for judicial review involving officers of the crown as has been the position in the past the crown can be relied upon to co operate fully with such declarations the government for their part have always accepted that they can be relied upon to comply with declarations see for example the recent case of vince v advocate general for  where the court accepted the governments submission that it was unnecessary to make a coercive order against the prime minister since members of the government could be expected to respect a declaratory order it is to be hoped that the submissions made on behalf of the government in the present case do not represent a fully considered departure from that longstanding approach the governments compliance with court orders including declaratory orders is  of the core principles of our constitution and is vital to the mutual trust which underpins the relationship between the government and the courts the courts willingness to forbear from making coercive orders against the government and to make declaratory orders instead reflects that trust but trust depends on the governments compliance with declaratory orders in the absence of coercion in other words it is because ours is a society governed by the rule of law where the government can be trusted to comply with court orders without having to be coerced that declaratory orders can provide an effective remedy although cases have occurred from time to time in which ministers have failed to comply with court orders such as v home office and the recent case of majera formerly  v secretary of state for the home department they are exceptional and can generally be attributed to mistakes and misunderstandings rather than deliberate disregard however where a legally enforceable duty to act or to page refrain from acting can be established the court is capable of making a coercive order as v home office and davidson v ish ministers demonstrate furthermore a declaratory order itself has important legal consequences first the legal issue which forms the subject matter of the declaration is determined and is res judicata as a result of the order being granted st georges healthcare trust v fam in addition a minister who acts in disregard of the law as declared by the courts will normally be acting outside his authority as a minister and may consequently expose himself to a personal liability for wrongdoing dicey introduction to the study of the law of the constitution th ed pp iii article and the powers of the ish ministers it is necessary to consider next whether the acts of the lord advocate in conducting the extradition proceedings against the appellant and the decision of the ish ministers to order his extradition were ultra vires by reason of their being incompatible with his rights under article of the convention article provides every has the right to respect for his private and family life his home and his correspondence there shall be no interference by a public authority with the exercise of this right except such as is in accordance with the law and is necessary in a democratic society in the interests of national security public safety or the economic well being of the country for the prevention of disorder or crime for the protection of health or morals or for the protection of the rights and freedoms of others where an act would constitute an interference with the right guaranteed by article it is therefore necessary to consider  questions first whether the interference is in accordance with the law secondly whether the interference pursues  of the legitimate aims listed in article and thirdly whether the interference is necessary in a democratic society that is to say is a proportionate means of achieving the legitimate aim pursued balancing the competing public and private interests in question page in the present case there is no dispute that the appellants extradition would interfere with his right to respect for his private and family life under article it therefore requires to be justified under article the first question which arises under that provision is whether the interference is in accordance with the law as the european court of human rights stated in halford v  para and has repeated many times since this expression does not only necessitate compliance with domestic law but also relates to the quality of that law requiring it to be compatible with the rule of law accordingly the interference must in the first place be in conformity with domestic law in addition the domestic law must meet the requirements of the rule of law so as to afford adequate legal protection against arbitrariness these matters were not addressed by the courts below although they accepted that the home secretary had acted unlawfully in failing to commence the forum bar provisions in  they did not treat that continuing breach of the law as meaning that the interference with the appellants article rights would not be in accordance with the law instead they treated the unlawfulness and any consequent prejudice suffered by the appellant through his inability to invoke the forum bar provisions as a matter which could be fully taken into account as a factor in the balancing exercise between the public and private interests involved see paras and above in other words they did not address the first question identified in para above and instead proceeded directly to the third question treating the home secretarys failure to comply with section of the act as having a potential bearing on that issue that was a mistaken approach as was said in in re gallagher v secretary of state for justice para the requirement that an interference must be in accordance with the law is an absolute requirement in meeting it convention states have no margin of appreciation under the convention and the executive and the legislature have no margin of discretion or judgment under domestic public law only if the test of legality is satisfied does the question arise whether the measures in question are necessary for some legitimate purpose and represent a proportionate means of achieving that purpose in relation to the question whether the acts of the lord advocate and the ish ministers were in accordance with the law it was submitted on their behalf and on behalf of the advocate general that the extradition proceedings had been conducted and the extradition order made in accordance with the provisions of the act which were in force those provisions were evidently in compliance with domestic law since they formed part of that law they met the convention requirements of accessibility and predictability the fact that a forum bar defence had not been available was irrelevant since the forum bar provisions were not in force and therefore did not form part of domestic law with which it was necessary to comply page the flaw in this argument is that the commencement provision section of the act was undoubtedly in force and formed part of domestic law the procedure followed was not in compliance with section as lord  had declared that remained the position following his decision as explained at paras above and as the courts below accepted the procedure was therefore not in compliance with domestic law it follows that it was not in accordance with the law within the meaning of article of the convention in the light of that conclusion the question which would have arisen on the lord advocates and advocate generals submissions as to whether the treatment of the appellant including the delay in complying with lord s order in any event complied with the rule of law does not require to be determined the consequence is that the acts of the lord advocate in conducting the extradition proceedings and the act of the ish ministers in making the extradition order were incompatible with the appellants convention rights and were therefore ultra vires by virtue of section of the  act in the language of paragraph d of schedule to the  act para above they were merely purported acts and were therefore invalid iv the appropriate remedy for these reasons would allow the appeal would leave it to the high court of justiciary to make such orders as fall to be made in consequence of this judgment in order to enable a new extradition hearing to be held before a different sheriff at that hearing it will be open to the appellant to rely on the forum bar provisions in addition to any other arguments properly available to him since the effect of this judgment is that the sheriff has not yet decided the existing extradition bar questions ie the questions in section of the act as those questions stood before their amendment by the commencement order made in  page'"
      ]
     },
     "execution_count": 16,
     "metadata": {},
     "output_type": "execute_result"
    }
   ],
   "source": [
    "dfc['clean_text'][0]"
   ]
  },
  {
   "cell_type": "code",
   "execution_count": 17,
   "id": "30a19cef",
   "metadata": {},
   "outputs": [
    {
     "data": {
      "text/html": [
       "<div>\n",
       "<style scoped>\n",
       "    .dataframe tbody tr th:only-of-type {\n",
       "        vertical-align: middle;\n",
       "    }\n",
       "\n",
       "    .dataframe tbody tr th {\n",
       "        vertical-align: top;\n",
       "    }\n",
       "\n",
       "    .dataframe thead th {\n",
       "        text-align: right;\n",
       "    }\n",
       "</style>\n",
       "<table border=\"1\" class=\"dataframe\">\n",
       "  <thead>\n",
       "    <tr style=\"text-align: right;\">\n",
       "      <th></th>\n",
       "      <th>text</th>\n",
       "      <th>clean_text</th>\n",
       "    </tr>\n",
       "  </thead>\n",
       "  <tbody>\n",
       "    <tr>\n",
       "      <th>0</th>\n",
       "      <td>Hilary Term [2022] UKSC 6 On appeal from: [202...</td>\n",
       "      <td>[hilary, term, appeal, craig, appellant, v, ma...</td>\n",
       "    </tr>\n",
       "    <tr>\n",
       "      <th>1</th>\n",
       "      <td>The reporting restrictions made by the High Co...</td>\n",
       "      <td>[reporting, restrictions, made, high, court, c...</td>\n",
       "    </tr>\n",
       "    <tr>\n",
       "      <th>2</th>\n",
       "      <td>Hilary Term [2022] UKSC 2 On appeal from: [202...</td>\n",
       "      <td>[hilary, term, appeal, admin, pwr, appellant, ...</td>\n",
       "    </tr>\n",
       "    <tr>\n",
       "      <th>3</th>\n",
       "      <td>Hilary Term [2022] UKSC 2 On appeal from: [202...</td>\n",
       "      <td>[hilary, term, appeal, admin, pwr, appellant, ...</td>\n",
       "    </tr>\n",
       "    <tr>\n",
       "      <th>4</th>\n",
       "      <td>THE COURT ORDERED that no one shall publish or...</td>\n",
       "      <td>[shall, publish, reveal, names, addresses, app...</td>\n",
       "    </tr>\n",
       "  </tbody>\n",
       "</table>\n",
       "</div>"
      ],
      "text/plain": [
       "                                                text  \\\n",
       "0  Hilary Term [2022] UKSC 6 On appeal from: [202...   \n",
       "1  The reporting restrictions made by the High Co...   \n",
       "2  Hilary Term [2022] UKSC 2 On appeal from: [202...   \n",
       "3  Hilary Term [2022] UKSC 2 On appeal from: [202...   \n",
       "4  THE COURT ORDERED that no one shall publish or...   \n",
       "\n",
       "                                          clean_text  \n",
       "0  [hilary, term, appeal, craig, appellant, v, ma...  \n",
       "1  [reporting, restrictions, made, high, court, c...  \n",
       "2  [hilary, term, appeal, admin, pwr, appellant, ...  \n",
       "3  [hilary, term, appeal, admin, pwr, appellant, ...  \n",
       "4  [shall, publish, reveal, names, addresses, app...  "
      ]
     },
     "execution_count": 17,
     "metadata": {},
     "output_type": "execute_result"
    }
   ],
   "source": [
    "stop_words = set(stopwords.words('english')) \n",
    "\n",
    "\n",
    "def remove_stopwords (text):\n",
    "    tokenized = word_tokenize(text)\n",
    "    without_stopwords = [word for word in tokenized if not word in stop_words]\n",
    "    return without_stopwords\n",
    "\n",
    "dfc['clean_text'] = dfc.clean_text.apply(remove_stopwords)\n",
    "\n",
    "dfc.head()"
   ]
  },
  {
   "cell_type": "code",
   "execution_count": 18,
   "id": "c0094056",
   "metadata": {},
   "outputs": [
    {
     "data": {
      "text/plain": [
       "\"\\ntext = nlp(dfc['clean_text'][0])\\nfor w in text.ents:\\n    print(w.text,w.label_)\\n\""
      ]
     },
     "execution_count": 18,
     "metadata": {},
     "output_type": "execute_result"
    }
   ],
   "source": [
    "\"\"\"\n",
    "text = nlp(dfc['clean_text'][0])\n",
    "for w in text.ents:\n",
    "    print(w.text,w.label_)\n",
    "\"\"\""
   ]
  },
  {
   "cell_type": "markdown",
   "id": "91275101",
   "metadata": {},
   "source": [
    "#### get a list of lists of words and lemmatize"
   ]
  },
  {
   "cell_type": "code",
   "execution_count": 19,
   "id": "d64f975b",
   "metadata": {},
   "outputs": [],
   "source": [
    "def lemma(text):\n",
    "    lemmatizer = WordNetLemmatizer() # Initiate lemmatizer\n",
    "    lemmatized = [lemmatizer.lemmatize(word) for word in text] # Lemmatize\n",
    "    return lemmatized\n",
    "\n",
    "dfc['clean_text'] = dfc.clean_text.apply(lemma)"
   ]
  },
  {
   "cell_type": "markdown",
   "id": "0ad0639b",
   "metadata": {},
   "source": [
    "# Preprocessing Part 2"
   ]
  },
  {
   "cell_type": "markdown",
   "id": "371eb663",
   "metadata": {},
   "source": [
    "Get a list of all the words that we know won't be used to extract context and will mislead our feature extraction"
   ]
  },
  {
   "cell_type": "code",
   "execution_count": 20,
   "id": "67208338",
   "metadata": {},
   "outputs": [],
   "source": [
    "word_to_remove = [\n",
    "'hilary', 'term', 'appeal', 'page', 'lord', 'lady', 'pwr',\n",
    " 'michaelmas', 'uksc', 'civ', 'ewca', 'president', 'appealant', 'court', 'judge', \n",
    "]"
   ]
  },
  {
   "cell_type": "code",
   "execution_count": 21,
   "id": "3f60aecb",
   "metadata": {},
   "outputs": [],
   "source": [
    "def remove_final(lst):\n",
    "    res = []\n",
    "    for word in lst:\n",
    "        if word in word_to_remove:\n",
    "            lst.remove(word)\n",
    "        elif word not in res:\n",
    "            res.append(word)\n",
    "    return res"
   ]
  },
  {
   "cell_type": "code",
   "execution_count": 22,
   "id": "317ffdd7",
   "metadata": {},
   "outputs": [
    {
     "data": {
      "text/plain": [
       "0      [appellant, v, majesty, advocate, government, ...\n",
       "1      [reporting, restriction, made, high, force, v,...\n",
       "2      [v, director, public, prosecution, respondent,...\n",
       "3      [v, director, public, prosecution, respondent,...\n",
       "4      [shall, publish, reveal, name, address, appell...\n",
       "                             ...                        \n",
       "941    [respondent, v, governing, body, admission, ap...\n",
       "942    [ahmed, mahad, previously, referred, appellant...\n",
       "943    [ahmed, mahad, previously, referred, appellant...\n",
       "944    [ahmed, mahad, previously, referred, appellant...\n",
       "945    [deputy, rodger, heard, appellant, case, instr...\n",
       "Name: clean_text, Length: 946, dtype: object"
      ]
     },
     "execution_count": 22,
     "metadata": {},
     "output_type": "execute_result"
    }
   ],
   "source": [
    "dfc['clean_text'] = dfc.clean_text.apply(remove_final)\n",
    "dfc['clean_text']"
   ]
  },
  {
   "cell_type": "markdown",
   "id": "08149a1c",
   "metadata": {},
   "source": [
    "# LDA : extract topic"
   ]
  },
  {
   "cell_type": "code",
   "execution_count": 23,
   "id": "fda70f74",
   "metadata": {},
   "outputs": [],
   "source": [
    "dfc['clean_text'] = dfc['clean_text'].astype('str')\n"
   ]
  },
  {
   "cell_type": "code",
   "execution_count": 24,
   "id": "6a66e178",
   "metadata": {},
   "outputs": [],
   "source": [
    "from sklearn.decomposition import LatentDirichletAllocation\n",
    "from sklearn.feature_extraction.text import CountVectorizer\n",
    "from sklearn.feature_extraction.text import TfidfVectorizer\n",
    "\n",
    "# vectorizer = CountVectorizer()\n",
    "\n",
    "# data_vectorized = vectorizer.fit_transform(dfc['clean_text'])\n"
   ]
  },
  {
   "cell_type": "code",
   "execution_count": 25,
   "id": "d40d444f",
   "metadata": {},
   "outputs": [
    {
     "name": "stderr",
     "output_type": "stream",
     "text": [
      "/Users/ablabarkallil/.pyenv/versions/3.8.12/envs/translating-the-law/lib/python3.8/site-packages/sklearn/utils/deprecation.py:87: FutureWarning: Function get_feature_names is deprecated; get_feature_names is deprecated in 1.0 and will be removed in 1.2. Please use get_feature_names_out instead.\n",
      "  warnings.warn(msg, category=FutureWarning)\n"
     ]
    },
    {
     "data": {
      "text/html": [
       "<div>\n",
       "<style scoped>\n",
       "    .dataframe tbody tr th:only-of-type {\n",
       "        vertical-align: middle;\n",
       "    }\n",
       "\n",
       "    .dataframe tbody tr th {\n",
       "        vertical-align: top;\n",
       "    }\n",
       "\n",
       "    .dataframe thead th {\n",
       "        text-align: right;\n",
       "    }\n",
       "</style>\n",
       "<table border=\"1\" class=\"dataframe\">\n",
       "  <thead>\n",
       "    <tr style=\"text-align: right;\">\n",
       "      <th></th>\n",
       "      <th>abandd</th>\n",
       "      <th>ability</th>\n",
       "      <th>able</th>\n",
       "      <th>abolished</th>\n",
       "      <th>abroad</th>\n",
       "      <th>absence</th>\n",
       "      <th>absent</th>\n",
       "      <th>absolute</th>\n",
       "      <th>absolutely</th>\n",
       "      <th>abstract</th>\n",
       "      <th>...</th>\n",
       "      <th>written</th>\n",
       "      <th>wrong</th>\n",
       "      <th>wrongful</th>\n",
       "      <th>wrongly</th>\n",
       "      <th>wrote</th>\n",
       "      <th>year</th>\n",
       "      <th>yes</th>\n",
       "      <th>yet</th>\n",
       "      <th>yield</th>\n",
       "      <th>young</th>\n",
       "    </tr>\n",
       "  </thead>\n",
       "  <tbody>\n",
       "    <tr>\n",
       "      <th>0</th>\n",
       "      <td>0.000000</td>\n",
       "      <td>0.000000</td>\n",
       "      <td>0.023951</td>\n",
       "      <td>0.0</td>\n",
       "      <td>0.000000</td>\n",
       "      <td>0.025623</td>\n",
       "      <td>0.044714</td>\n",
       "      <td>0.042863</td>\n",
       "      <td>0.000000</td>\n",
       "      <td>0.0</td>\n",
       "      <td>...</td>\n",
       "      <td>0.030743</td>\n",
       "      <td>0.025344</td>\n",
       "      <td>0.0</td>\n",
       "      <td>0.000000</td>\n",
       "      <td>0.000000</td>\n",
       "      <td>0.036288</td>\n",
       "      <td>0.000000</td>\n",
       "      <td>0.028729</td>\n",
       "      <td>0.00000</td>\n",
       "      <td>0.000000</td>\n",
       "    </tr>\n",
       "    <tr>\n",
       "      <th>1</th>\n",
       "      <td>0.000000</td>\n",
       "      <td>0.026324</td>\n",
       "      <td>0.000000</td>\n",
       "      <td>0.0</td>\n",
       "      <td>0.000000</td>\n",
       "      <td>0.018588</td>\n",
       "      <td>0.000000</td>\n",
       "      <td>0.000000</td>\n",
       "      <td>0.000000</td>\n",
       "      <td>0.0</td>\n",
       "      <td>...</td>\n",
       "      <td>0.022302</td>\n",
       "      <td>0.018385</td>\n",
       "      <td>0.0</td>\n",
       "      <td>0.030514</td>\n",
       "      <td>0.000000</td>\n",
       "      <td>0.000000</td>\n",
       "      <td>0.000000</td>\n",
       "      <td>0.000000</td>\n",
       "      <td>0.00000</td>\n",
       "      <td>0.000000</td>\n",
       "    </tr>\n",
       "    <tr>\n",
       "      <th>2</th>\n",
       "      <td>0.000000</td>\n",
       "      <td>0.000000</td>\n",
       "      <td>0.019513</td>\n",
       "      <td>0.0</td>\n",
       "      <td>0.042771</td>\n",
       "      <td>0.000000</td>\n",
       "      <td>0.000000</td>\n",
       "      <td>0.034920</td>\n",
       "      <td>0.000000</td>\n",
       "      <td>0.0</td>\n",
       "      <td>...</td>\n",
       "      <td>0.000000</td>\n",
       "      <td>0.000000</td>\n",
       "      <td>0.0</td>\n",
       "      <td>0.000000</td>\n",
       "      <td>0.000000</td>\n",
       "      <td>0.000000</td>\n",
       "      <td>0.000000</td>\n",
       "      <td>0.000000</td>\n",
       "      <td>0.00000</td>\n",
       "      <td>0.000000</td>\n",
       "    </tr>\n",
       "    <tr>\n",
       "      <th>3</th>\n",
       "      <td>0.000000</td>\n",
       "      <td>0.000000</td>\n",
       "      <td>0.019513</td>\n",
       "      <td>0.0</td>\n",
       "      <td>0.042771</td>\n",
       "      <td>0.000000</td>\n",
       "      <td>0.000000</td>\n",
       "      <td>0.034920</td>\n",
       "      <td>0.000000</td>\n",
       "      <td>0.0</td>\n",
       "      <td>...</td>\n",
       "      <td>0.000000</td>\n",
       "      <td>0.000000</td>\n",
       "      <td>0.0</td>\n",
       "      <td>0.000000</td>\n",
       "      <td>0.000000</td>\n",
       "      <td>0.000000</td>\n",
       "      <td>0.000000</td>\n",
       "      <td>0.000000</td>\n",
       "      <td>0.00000</td>\n",
       "      <td>0.000000</td>\n",
       "    </tr>\n",
       "    <tr>\n",
       "      <th>4</th>\n",
       "      <td>0.000000</td>\n",
       "      <td>0.000000</td>\n",
       "      <td>0.019329</td>\n",
       "      <td>0.0</td>\n",
       "      <td>0.042369</td>\n",
       "      <td>0.020679</td>\n",
       "      <td>0.036086</td>\n",
       "      <td>0.000000</td>\n",
       "      <td>0.000000</td>\n",
       "      <td>0.0</td>\n",
       "      <td>...</td>\n",
       "      <td>0.024811</td>\n",
       "      <td>0.000000</td>\n",
       "      <td>0.0</td>\n",
       "      <td>0.000000</td>\n",
       "      <td>0.035966</td>\n",
       "      <td>0.029286</td>\n",
       "      <td>0.000000</td>\n",
       "      <td>0.000000</td>\n",
       "      <td>0.04855</td>\n",
       "      <td>0.036576</td>\n",
       "    </tr>\n",
       "    <tr>\n",
       "      <th>...</th>\n",
       "      <td>...</td>\n",
       "      <td>...</td>\n",
       "      <td>...</td>\n",
       "      <td>...</td>\n",
       "      <td>...</td>\n",
       "      <td>...</td>\n",
       "      <td>...</td>\n",
       "      <td>...</td>\n",
       "      <td>...</td>\n",
       "      <td>...</td>\n",
       "      <td>...</td>\n",
       "      <td>...</td>\n",
       "      <td>...</td>\n",
       "      <td>...</td>\n",
       "      <td>...</td>\n",
       "      <td>...</td>\n",
       "      <td>...</td>\n",
       "      <td>...</td>\n",
       "      <td>...</td>\n",
       "      <td>...</td>\n",
       "      <td>...</td>\n",
       "    </tr>\n",
       "    <tr>\n",
       "      <th>941</th>\n",
       "      <td>0.029887</td>\n",
       "      <td>0.019678</td>\n",
       "      <td>0.012988</td>\n",
       "      <td>0.0</td>\n",
       "      <td>0.000000</td>\n",
       "      <td>0.013895</td>\n",
       "      <td>0.000000</td>\n",
       "      <td>0.023244</td>\n",
       "      <td>0.031128</td>\n",
       "      <td>0.0</td>\n",
       "      <td>...</td>\n",
       "      <td>0.000000</td>\n",
       "      <td>0.013744</td>\n",
       "      <td>0.0</td>\n",
       "      <td>0.000000</td>\n",
       "      <td>0.024167</td>\n",
       "      <td>0.000000</td>\n",
       "      <td>0.029887</td>\n",
       "      <td>0.015580</td>\n",
       "      <td>0.00000</td>\n",
       "      <td>0.024577</td>\n",
       "    </tr>\n",
       "    <tr>\n",
       "      <th>942</th>\n",
       "      <td>0.000000</td>\n",
       "      <td>0.032333</td>\n",
       "      <td>0.021341</td>\n",
       "      <td>0.0</td>\n",
       "      <td>0.046779</td>\n",
       "      <td>0.000000</td>\n",
       "      <td>0.000000</td>\n",
       "      <td>0.000000</td>\n",
       "      <td>0.000000</td>\n",
       "      <td>0.0</td>\n",
       "      <td>...</td>\n",
       "      <td>0.027393</td>\n",
       "      <td>0.022582</td>\n",
       "      <td>0.0</td>\n",
       "      <td>0.037480</td>\n",
       "      <td>0.000000</td>\n",
       "      <td>0.000000</td>\n",
       "      <td>0.000000</td>\n",
       "      <td>0.025599</td>\n",
       "      <td>0.00000</td>\n",
       "      <td>0.000000</td>\n",
       "    </tr>\n",
       "    <tr>\n",
       "      <th>943</th>\n",
       "      <td>0.000000</td>\n",
       "      <td>0.032333</td>\n",
       "      <td>0.021341</td>\n",
       "      <td>0.0</td>\n",
       "      <td>0.046779</td>\n",
       "      <td>0.000000</td>\n",
       "      <td>0.000000</td>\n",
       "      <td>0.000000</td>\n",
       "      <td>0.000000</td>\n",
       "      <td>0.0</td>\n",
       "      <td>...</td>\n",
       "      <td>0.027393</td>\n",
       "      <td>0.022582</td>\n",
       "      <td>0.0</td>\n",
       "      <td>0.037480</td>\n",
       "      <td>0.000000</td>\n",
       "      <td>0.000000</td>\n",
       "      <td>0.000000</td>\n",
       "      <td>0.025599</td>\n",
       "      <td>0.00000</td>\n",
       "      <td>0.000000</td>\n",
       "    </tr>\n",
       "    <tr>\n",
       "      <th>944</th>\n",
       "      <td>0.000000</td>\n",
       "      <td>0.032333</td>\n",
       "      <td>0.021341</td>\n",
       "      <td>0.0</td>\n",
       "      <td>0.046779</td>\n",
       "      <td>0.000000</td>\n",
       "      <td>0.000000</td>\n",
       "      <td>0.000000</td>\n",
       "      <td>0.000000</td>\n",
       "      <td>0.0</td>\n",
       "      <td>...</td>\n",
       "      <td>0.027393</td>\n",
       "      <td>0.022582</td>\n",
       "      <td>0.0</td>\n",
       "      <td>0.037480</td>\n",
       "      <td>0.000000</td>\n",
       "      <td>0.000000</td>\n",
       "      <td>0.000000</td>\n",
       "      <td>0.025599</td>\n",
       "      <td>0.00000</td>\n",
       "      <td>0.000000</td>\n",
       "    </tr>\n",
       "    <tr>\n",
       "      <th>945</th>\n",
       "      <td>0.000000</td>\n",
       "      <td>0.000000</td>\n",
       "      <td>0.024016</td>\n",
       "      <td>0.0</td>\n",
       "      <td>0.000000</td>\n",
       "      <td>0.000000</td>\n",
       "      <td>0.000000</td>\n",
       "      <td>0.000000</td>\n",
       "      <td>0.000000</td>\n",
       "      <td>0.0</td>\n",
       "      <td>...</td>\n",
       "      <td>0.030826</td>\n",
       "      <td>0.025412</td>\n",
       "      <td>0.0</td>\n",
       "      <td>0.000000</td>\n",
       "      <td>0.000000</td>\n",
       "      <td>0.000000</td>\n",
       "      <td>0.000000</td>\n",
       "      <td>0.028806</td>\n",
       "      <td>0.00000</td>\n",
       "      <td>0.000000</td>\n",
       "    </tr>\n",
       "  </tbody>\n",
       "</table>\n",
       "<p>946 rows × 3171 columns</p>\n",
       "</div>"
      ],
      "text/plain": [
       "       abandd   ability      able  abolished    abroad   absence    absent  \\\n",
       "0    0.000000  0.000000  0.023951        0.0  0.000000  0.025623  0.044714   \n",
       "1    0.000000  0.026324  0.000000        0.0  0.000000  0.018588  0.000000   \n",
       "2    0.000000  0.000000  0.019513        0.0  0.042771  0.000000  0.000000   \n",
       "3    0.000000  0.000000  0.019513        0.0  0.042771  0.000000  0.000000   \n",
       "4    0.000000  0.000000  0.019329        0.0  0.042369  0.020679  0.036086   \n",
       "..        ...       ...       ...        ...       ...       ...       ...   \n",
       "941  0.029887  0.019678  0.012988        0.0  0.000000  0.013895  0.000000   \n",
       "942  0.000000  0.032333  0.021341        0.0  0.046779  0.000000  0.000000   \n",
       "943  0.000000  0.032333  0.021341        0.0  0.046779  0.000000  0.000000   \n",
       "944  0.000000  0.032333  0.021341        0.0  0.046779  0.000000  0.000000   \n",
       "945  0.000000  0.000000  0.024016        0.0  0.000000  0.000000  0.000000   \n",
       "\n",
       "     absolute  absolutely  abstract  ...   written     wrong  wrongful  \\\n",
       "0    0.042863    0.000000       0.0  ...  0.030743  0.025344       0.0   \n",
       "1    0.000000    0.000000       0.0  ...  0.022302  0.018385       0.0   \n",
       "2    0.034920    0.000000       0.0  ...  0.000000  0.000000       0.0   \n",
       "3    0.034920    0.000000       0.0  ...  0.000000  0.000000       0.0   \n",
       "4    0.000000    0.000000       0.0  ...  0.024811  0.000000       0.0   \n",
       "..        ...         ...       ...  ...       ...       ...       ...   \n",
       "941  0.023244    0.031128       0.0  ...  0.000000  0.013744       0.0   \n",
       "942  0.000000    0.000000       0.0  ...  0.027393  0.022582       0.0   \n",
       "943  0.000000    0.000000       0.0  ...  0.027393  0.022582       0.0   \n",
       "944  0.000000    0.000000       0.0  ...  0.027393  0.022582       0.0   \n",
       "945  0.000000    0.000000       0.0  ...  0.030826  0.025412       0.0   \n",
       "\n",
       "      wrongly     wrote      year       yes       yet    yield     young  \n",
       "0    0.000000  0.000000  0.036288  0.000000  0.028729  0.00000  0.000000  \n",
       "1    0.030514  0.000000  0.000000  0.000000  0.000000  0.00000  0.000000  \n",
       "2    0.000000  0.000000  0.000000  0.000000  0.000000  0.00000  0.000000  \n",
       "3    0.000000  0.000000  0.000000  0.000000  0.000000  0.00000  0.000000  \n",
       "4    0.000000  0.035966  0.029286  0.000000  0.000000  0.04855  0.036576  \n",
       "..        ...       ...       ...       ...       ...      ...       ...  \n",
       "941  0.000000  0.024167  0.000000  0.029887  0.015580  0.00000  0.024577  \n",
       "942  0.037480  0.000000  0.000000  0.000000  0.025599  0.00000  0.000000  \n",
       "943  0.037480  0.000000  0.000000  0.000000  0.025599  0.00000  0.000000  \n",
       "944  0.037480  0.000000  0.000000  0.000000  0.025599  0.00000  0.000000  \n",
       "945  0.000000  0.000000  0.000000  0.000000  0.028806  0.00000  0.000000  \n",
       "\n",
       "[946 rows x 3171 columns]"
      ]
     },
     "execution_count": 25,
     "metadata": {},
     "output_type": "execute_result"
    }
   ],
   "source": [
    "tf_idf_vectorizer = TfidfVectorizer(min_df=0.1)\n",
    "\n",
    "X = tf_idf_vectorizer.fit_transform(dfc['clean_text'])\n",
    "\n",
    "X.toarray()\n",
    "\n",
    "pd.DataFrame(X.toarray(),columns = tf_idf_vectorizer.get_feature_names())"
   ]
  },
  {
   "cell_type": "code",
   "execution_count": 26,
   "id": "bdd6834a",
   "metadata": {},
   "outputs": [],
   "source": [
    "\n",
    "lda_model = LatentDirichletAllocation(n_components=20, learning_method='online')\n",
    "\n",
    "lda_vectors = lda_model.fit_transform(X)"
   ]
  },
  {
   "cell_type": "code",
   "execution_count": 27,
   "id": "6d18a0e6",
   "metadata": {},
   "outputs": [
    {
     "name": "stdout",
     "output_type": "stream",
     "text": [
      "Topic 0:\n",
      "[('requisite', 0.05240385352163568), ('balancing', 0.052314843207528994), ('line', 0.0522711601701398), ('possible', 0.05223455967171398), ('earlier', 0.052234154846940016), ('inherent', 0.052219244601542356), ('practicable', 0.05221810884668959), ('play', 0.05221604859698206), ('showed', 0.05221040068731092), ('settled', 0.05220564942353627)]\n",
      "Topic 1:\n",
      "[('foreign', 0.05236309514618423), ('sphere', 0.05227164520490249), ('leaving', 0.052270032120496523), ('conclud', 0.052248888266671525), ('contact', 0.05223383244336926), ('higher', 0.052229213997579974), ('dependent', 0.05220097719662375), ('crown', 0.052191903768205095), ('pleaded', 0.05219006509502056), ('refusing', 0.052162070585472994)]\n",
      "Topic 2:\n",
      "[('depended', 0.05237751065012326), ('institution', 0.05234616204209677), ('extent', 0.0523450637915102), ('security', 0.05234157149251969), ('submitted', 0.05231677357616037), ('period', 0.05229173553422748), ('executive', 0.05228262498747113), ('considering', 0.05225644449558371), ('content', 0.05225541609185552), ('commented', 0.05223621268636479)]\n",
      "Topic 3:\n",
      "[('para', 15.90273786464402), ('heard', 15.821809766887734), ('case', 15.815174679134158), ('appellant', 15.81270205370426), ('also', 15.810841601663215), ('may', 15.809596577913576), ('would', 15.80804499966262), ('respondent', 15.806558539506808), ('whether', 15.804780380837112), ('reason', 15.798538103302477)]\n",
      "Topic 4:\n",
      "[('assessment', 0.05247019809569499), ('ask', 0.05239551009864666), ('tenant', 0.05238122198765866), ('direct', 0.052361854797951274), ('condition', 0.0523463593119946), ('contrary', 0.05233107394865659), ('reflected', 0.0523295234710839), ('expressed', 0.0523236146831844), ('men', 0.05232083914178978), ('overlap', 0.052304828002549486)]\n",
      "Topic 5:\n",
      "[('recognised', 0.05230387151435948), ('adding', 0.05229483840300328), ('substantial', 0.052294519762218744), ('triggered', 0.05228367992648151), ('human', 0.05228341691319325), ('governor', 0.05228206372965838), ('patient', 0.052281937601009625), ('numerous', 0.05227917807160885), ('prohibition', 0.05227012406506153), ('line', 0.05226188549901141)]\n",
      "Topic 6:\n",
      "[('thereafter', 0.05251132882575403), ('like', 0.05250699942199189), ('took', 0.05246420429483134), ('subject', 0.052444019777794934), ('negligent', 0.05240251984570511), ('expense', 0.05239150208938694), ('firm', 0.05236134076939143), ('developed', 0.052345887875147115), ('failed', 0.05234246262701068), ('briefly', 0.05233533439803889)]\n",
      "Topic 7:\n",
      "[('followed', 0.052706957623700534), ('across', 0.05253769855574466), ('resolution', 0.05248206006935922), ('appellate', 0.0524695612363396), ('thus', 0.05245217193937692), ('ensure', 0.052443879958605055), ('attempt', 0.052440940567416626), ('exceeded', 0.05242933442657323), ('supplied', 0.05241786407760651), ('award', 0.05241651553408322)]\n",
      "Topic 8:\n",
      "[('operation', 0.05259334518328862), ('safe', 0.052440686173712066), ('size', 0.05237589647825765), ('merit', 0.052285382423856434), ('neutral', 0.05228511274596019), ('notwithstanding', 0.05225209841465408), ('may', 0.05224296286116954), ('sustain', 0.05221759583748944), ('particular', 0.05221521581057313), ('impermissible', 0.052214223482834915)]\n",
      "Topic 9:\n",
      "[('observation', 0.052491309965199566), ('exercise', 0.052378597742531674), ('centre', 0.05235498572358182), ('information', 0.05232559807772201), ('could', 0.05231673543664406), ('publish', 0.0522897603055944), ('prohibits', 0.05228863141764342), ('submit', 0.052280112577951524), ('process', 0.052278435577674365), ('pending', 0.0522570789906084)]\n",
      "Topic 10:\n",
      "[('introduced', 0.05342760825796152), ('designed', 0.053396137856217045), ('step', 0.053375186109228784), ('damage', 0.05337226611991362), ('criminal', 0.053338526906704514), ('series', 0.05332592973280846), ('breach', 0.05331817827810269), ('another', 0.05327193274846309), ('result', 0.05327181854865205), ('remedy', 0.05326022184593295)]\n",
      "Topic 11:\n",
      "[('lend', 0.052353097493544276), ('senior', 0.052242367794305675), ('unnecessary', 0.05223340253839047), ('territory', 0.052200598127219285), ('knowing', 0.0521888401912149), ('presence', 0.0521849046966009), ('obligation', 0.052179833289947346), ('comply', 0.05217244416923485), ('creates', 0.05217033749273192), ('payable', 0.052165934461414765)]\n",
      "Topic 12:\n",
      "[('decide', 0.05285579629384302), ('inference', 0.0527931712357959), ('construed', 0.05259211917430266), ('careful', 0.05253050994692395), ('amended', 0.05251038252562666), ('responded', 0.05250992164517541), ('recognises', 0.05249515043450463), ('recognition', 0.052494872185302896), ('promote', 0.05249425373936822), ('alleged', 0.05249279051255969)]\n",
      "Topic 13:\n",
      "[('expressing', 0.05244408191328244), ('desire', 0.05232088308338423), ('understood', 0.05231406071398674), ('permitted', 0.05231098651675556), ('outlined', 0.052291427651248876), ('favour', 0.05228703293580672), ('considerable', 0.052273326507273774), ('exercisable', 0.05226173482538071), ('exceed', 0.052258494705991546), ('commence', 0.052254919519049384)]\n",
      "Topic 14:\n",
      "[('date', 0.05237936520323968), ('elsewhere', 0.05235704792834345), ('wish', 0.0523144002557141), ('absence', 0.052308326464550706), ('enjoy', 0.052299437069075486), ('requiring', 0.05229853542754678), ('considers', 0.05227759507170192), ('limited', 0.05226027793093653), ('obliged', 0.05225644585598918), ('placed', 0.05225552405805055)]\n",
      "Topic 15:\n",
      "[('minor', 0.05247051766408123), ('disposed', 0.05246049565941594), ('whenever', 0.0523922721497246), ('reinforced', 0.05239119638301757), ('suggested', 0.05236055278930182), ('engage', 0.0523531886406268), ('following', 0.05234448548145747), ('drug', 0.052327999705401786), ('prevention', 0.052323958223304455), ('took', 0.05231114397489883)]\n",
      "Topic 16:\n",
      "[('structured', 0.052369101035535284), ('solicitor', 0.05236765902113474), ('raise', 0.05236751092435894), ('length', 0.05235818496775869), ('suspicion', 0.052339838616573056), ('ascertaining', 0.052329240878747824), ('permitted', 0.05232825331335611), ('divided', 0.052312491251789876), ('finance', 0.052308573722962576), ('human', 0.05229823911526369)]\n",
      "Topic 17:\n",
      "[('time', 0.05232655589497178), ('prohibition', 0.05228989956883945), ('far', 0.052278033319691365), ('apparently', 0.05226264621735979), ('trading', 0.05223609879963623), ('chooses', 0.05223410727075112), ('concerned', 0.052221219242113495), ('payable', 0.052220454990863654), ('construed', 0.05221097167660357), ('expression', 0.05220943986364405)]\n",
      "Topic 18:\n",
      "[('operate', 0.052527643683917796), ('enjoy', 0.05243603150324162), ('narrow', 0.05239877777554976), ('scope', 0.05239085650873648), ('satisfactory', 0.05238610906904076), ('applicant', 0.05236218223014945), ('identical', 0.0523496293675212), ('enough', 0.05231687546877628), ('regulation', 0.0523088245402441), ('bear', 0.05230661616090719)]\n",
      "Topic 19:\n"
     ]
    },
    {
     "name": "stderr",
     "output_type": "stream",
     "text": [
      "/Users/ablabarkallil/.pyenv/versions/3.8.12/envs/translating-the-law/lib/python3.8/site-packages/sklearn/utils/deprecation.py:87: FutureWarning: Function get_feature_names is deprecated; get_feature_names is deprecated in 1.0 and will be removed in 1.2. Please use get_feature_names_out instead.\n",
      "  warnings.warn(msg, category=FutureWarning)\n"
     ]
    },
    {
     "name": "stdout",
     "output_type": "stream",
     "text": [
      "[('precludes', 0.052233204184190016), ('intends', 0.05219538783077494), ('significantly', 0.05217166934349457), ('discovered', 0.05215827577000676), ('insurer', 0.052148495884073005), ('original', 0.052130497845479434), ('wrong', 0.05211838924853605), ('road', 0.05210726493818346), ('attack', 0.05210713468847153), ('count', 0.05209830481837035)]\n"
     ]
    }
   ],
   "source": [
    "def print_topics(model, tf_idf_vectorizer):\n",
    "    for idx, topic in enumerate(model.components_):\n",
    "        print(\"Topic %d:\" % (idx))\n",
    "        print([(tf_idf_vectorizer.get_feature_names()[i], topic[i])\n",
    "                        for i in topic.argsort()[:-10 - 1:-1]])\n",
    "        \n",
    "\n",
    "print_topics(lda_model, tf_idf_vectorizer)"
   ]
  },
  {
   "cell_type": "markdown",
   "id": "aa770672",
   "metadata": {},
   "source": [
    "# Initialize Model"
   ]
  },
  {
   "cell_type": "code",
   "execution_count": 28,
   "id": "068de6b3",
   "metadata": {},
   "outputs": [],
   "source": [
    "import gensim\n",
    "from gensim.test.utils import common_texts\n",
    "from gensim.models.doc2vec import Doc2Vec, TaggedDocument"
   ]
  }
 ],
 "metadata": {
  "kernelspec": {
   "display_name": "Python 3 (ipykernel)",
   "language": "python",
   "name": "python3"
  },
  "language_info": {
   "codemirror_mode": {
    "name": "ipython",
    "version": 3
   },
   "file_extension": ".py",
   "mimetype": "text/x-python",
   "name": "python",
   "nbconvert_exporter": "python",
   "pygments_lexer": "ipython3",
   "version": "3.8.12"
  }
 },
 "nbformat": 4,
 "nbformat_minor": 5
}
