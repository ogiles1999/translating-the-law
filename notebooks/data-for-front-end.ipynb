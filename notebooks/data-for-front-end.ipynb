{
 "cells": [
  {
   "cell_type": "code",
   "execution_count": 1,
   "id": "317e2358",
   "metadata": {},
   "outputs": [
    {
     "ename": "ImportError",
     "evalue": "cannot import name 'open_from_bucket' from 'translating_the_law.utils.get_from_bucket' (/Users/katiebaldewin/.pyenv/versions/3.8.12/envs/translating-the-law/lib/python3.8/site-packages/translating_the_law/utils/get_from_bucket.py)",
     "output_type": "error",
     "traceback": [
      "\u001b[0;31m---------------------------------------------------------------------------\u001b[0m",
      "\u001b[0;31mImportError\u001b[0m                               Traceback (most recent call last)",
      "Input \u001b[0;32mIn [1]\u001b[0m, in \u001b[0;36m<cell line: 1>\u001b[0;34m()\u001b[0m\n\u001b[0;32m----> 1\u001b[0m \u001b[38;5;28;01mfrom\u001b[39;00m \u001b[38;5;21;01mtranslating_the_law\u001b[39;00m\u001b[38;5;21;01m.\u001b[39;00m\u001b[38;5;21;01mutils\u001b[39;00m\u001b[38;5;21;01m.\u001b[39;00m\u001b[38;5;21;01mget_from_bucket\u001b[39;00m \u001b[38;5;28;01mimport\u001b[39;00m open_from_bucket\n",
      "\u001b[0;31mImportError\u001b[0m: cannot import name 'open_from_bucket' from 'translating_the_law.utils.get_from_bucket' (/Users/katiebaldewin/.pyenv/versions/3.8.12/envs/translating-the-law/lib/python3.8/site-packages/translating_the_law/utils/get_from_bucket.py)"
     ]
    }
   ],
   "source": [
    "from translating_the_law.utils.get_from_bucket import o"
   ]
  },
  {
   "cell_type": "code",
   "execution_count": null,
   "id": "e9351a2a",
   "metadata": {},
   "outputs": [],
   "source": []
  }
 ],
 "metadata": {
  "kernelspec": {
   "display_name": "Python 3 (ipykernel)",
   "language": "python",
   "name": "python3"
  },
  "language_info": {
   "codemirror_mode": {
    "name": "ipython",
    "version": 3
   },
   "file_extension": ".py",
   "mimetype": "text/x-python",
   "name": "python",
   "nbconvert_exporter": "python",
   "pygments_lexer": "ipython3",
   "version": "3.8.12"
  },
  "toc": {
   "base_numbering": 1,
   "nav_menu": {},
   "number_sections": true,
   "sideBar": true,
   "skip_h1_title": false,
   "title_cell": "Table of Contents",
   "title_sidebar": "Contents",
   "toc_cell": false,
   "toc_position": {},
   "toc_section_display": true,
   "toc_window_display": false
  }
 },
 "nbformat": 4,
 "nbformat_minor": 5
}
