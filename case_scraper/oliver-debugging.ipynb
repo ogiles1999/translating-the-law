{
 "cells": [
  {
   "cell_type": "code",
   "execution_count": 1,
   "id": "3b84ea9d-1b2a-41d2-a1d0-2e86cf312be8",
   "metadata": {},
   "outputs": [],
   "source": [
    "from pandas_jsonlines.read_jsonlines import read_jsonlines"
   ]
  },
  {
   "cell_type": "code",
   "execution_count": 2,
   "id": "cb3cd308-1771-46ea-8810-0a28c1c27c4e",
   "metadata": {},
   "outputs": [],
   "source": [
    "links = read_jsonlines(\"all.jsonlines\")"
   ]
  },
  {
   "cell_type": "code",
   "execution_count": 3,
   "id": "df574383-f15b-4792-98fb-7c58e2989ed6",
   "metadata": {},
   "outputs": [
    {
     "data": {
      "text/plain": [
       "link              0\n",
       "judgment_link     4\n",
       "pdf_link         12\n",
       "dtype: int64"
      ]
     },
     "execution_count": 3,
     "metadata": {},
     "output_type": "execute_result"
    }
   ],
   "source": [
    "links.isnull().sum()"
   ]
  },
  {
   "cell_type": "code",
   "execution_count": 4,
   "id": "3989b28b-be03-4668-8e55-0e9397867590",
   "metadata": {},
   "outputs": [
    {
     "data": {
      "text/html": [
       "<div>\n",
       "<style scoped>\n",
       "    .dataframe tbody tr th:only-of-type {\n",
       "        vertical-align: middle;\n",
       "    }\n",
       "\n",
       "    .dataframe tbody tr th {\n",
       "        vertical-align: top;\n",
       "    }\n",
       "\n",
       "    .dataframe thead th {\n",
       "        text-align: right;\n",
       "    }\n",
       "</style>\n",
       "<table border=\"1\" class=\"dataframe\">\n",
       "  <thead>\n",
       "    <tr style=\"text-align: right;\">\n",
       "      <th></th>\n",
       "      <th>link</th>\n",
       "      <th>judgment_link</th>\n",
       "      <th>pdf_link</th>\n",
       "    </tr>\n",
       "  </thead>\n",
       "  <tbody>\n",
       "    <tr>\n",
       "      <th>0</th>\n",
       "      <td>&lt;HtmlResponse 200 https://www.supremecourt.uk/...</td>\n",
       "      <td>/cases/docs/uksc-2020-0185-judgment.pdf</td>\n",
       "      <td>/press-summary/uksc-2020-0185.html</td>\n",
       "    </tr>\n",
       "    <tr>\n",
       "      <th>1</th>\n",
       "      <td>&lt;HtmlResponse 200 https://www.supremecourt.uk/...</td>\n",
       "      <td>/cases/docs/uksc-2020-0122-judgment.pdf</td>\n",
       "      <td>/press-summary/uksc-2020-0122.html</td>\n",
       "    </tr>\n",
       "    <tr>\n",
       "      <th>2</th>\n",
       "      <td>&lt;HtmlResponse 200 https://www.supremecourt.uk/...</td>\n",
       "      <td>/cases/docs/uksc-2020-0076-judgment.pdf</td>\n",
       "      <td>/press-summary/uksc-2020-0076.html</td>\n",
       "    </tr>\n",
       "    <tr>\n",
       "      <th>3</th>\n",
       "      <td>&lt;HtmlResponse 200 https://www.supremecourt.uk/...</td>\n",
       "      <td>/cases/docs/uksc-2020-0076-judgment.pdf</td>\n",
       "      <td>/press-summary/uksc-2020-0076.html</td>\n",
       "    </tr>\n",
       "    <tr>\n",
       "      <th>4</th>\n",
       "      <td>&lt;HtmlResponse 200 https://www.supremecourt.uk/...</td>\n",
       "      <td>/cases/docs/uksc-2021-0062-judgment.pdf</td>\n",
       "      <td>/press-summary/uksc-2021-0062.html</td>\n",
       "    </tr>\n",
       "    <tr>\n",
       "      <th>...</th>\n",
       "      <td>...</td>\n",
       "      <td>...</td>\n",
       "      <td>...</td>\n",
       "    </tr>\n",
       "    <tr>\n",
       "      <th>976</th>\n",
       "      <td>&lt;HtmlResponse 200 https://www.supremecourt.uk/...</td>\n",
       "      <td>docs/uksc-2009-0105-judgment.pdf</td>\n",
       "      <td>docs/uksc-2009-0105-press-summary.pdf</td>\n",
       "    </tr>\n",
       "    <tr>\n",
       "      <th>977</th>\n",
       "      <td>&lt;HtmlResponse 200 https://www.supremecourt.uk/...</td>\n",
       "      <td>docs/uksc-2009-0095-judgment.pdf</td>\n",
       "      <td>docs/uksc-2009-0095-press-summary.pdf</td>\n",
       "    </tr>\n",
       "    <tr>\n",
       "      <th>978</th>\n",
       "      <td>&lt;HtmlResponse 200 https://www.supremecourt.uk/...</td>\n",
       "      <td>docs/uksc-2009-0116-judgment.pdf</td>\n",
       "      <td>docs/uksc-2009-0116-press-summary.pdf</td>\n",
       "    </tr>\n",
       "    <tr>\n",
       "      <th>979</th>\n",
       "      <td>&lt;HtmlResponse 200 https://www.supremecourt.uk/...</td>\n",
       "      <td>docs/uksc-2009-0120-judgment.pdf</td>\n",
       "      <td>docs/uksc-2009-0120-press-summary.pdf</td>\n",
       "    </tr>\n",
       "    <tr>\n",
       "      <th>980</th>\n",
       "      <td>&lt;HtmlResponse 200 https://www.supremecourt.uk/...</td>\n",
       "      <td>docs/uksc-2009-0184-judgment.pdf</td>\n",
       "      <td>docs/uksc-2009-0184-press-summary.pdf</td>\n",
       "    </tr>\n",
       "  </tbody>\n",
       "</table>\n",
       "<p>981 rows × 3 columns</p>\n",
       "</div>"
      ],
      "text/plain": [
       "                                                  link  \\\n",
       "0    <HtmlResponse 200 https://www.supremecourt.uk/...   \n",
       "1    <HtmlResponse 200 https://www.supremecourt.uk/...   \n",
       "2    <HtmlResponse 200 https://www.supremecourt.uk/...   \n",
       "3    <HtmlResponse 200 https://www.supremecourt.uk/...   \n",
       "4    <HtmlResponse 200 https://www.supremecourt.uk/...   \n",
       "..                                                 ...   \n",
       "976  <HtmlResponse 200 https://www.supremecourt.uk/...   \n",
       "977  <HtmlResponse 200 https://www.supremecourt.uk/...   \n",
       "978  <HtmlResponse 200 https://www.supremecourt.uk/...   \n",
       "979  <HtmlResponse 200 https://www.supremecourt.uk/...   \n",
       "980  <HtmlResponse 200 https://www.supremecourt.uk/...   \n",
       "\n",
       "                               judgment_link  \\\n",
       "0    /cases/docs/uksc-2020-0185-judgment.pdf   \n",
       "1    /cases/docs/uksc-2020-0122-judgment.pdf   \n",
       "2    /cases/docs/uksc-2020-0076-judgment.pdf   \n",
       "3    /cases/docs/uksc-2020-0076-judgment.pdf   \n",
       "4    /cases/docs/uksc-2021-0062-judgment.pdf   \n",
       "..                                       ...   \n",
       "976         docs/uksc-2009-0105-judgment.pdf   \n",
       "977         docs/uksc-2009-0095-judgment.pdf   \n",
       "978         docs/uksc-2009-0116-judgment.pdf   \n",
       "979         docs/uksc-2009-0120-judgment.pdf   \n",
       "980         docs/uksc-2009-0184-judgment.pdf   \n",
       "\n",
       "                                  pdf_link  \n",
       "0       /press-summary/uksc-2020-0185.html  \n",
       "1       /press-summary/uksc-2020-0122.html  \n",
       "2       /press-summary/uksc-2020-0076.html  \n",
       "3       /press-summary/uksc-2020-0076.html  \n",
       "4       /press-summary/uksc-2021-0062.html  \n",
       "..                                     ...  \n",
       "976  docs/uksc-2009-0105-press-summary.pdf  \n",
       "977  docs/uksc-2009-0095-press-summary.pdf  \n",
       "978  docs/uksc-2009-0116-press-summary.pdf  \n",
       "979  docs/uksc-2009-0120-press-summary.pdf  \n",
       "980  docs/uksc-2009-0184-press-summary.pdf  \n",
       "\n",
       "[981 rows x 3 columns]"
      ]
     },
     "execution_count": 4,
     "metadata": {},
     "output_type": "execute_result"
    }
   ],
   "source": [
    "links"
   ]
  },
  {
   "cell_type": "code",
   "execution_count": 5,
   "id": "599ba5b3-d59a-44b8-a95a-418f8ad97db8",
   "metadata": {},
   "outputs": [],
   "source": [
    "import pandas as pd"
   ]
  },
  {
   "cell_type": "code",
   "execution_count": 6,
   "id": "2afde5c9-f81d-4760-9069-f915edfb8ae0",
   "metadata": {},
   "outputs": [],
   "source": [
    "pd.set_option(\"display.max_columns\", None)"
   ]
  },
  {
   "cell_type": "code",
   "execution_count": 7,
   "id": "506481d7-642e-466b-ab5a-ce0dc3dd3aeb",
   "metadata": {},
   "outputs": [
    {
     "data": {
      "text/plain": [
       "'<HtmlResponse 200 https://www.supremecourt.uk/cases/uksc-2012-0076.html>'"
      ]
     },
     "execution_count": 7,
     "metadata": {},
     "output_type": "execute_result"
    }
   ],
   "source": [
    "links[links.judgment_link.isnull()].iloc[3][0]"
   ]
  },
  {
   "cell_type": "code",
   "execution_count": 9,
   "id": "92b29e37-5fea-4fcd-a918-0a5a27f5cf3f",
   "metadata": {},
   "outputs": [
    {
     "data": {
      "text/plain": [
       "'<HtmlResponse 200 https://www.supremecourt.uk/cases/uksc-2015-0002.html>'"
      ]
     },
     "execution_count": 9,
     "metadata": {},
     "output_type": "execute_result"
    }
   ],
   "source": [
    "links[links.pdf_link.isnull()].iloc[0][0]"
   ]
  },
  {
   "cell_type": "code",
   "execution_count": 15,
   "id": "2e677b68-fee2-4b2b-b818-84d576a08211",
   "metadata": {},
   "outputs": [
    {
     "ename": "KeyError",
     "evalue": "0",
     "output_type": "error",
     "traceback": [
      "\u001b[0;31m---------------------------------------------------------------------------\u001b[0m",
      "\u001b[0;31mKeyError\u001b[0m                                  Traceback (most recent call last)",
      "\u001b[0;32m~/.local/lib/python3.10/site-packages/pandas/core/indexes/base.py\u001b[0m in \u001b[0;36mget_loc\u001b[0;34m(self, key, method, tolerance)\u001b[0m\n\u001b[1;32m   3620\u001b[0m             \u001b[0;32mtry\u001b[0m\u001b[0;34m:\u001b[0m\u001b[0;34m\u001b[0m\u001b[0;34m\u001b[0m\u001b[0m\n\u001b[0;32m-> 3621\u001b[0;31m                 \u001b[0;32mreturn\u001b[0m \u001b[0mself\u001b[0m\u001b[0;34m.\u001b[0m\u001b[0m_engine\u001b[0m\u001b[0;34m.\u001b[0m\u001b[0mget_loc\u001b[0m\u001b[0;34m(\u001b[0m\u001b[0mcasted_key\u001b[0m\u001b[0;34m)\u001b[0m\u001b[0;34m\u001b[0m\u001b[0;34m\u001b[0m\u001b[0m\n\u001b[0m\u001b[1;32m   3622\u001b[0m             \u001b[0;32mexcept\u001b[0m \u001b[0mKeyError\u001b[0m \u001b[0;32mas\u001b[0m \u001b[0merr\u001b[0m\u001b[0;34m:\u001b[0m\u001b[0;34m\u001b[0m\u001b[0;34m\u001b[0m\u001b[0m\n",
      "\u001b[0;32m~/.local/lib/python3.10/site-packages/pandas/_libs/index.pyx\u001b[0m in \u001b[0;36mpandas._libs.index.IndexEngine.get_loc\u001b[0;34m()\u001b[0m\n",
      "\u001b[0;32m~/.local/lib/python3.10/site-packages/pandas/_libs/index.pyx\u001b[0m in \u001b[0;36mpandas._libs.index.IndexEngine.get_loc\u001b[0;34m()\u001b[0m\n",
      "\u001b[0;32mpandas/_libs/hashtable_class_helper.pxi\u001b[0m in \u001b[0;36mpandas._libs.hashtable.PyObjectHashTable.get_item\u001b[0;34m()\u001b[0m\n",
      "\u001b[0;32mpandas/_libs/hashtable_class_helper.pxi\u001b[0m in \u001b[0;36mpandas._libs.hashtable.PyObjectHashTable.get_item\u001b[0;34m()\u001b[0m\n",
      "\u001b[0;31mKeyError\u001b[0m: 0",
      "\nThe above exception was the direct cause of the following exception:\n",
      "\u001b[0;31mKeyError\u001b[0m                                  Traceback (most recent call last)",
      "\u001b[0;32m/tmp/ipykernel_117299/154632045.py\u001b[0m in \u001b[0;36m<module>\u001b[0;34m\u001b[0m\n\u001b[0;32m----> 1\u001b[0;31m \u001b[0mlinks\u001b[0m\u001b[0;34m[\u001b[0m\u001b[0;36m0\u001b[0m\u001b[0;34m]\u001b[0m\u001b[0;34m\u001b[0m\u001b[0;34m\u001b[0m\u001b[0m\n\u001b[0m",
      "\u001b[0;32m~/.local/lib/python3.10/site-packages/pandas/core/frame.py\u001b[0m in \u001b[0;36m__getitem__\u001b[0;34m(self, key)\u001b[0m\n\u001b[1;32m   3504\u001b[0m             \u001b[0;32mif\u001b[0m \u001b[0mself\u001b[0m\u001b[0;34m.\u001b[0m\u001b[0mcolumns\u001b[0m\u001b[0;34m.\u001b[0m\u001b[0mnlevels\u001b[0m \u001b[0;34m>\u001b[0m \u001b[0;36m1\u001b[0m\u001b[0;34m:\u001b[0m\u001b[0;34m\u001b[0m\u001b[0;34m\u001b[0m\u001b[0m\n\u001b[1;32m   3505\u001b[0m                 \u001b[0;32mreturn\u001b[0m \u001b[0mself\u001b[0m\u001b[0;34m.\u001b[0m\u001b[0m_getitem_multilevel\u001b[0m\u001b[0;34m(\u001b[0m\u001b[0mkey\u001b[0m\u001b[0;34m)\u001b[0m\u001b[0;34m\u001b[0m\u001b[0;34m\u001b[0m\u001b[0m\n\u001b[0;32m-> 3506\u001b[0;31m             \u001b[0mindexer\u001b[0m \u001b[0;34m=\u001b[0m \u001b[0mself\u001b[0m\u001b[0;34m.\u001b[0m\u001b[0mcolumns\u001b[0m\u001b[0;34m.\u001b[0m\u001b[0mget_loc\u001b[0m\u001b[0;34m(\u001b[0m\u001b[0mkey\u001b[0m\u001b[0;34m)\u001b[0m\u001b[0;34m\u001b[0m\u001b[0;34m\u001b[0m\u001b[0m\n\u001b[0m\u001b[1;32m   3507\u001b[0m             \u001b[0;32mif\u001b[0m \u001b[0mis_integer\u001b[0m\u001b[0;34m(\u001b[0m\u001b[0mindexer\u001b[0m\u001b[0;34m)\u001b[0m\u001b[0;34m:\u001b[0m\u001b[0;34m\u001b[0m\u001b[0;34m\u001b[0m\u001b[0m\n\u001b[1;32m   3508\u001b[0m                 \u001b[0mindexer\u001b[0m \u001b[0;34m=\u001b[0m \u001b[0;34m[\u001b[0m\u001b[0mindexer\u001b[0m\u001b[0;34m]\u001b[0m\u001b[0;34m\u001b[0m\u001b[0;34m\u001b[0m\u001b[0m\n",
      "\u001b[0;32m~/.local/lib/python3.10/site-packages/pandas/core/indexes/base.py\u001b[0m in \u001b[0;36mget_loc\u001b[0;34m(self, key, method, tolerance)\u001b[0m\n\u001b[1;32m   3621\u001b[0m                 \u001b[0;32mreturn\u001b[0m \u001b[0mself\u001b[0m\u001b[0;34m.\u001b[0m\u001b[0m_engine\u001b[0m\u001b[0;34m.\u001b[0m\u001b[0mget_loc\u001b[0m\u001b[0;34m(\u001b[0m\u001b[0mcasted_key\u001b[0m\u001b[0;34m)\u001b[0m\u001b[0;34m\u001b[0m\u001b[0;34m\u001b[0m\u001b[0m\n\u001b[1;32m   3622\u001b[0m             \u001b[0;32mexcept\u001b[0m \u001b[0mKeyError\u001b[0m \u001b[0;32mas\u001b[0m \u001b[0merr\u001b[0m\u001b[0;34m:\u001b[0m\u001b[0;34m\u001b[0m\u001b[0;34m\u001b[0m\u001b[0m\n\u001b[0;32m-> 3623\u001b[0;31m                 \u001b[0;32mraise\u001b[0m \u001b[0mKeyError\u001b[0m\u001b[0;34m(\u001b[0m\u001b[0mkey\u001b[0m\u001b[0;34m)\u001b[0m \u001b[0;32mfrom\u001b[0m \u001b[0merr\u001b[0m\u001b[0;34m\u001b[0m\u001b[0;34m\u001b[0m\u001b[0m\n\u001b[0m\u001b[1;32m   3624\u001b[0m             \u001b[0;32mexcept\u001b[0m \u001b[0mTypeError\u001b[0m\u001b[0;34m:\u001b[0m\u001b[0;34m\u001b[0m\u001b[0;34m\u001b[0m\u001b[0m\n\u001b[1;32m   3625\u001b[0m                 \u001b[0;31m# If we have a listlike key, _check_indexing_error will raise\u001b[0m\u001b[0;34m\u001b[0m\u001b[0;34m\u001b[0m\u001b[0m\n",
      "\u001b[0;31mKeyError\u001b[0m: 0"
     ]
    }
   ],
   "source": []
  },
  {
   "cell_type": "code",
   "execution_count": null,
   "id": "b8731e27-76ef-4a0a-a3f0-f8c4621e5062",
   "metadata": {},
   "outputs": [],
   "source": []
  }
 ],
 "metadata": {
  "kernelspec": {
   "display_name": "Python 3 (ipykernel)",
   "language": "python",
   "name": "python3"
  },
  "language_info": {
   "codemirror_mode": {
    "name": "ipython",
    "version": 3
   },
   "file_extension": ".py",
   "mimetype": "text/x-python",
   "name": "python",
   "nbconvert_exporter": "python",
   "pygments_lexer": "ipython3",
   "version": "3.10.2"
  }
 },
 "nbformat": 4,
 "nbformat_minor": 5
}
